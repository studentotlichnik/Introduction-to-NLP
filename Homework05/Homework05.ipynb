{
  "nbformat": 4,
  "nbformat_minor": 0,
  "metadata": {
    "colab": {
      "name": "Untitled7.ipynb",
      "provenance": [],
      "toc_visible": true
    },
    "kernelspec": {
      "name": "python3",
      "display_name": "Python 3"
    },
    "accelerator": "GPU"
  },
  "cells": [
    {
      "cell_type": "markdown",
      "metadata": {
        "id": "LCdv-yx8E74N"
      },
      "source": [
        "# Домашнее задание 5"
      ]
    },
    {
      "cell_type": "markdown",
      "metadata": {
        "id": "Yt41lXxhFAwx"
      },
      "source": [
        "Берем отызывы за лето (из архива с материалами или предыдущего занятия)\n",
        "1. Учим conv сеть для классификации - выбить auc выше 0.95\n",
        "2. Предобучаем word2vec и его эмбединга инициализируем сетку, как влияет на качество?"
      ]
    },
    {
      "cell_type": "markdown",
      "metadata": {
        "id": "EOfVaOTFud_G"
      },
      "source": [
        "Инсталлируем библиотеки"
      ]
    },
    {
      "cell_type": "code",
      "metadata": {
        "id": "23EbMGVuFQ2J",
        "outputId": "df3b0a1a-80f9-4143-d810-d37ad4e92fed",
        "colab": {
          "base_uri": "https://localhost:8080/"
        }
      },
      "source": [
        "!pip install stop_words"
      ],
      "execution_count": 1,
      "outputs": [
        {
          "output_type": "stream",
          "text": [
            "Requirement already satisfied: stop_words in /usr/local/lib/python3.6/dist-packages (2018.7.23)\n"
          ],
          "name": "stdout"
        }
      ]
    },
    {
      "cell_type": "code",
      "metadata": {
        "id": "JK8e-w-KFXe7",
        "outputId": "75e8d8f0-77a3-43d9-9d5a-7f6c525ec03d",
        "colab": {
          "base_uri": "https://localhost:8080/"
        }
      },
      "source": [
        "!pip install pymorphy2"
      ],
      "execution_count": 2,
      "outputs": [
        {
          "output_type": "stream",
          "text": [
            "Requirement already satisfied: pymorphy2 in /usr/local/lib/python3.6/dist-packages (0.9.1)\n",
            "Requirement already satisfied: dawg-python>=0.7.1 in /usr/local/lib/python3.6/dist-packages (from pymorphy2) (0.7.2)\n",
            "Requirement already satisfied: docopt>=0.6 in /usr/local/lib/python3.6/dist-packages (from pymorphy2) (0.6.2)\n",
            "Requirement already satisfied: pymorphy2-dicts-ru<3.0,>=2.4 in /usr/local/lib/python3.6/dist-packages (from pymorphy2) (2.4.417127.4579844)\n"
          ],
          "name": "stdout"
        }
      ]
    },
    {
      "cell_type": "markdown",
      "metadata": {
        "id": "3K1aD7aRul9b"
      },
      "source": [
        "Подключим библиотеки"
      ]
    },
    {
      "cell_type": "code",
      "metadata": {
        "id": "azzloMdRE6hb"
      },
      "source": [
        "import pandas as pd\n",
        "import numpy as np\n",
        "\n",
        "import nltk"
      ],
      "execution_count": 3,
      "outputs": []
    },
    {
      "cell_type": "markdown",
      "metadata": {
        "id": "SFUkrwWVuwWb"
      },
      "source": [
        "Скачаем данные"
      ]
    },
    {
      "cell_type": "code",
      "metadata": {
        "id": "XVtSj1tOFcmw",
        "outputId": "3261fb27-7bc4-4ce2-9dd0-e56168afd049",
        "colab": {
          "base_uri": "https://localhost:8080/"
        }
      },
      "source": [
        "nltk.download(\"punkt\")"
      ],
      "execution_count": 4,
      "outputs": [
        {
          "output_type": "stream",
          "text": [
            "[nltk_data] Downloading package punkt to /root/nltk_data...\n",
            "[nltk_data]   Package punkt is already up-to-date!\n"
          ],
          "name": "stdout"
        },
        {
          "output_type": "execute_result",
          "data": {
            "text/plain": [
              "True"
            ]
          },
          "metadata": {
            "tags": []
          },
          "execution_count": 4
        }
      ]
    },
    {
      "cell_type": "markdown",
      "metadata": {
        "id": "66rJyRs9u6q8"
      },
      "source": [
        "Установим гиперпараметры"
      ]
    },
    {
      "cell_type": "code",
      "metadata": {
        "id": "7JLfZldOFcpT"
      },
      "source": [
        "max_words = 2000\n",
        "max_len = 50\n",
        "\n",
        "epochs = 200\n",
        "batch_size = 512"
      ],
      "execution_count": 5,
      "outputs": []
    },
    {
      "cell_type": "markdown",
      "metadata": {
        "id": "m1oiz_j7vNri"
      },
      "source": [
        "Считаем данные с диска"
      ]
    },
    {
      "cell_type": "code",
      "metadata": {
        "id": "S_oi6H8lFcS6"
      },
      "source": [
        "data = pd.read_excel(\"отзывы за лето.xls\", )"
      ],
      "execution_count": 6,
      "outputs": []
    },
    {
      "cell_type": "code",
      "metadata": {
        "id": "gSyE2en2FcNK",
        "outputId": "abbf9813-d74d-48ff-97e2-0c55fa958f5d",
        "colab": {
          "base_uri": "https://localhost:8080/",
          "height": 204
        }
      },
      "source": [
        "data.head()"
      ],
      "execution_count": 7,
      "outputs": [
        {
          "output_type": "execute_result",
          "data": {
            "text/html": [
              "<div>\n",
              "<style scoped>\n",
              "    .dataframe tbody tr th:only-of-type {\n",
              "        vertical-align: middle;\n",
              "    }\n",
              "\n",
              "    .dataframe tbody tr th {\n",
              "        vertical-align: top;\n",
              "    }\n",
              "\n",
              "    .dataframe thead th {\n",
              "        text-align: right;\n",
              "    }\n",
              "</style>\n",
              "<table border=\"1\" class=\"dataframe\">\n",
              "  <thead>\n",
              "    <tr style=\"text-align: right;\">\n",
              "      <th></th>\n",
              "      <th>Rating</th>\n",
              "      <th>Content</th>\n",
              "      <th>Date</th>\n",
              "    </tr>\n",
              "  </thead>\n",
              "  <tbody>\n",
              "    <tr>\n",
              "      <th>0</th>\n",
              "      <td>5</td>\n",
              "      <td>It just works!</td>\n",
              "      <td>2017-08-14</td>\n",
              "    </tr>\n",
              "    <tr>\n",
              "      <th>1</th>\n",
              "      <td>4</td>\n",
              "      <td>В целом удобноное приложение...из минусов хотя...</td>\n",
              "      <td>2017-08-14</td>\n",
              "    </tr>\n",
              "    <tr>\n",
              "      <th>2</th>\n",
              "      <td>5</td>\n",
              "      <td>Отлично все</td>\n",
              "      <td>2017-08-14</td>\n",
              "    </tr>\n",
              "    <tr>\n",
              "      <th>3</th>\n",
              "      <td>5</td>\n",
              "      <td>Стал зависать на 1% работы антивируса. Дальше ...</td>\n",
              "      <td>2017-08-14</td>\n",
              "    </tr>\n",
              "    <tr>\n",
              "      <th>4</th>\n",
              "      <td>5</td>\n",
              "      <td>Очень удобно, работает быстро.</td>\n",
              "      <td>2017-08-14</td>\n",
              "    </tr>\n",
              "  </tbody>\n",
              "</table>\n",
              "</div>"
            ],
            "text/plain": [
              "   Rating                                            Content        Date\n",
              "0       5                                     It just works!  2017-08-14\n",
              "1       4  В целом удобноное приложение...из минусов хотя...  2017-08-14\n",
              "2       5                                        Отлично все  2017-08-14\n",
              "3       5  Стал зависать на 1% работы антивируса. Дальше ...  2017-08-14\n",
              "4       5                     Очень удобно, работает быстро.  2017-08-14"
            ]
          },
          "metadata": {
            "tags": []
          },
          "execution_count": 7
        }
      ]
    },
    {
      "cell_type": "code",
      "metadata": {
        "id": "rbUGRYnC3SiF"
      },
      "source": [
        "import tensorflow as tf"
      ],
      "execution_count": 8,
      "outputs": []
    },
    {
      "cell_type": "code",
      "metadata": {
        "id": "WQZN01m1Fchh"
      },
      "source": [
        "if tf.__version__.startswith(\"1.\"):\n",
        "    val_acc_name = \"val_acc\"\n",
        "    acc_name = \"acc\"\n",
        "else:\n",
        "    val_acc_name = \"val_accuracy\"\n",
        "    acc_name = \"accuracy\""
      ],
      "execution_count": 9,
      "outputs": []
    },
    {
      "cell_type": "code",
      "metadata": {
        "id": "I8tZOemQ3cM6"
      },
      "source": [
        "from stop_words import get_stop_words\n",
        "from string import punctuation\n",
        "from pymorphy2 import MorphAnalyzer"
      ],
      "execution_count": 10,
      "outputs": []
    },
    {
      "cell_type": "code",
      "metadata": {
        "id": "n4x0UKHiFckJ"
      },
      "source": [
        "sw = set(get_stop_words(\"ru\"))\n",
        "exclude = set(punctuation)\n",
        "morpher = MorphAnalyzer()"
      ],
      "execution_count": 11,
      "outputs": []
    },
    {
      "cell_type": "code",
      "metadata": {
        "id": "UziS2PtmFcey"
      },
      "source": [
        "def preprocess_text(txt):\n",
        "    txt = str(txt)\n",
        "    txt = re.sub(r'( )+', \" \", re.sub(r'[^\\w\\s]', \" \", txt)).strip()\n",
        "    txt = \"\".join(c for c in txt if c not in exclude)\n",
        "    txt = txt.lower()\n",
        "    txt = [morpher.parse(word)[0].normal_form for word in txt.split() if word not in sw]\n",
        "    txt = \" \".join(txt)\n",
        "    txt = re.sub(\"\\sне\", \"не\", txt)\n",
        "    return txt"
      ],
      "execution_count": 12,
      "outputs": []
    },
    {
      "cell_type": "code",
      "metadata": {
        "id": "po4kiEn03nei"
      },
      "source": [
        "import re"
      ],
      "execution_count": 13,
      "outputs": []
    },
    {
      "cell_type": "code",
      "metadata": {
        "id": "65lC-Q3OFueC",
        "outputId": "868d100e-c299-4c9b-9359-eb69307a8e35",
        "colab": {
          "base_uri": "https://localhost:8080/"
        }
      },
      "source": [
        "text111 = data.iloc[12][\"Content\"]\n",
        "print(text111)\n",
        "preprocessed_text111 = preprocess_text(text111)\n",
        "print(type(preprocessed_text111))\n",
        "print(preprocessed_text111)"
      ],
      "execution_count": 14,
      "outputs": [
        {
          "output_type": "stream",
          "text": [
            "Не стартует без доступа к gps, sms, звонкам и адресной книге. Филиал фсб одним словом\n",
            "<class 'str'>\n",
            "стартовать доступ gps sms звонок адресный книга филиал фсб один слово\n"
          ],
          "name": "stdout"
        }
      ]
    },
    {
      "cell_type": "code",
      "metadata": {
        "id": "TGDg_lI9FulD",
        "outputId": "1c15864e-f391-45d3-d98a-0640303de57e",
        "colab": {
          "base_uri": "https://localhost:8080/"
        }
      },
      "source": [
        "data.Rating.unique()"
      ],
      "execution_count": 15,
      "outputs": [
        {
          "output_type": "execute_result",
          "data": {
            "text/plain": [
              "array([5, 4, 2, 3, 1])"
            ]
          },
          "metadata": {
            "tags": []
          },
          "execution_count": 15
        }
      ]
    },
    {
      "cell_type": "code",
      "metadata": {
        "id": "IyVZXzVhFutq",
        "outputId": "ac8455fa-2804-4cda-f6b9-a64c4468d746",
        "colab": {
          "base_uri": "https://localhost:8080/",
          "height": 204
        }
      },
      "source": [
        "data.Rating = data.Rating - 1\n",
        "data.head()"
      ],
      "execution_count": 16,
      "outputs": [
        {
          "output_type": "execute_result",
          "data": {
            "text/html": [
              "<div>\n",
              "<style scoped>\n",
              "    .dataframe tbody tr th:only-of-type {\n",
              "        vertical-align: middle;\n",
              "    }\n",
              "\n",
              "    .dataframe tbody tr th {\n",
              "        vertical-align: top;\n",
              "    }\n",
              "\n",
              "    .dataframe thead th {\n",
              "        text-align: right;\n",
              "    }\n",
              "</style>\n",
              "<table border=\"1\" class=\"dataframe\">\n",
              "  <thead>\n",
              "    <tr style=\"text-align: right;\">\n",
              "      <th></th>\n",
              "      <th>Rating</th>\n",
              "      <th>Content</th>\n",
              "      <th>Date</th>\n",
              "    </tr>\n",
              "  </thead>\n",
              "  <tbody>\n",
              "    <tr>\n",
              "      <th>0</th>\n",
              "      <td>4</td>\n",
              "      <td>It just works!</td>\n",
              "      <td>2017-08-14</td>\n",
              "    </tr>\n",
              "    <tr>\n",
              "      <th>1</th>\n",
              "      <td>3</td>\n",
              "      <td>В целом удобноное приложение...из минусов хотя...</td>\n",
              "      <td>2017-08-14</td>\n",
              "    </tr>\n",
              "    <tr>\n",
              "      <th>2</th>\n",
              "      <td>4</td>\n",
              "      <td>Отлично все</td>\n",
              "      <td>2017-08-14</td>\n",
              "    </tr>\n",
              "    <tr>\n",
              "      <th>3</th>\n",
              "      <td>4</td>\n",
              "      <td>Стал зависать на 1% работы антивируса. Дальше ...</td>\n",
              "      <td>2017-08-14</td>\n",
              "    </tr>\n",
              "    <tr>\n",
              "      <th>4</th>\n",
              "      <td>4</td>\n",
              "      <td>Очень удобно, работает быстро.</td>\n",
              "      <td>2017-08-14</td>\n",
              "    </tr>\n",
              "  </tbody>\n",
              "</table>\n",
              "</div>"
            ],
            "text/plain": [
              "   Rating                                            Content        Date\n",
              "0       4                                     It just works!  2017-08-14\n",
              "1       3  В целом удобноное приложение...из минусов хотя...  2017-08-14\n",
              "2       4                                        Отлично все  2017-08-14\n",
              "3       4  Стал зависать на 1% работы антивируса. Дальше ...  2017-08-14\n",
              "4       4                     Очень удобно, работает быстро.  2017-08-14"
            ]
          },
          "metadata": {
            "tags": []
          },
          "execution_count": 16
        }
      ]
    },
    {
      "cell_type": "code",
      "metadata": {
        "id": "tBrr1SkIFuq6",
        "outputId": "f271ee5a-1f77-4a62-bdb0-86f7ec8bbca3",
        "colab": {
          "base_uri": "https://localhost:8080/"
        }
      },
      "source": [
        "data.Rating.unique()"
      ],
      "execution_count": 17,
      "outputs": [
        {
          "output_type": "execute_result",
          "data": {
            "text/plain": [
              "array([4, 3, 1, 2, 0])"
            ]
          },
          "metadata": {
            "tags": []
          },
          "execution_count": 17
        }
      ]
    },
    {
      "cell_type": "code",
      "metadata": {
        "id": "7I-7zE3HFuhC"
      },
      "source": [
        "vfunc = np.vectorize(preprocess_text)"
      ],
      "execution_count": 18,
      "outputs": []
    },
    {
      "cell_type": "code",
      "metadata": {
        "id": "uW_QyiNwHuC6",
        "outputId": "286551a4-b064-4572-9243-12ccd6840845",
        "colab": {
          "base_uri": "https://localhost:8080/"
        }
      },
      "source": [
        "%%time\n",
        "data[\"text\"] = vfunc(data.Content)\n",
        "data.head()"
      ],
      "execution_count": 19,
      "outputs": [
        {
          "output_type": "stream",
          "text": [
            "CPU times: user 15.8 s, sys: 345 ms, total: 16.1 s\n",
            "Wall time: 16.1 s\n"
          ],
          "name": "stdout"
        }
      ]
    },
    {
      "cell_type": "code",
      "metadata": {
        "id": "ViWzhnIEHuIZ"
      },
      "source": [
        "train_corpus = \" \".join(data[\"text\"])\n",
        "train_corpus = train_corpus.lower()"
      ],
      "execution_count": 20,
      "outputs": []
    },
    {
      "cell_type": "code",
      "metadata": {
        "id": "BvUE-9O43zRG"
      },
      "source": [
        "from nltk.tokenize import word_tokenize"
      ],
      "execution_count": 21,
      "outputs": []
    },
    {
      "cell_type": "code",
      "metadata": {
        "id": "t-PCB_6eHuQm"
      },
      "source": [
        "tokens = word_tokenize(train_corpus)"
      ],
      "execution_count": 22,
      "outputs": []
    },
    {
      "cell_type": "code",
      "metadata": {
        "id": "l2o6q0ymHuV7"
      },
      "source": [
        "tokens_filtered = [word for word in tokens if word.isalnum()]"
      ],
      "execution_count": 23,
      "outputs": []
    },
    {
      "cell_type": "code",
      "metadata": {
        "id": "v5TChW0l36FC"
      },
      "source": [
        "from nltk.probability import FreqDist"
      ],
      "execution_count": 24,
      "outputs": []
    },
    {
      "cell_type": "code",
      "metadata": {
        "id": "pyjYJPijHuS_"
      },
      "source": [
        "dist = FreqDist(tokens_filtered)\n",
        "tokens_filtered_top = [pair[0] for pair in dist.most_common(max_words-1)]"
      ],
      "execution_count": 25,
      "outputs": []
    },
    {
      "cell_type": "code",
      "metadata": {
        "id": "OfEAmpevxMgw",
        "outputId": "d8326ccf-c557-4e6f-de63-995d6d3b3699",
        "colab": {
          "base_uri": "https://localhost:8080/"
        }
      },
      "source": [
        "len(tokens_filtered_top)"
      ],
      "execution_count": 26,
      "outputs": [
        {
          "output_type": "execute_result",
          "data": {
            "text/plain": [
              "1999"
            ]
          },
          "metadata": {
            "tags": []
          },
          "execution_count": 26
        }
      ]
    },
    {
      "cell_type": "code",
      "metadata": {
        "id": "IJJ1hx7wHuNu",
        "outputId": "2e9b1e0a-1c0f-4113-e928-05cc108c7142",
        "colab": {
          "base_uri": "https://localhost:8080/"
        }
      },
      "source": [
        "tokens_filtered_top[:20]"
      ],
      "execution_count": 27,
      "outputs": [
        {
          "output_type": "execute_result",
          "data": {
            "text/plain": [
              "['приложение',\n",
              " 'удобно',\n",
              " 'работать',\n",
              " 'удобный',\n",
              " 'отлично',\n",
              " 'нравиться',\n",
              " 'хороший',\n",
              " 'телефон',\n",
              " 'отличный',\n",
              " 'супер',\n",
              " 'обновление',\n",
              " 'быстро',\n",
              " 'пароль',\n",
              " 'банк',\n",
              " 'пользоваться',\n",
              " 'мочь',\n",
              " 'антивирус',\n",
              " 'сбербанк',\n",
              " 'раз',\n",
              " 'устраивать']"
            ]
          },
          "metadata": {
            "tags": []
          },
          "execution_count": 27
        }
      ]
    },
    {
      "cell_type": "code",
      "metadata": {
        "id": "fo78sh90HuF4"
      },
      "source": [
        "vocabulary = {v: k for k, v in dict(enumerate(tokens_filtered_top, 1)).items()}"
      ],
      "execution_count": 28,
      "outputs": []
    },
    {
      "cell_type": "code",
      "metadata": {
        "id": "WnhNv1BkHuAH"
      },
      "source": [
        "def text_to_sequence(text, maxlen):\n",
        "    result = []\n",
        "    tokens = word_tokenize(text.lower())\n",
        "    tokens_filtered = [word for word in tokens if word.isalnum()]\n",
        "    for word in tokens_filtered:\n",
        "        if word in vocabulary:\n",
        "            result.append(vocabulary[word])\n",
        "    padding = [0]*(maxlen-len(result))\n",
        "    return padding + result[-maxlen:]"
      ],
      "execution_count": 29,
      "outputs": []
    },
    {
      "cell_type": "code",
      "metadata": {
        "id": "oMh1kDBBFubS"
      },
      "source": [
        "x_train = np.asarray([text_to_sequence(text, max_len) for text in data[\"text\"]], dtype=np.int32)"
      ],
      "execution_count": 30,
      "outputs": []
    },
    {
      "cell_type": "code",
      "metadata": {
        "id": "eAQMRwgmIG68",
        "outputId": "dc3ebb29-00b0-4d75-8384-061e581c682e",
        "colab": {
          "base_uri": "https://localhost:8080/"
        }
      },
      "source": [
        "x_train[1]"
      ],
      "execution_count": 31,
      "outputs": [
        {
          "output_type": "execute_result",
          "data": {
            "text/plain": [
              "array([   0,    0,    0,    0,    0,    0,    0,    0,    0,    0,    0,\n",
              "          0,    0,    0,    0,    0,    0,    0,    0,    0,    0,    0,\n",
              "          0,    0,    0,    0,    0,    0,    0,    0,    0,    0,    0,\n",
              "          0,    0,    0,    0,   97,    1,  125,  175,  112,   68, 1348,\n",
              "        397,    8,   34,   15,  563,  441], dtype=int32)"
            ]
          },
          "metadata": {
            "tags": []
          },
          "execution_count": 31
        }
      ]
    },
    {
      "cell_type": "code",
      "metadata": {
        "id": "L3jwVQXpIHA0",
        "outputId": "a8798cd8-e1a0-46c4-a622-2eb4a07f9f6b",
        "colab": {
          "base_uri": "https://localhost:8080/"
        }
      },
      "source": [
        "data[\"Rating\"].unique()"
      ],
      "execution_count": 32,
      "outputs": [
        {
          "output_type": "execute_result",
          "data": {
            "text/plain": [
              "array([4, 3, 1, 2, 0])"
            ]
          },
          "metadata": {
            "tags": []
          },
          "execution_count": 32
        }
      ]
    },
    {
      "cell_type": "code",
      "metadata": {
        "id": "rwJ2tfp9IHH3",
        "outputId": "c3112bb5-ec43-45bf-af3e-d0ff0ab0c3ae",
        "colab": {
          "base_uri": "https://localhost:8080/"
        }
      },
      "source": [
        "num_classes = len(data[\"Rating\"].unique())\n",
        "num_classes"
      ],
      "execution_count": 33,
      "outputs": [
        {
          "output_type": "execute_result",
          "data": {
            "text/plain": [
              "5"
            ]
          },
          "metadata": {
            "tags": []
          },
          "execution_count": 33
        }
      ]
    },
    {
      "cell_type": "code",
      "metadata": {
        "id": "Li7y9CBQ4C0p"
      },
      "source": [
        "from tensorflow import keras"
      ],
      "execution_count": 34,
      "outputs": []
    },
    {
      "cell_type": "code",
      "metadata": {
        "id": "JWUV5VZuIHVd"
      },
      "source": [
        "y_train = keras.utils.to_categorical(data[\"Rating\"], num_classes)"
      ],
      "execution_count": 35,
      "outputs": []
    },
    {
      "cell_type": "code",
      "metadata": {
        "id": "FnOCGc7sIHYb"
      },
      "source": [
        "keras.backend.clear_session()\n",
        "\n",
        "embed_vec_len = 50\n",
        "\n",
        "X_input = tf.keras.layers.Input(shape=(max_len,), name=\"X\")\n",
        "Embed_ = tf.keras.layers.Embedding(input_dim=max_words, output_dim=embed_vec_len, name=\"Embed_\")(X_input)\n",
        "Conv1_ = tf.keras.layers.Conv1D(filters=embed_vec_len*10, kernel_size=5, activation=\"relu\", name=\"Conv1_\")(Embed_)\n",
        "GlobMaxPool1_ = tf.keras.layers.GlobalMaxPool1D(name=\"GlobMaxPool1\")(Conv1_)\n",
        "Drop1_ = tf.keras.layers.Dropout(0.6)(GlobMaxPool1_)\n",
        "Dense1_ = tf.keras.layers.Dense(32, activation=\"relu\", name=\"Dense1_\")(Drop1_)\n",
        "Drop2_ = tf.keras.layers.Dropout(0.6)(Dense1_)\n",
        "Dense2_ = tf.keras.layers.Dense(32, activation=\"relu\", name=\"Dense2_\")(Drop2_)\n",
        "Drop3_ = tf.keras.layers.Dropout(0.6)(Dense2_)\n",
        "Dense3_ = tf.keras.layers.Dense(32, activation=\"relu\", name=\"Dense3_\")(Drop3_)\n",
        "Drop4_ = tf.keras.layers.Dropout(0.6)(Dense3_)\n",
        "Dense4_ = tf.keras.layers.Dense(32, activation=\"relu\", name=\"Dense4_\")(Drop4_)\n",
        "Drop5_ = tf.keras.layers.Dropout(0.75)(Dense4_)\n",
        "y_output = tf.keras.layers.Dense(num_classes, activation=\"softmax\", name=\"y\")(Drop5_)\n",
        "\n",
        "model = tf.keras.models.Model(inputs=[X_input], outputs=[y_output], name=\"my_model\")\n",
        "model.compile(loss='categorical_crossentropy',\n",
        "              optimizer='adam',\n",
        "              metrics=['accuracy'])"
      ],
      "execution_count": 36,
      "outputs": []
    },
    {
      "cell_type": "code",
      "metadata": {
        "id": "2NTcS91zIHKY",
        "outputId": "17da2fa8-612b-4873-8973-965ed531fe99",
        "colab": {
          "base_uri": "https://localhost:8080/"
        }
      },
      "source": [
        "model.summary()"
      ],
      "execution_count": 37,
      "outputs": [
        {
          "output_type": "stream",
          "text": [
            "Model: \"my_model\"\n",
            "_________________________________________________________________\n",
            "Layer (type)                 Output Shape              Param #   \n",
            "=================================================================\n",
            "X (InputLayer)               [(None, 50)]              0         \n",
            "_________________________________________________________________\n",
            "Embed_ (Embedding)           (None, 50, 50)            100000    \n",
            "_________________________________________________________________\n",
            "Conv1_ (Conv1D)              (None, 46, 500)           125500    \n",
            "_________________________________________________________________\n",
            "GlobMaxPool1 (GlobalMaxPooli (None, 500)               0         \n",
            "_________________________________________________________________\n",
            "dropout (Dropout)            (None, 500)               0         \n",
            "_________________________________________________________________\n",
            "Dense1_ (Dense)              (None, 32)                16032     \n",
            "_________________________________________________________________\n",
            "dropout_1 (Dropout)          (None, 32)                0         \n",
            "_________________________________________________________________\n",
            "Dense2_ (Dense)              (None, 32)                1056      \n",
            "_________________________________________________________________\n",
            "dropout_2 (Dropout)          (None, 32)                0         \n",
            "_________________________________________________________________\n",
            "Dense3_ (Dense)              (None, 32)                1056      \n",
            "_________________________________________________________________\n",
            "dropout_3 (Dropout)          (None, 32)                0         \n",
            "_________________________________________________________________\n",
            "Dense4_ (Dense)              (None, 32)                1056      \n",
            "_________________________________________________________________\n",
            "dropout_4 (Dropout)          (None, 32)                0         \n",
            "_________________________________________________________________\n",
            "y (Dense)                    (None, 5)                 165       \n",
            "=================================================================\n",
            "Total params: 244,865\n",
            "Trainable params: 244,865\n",
            "Non-trainable params: 0\n",
            "_________________________________________________________________\n"
          ],
          "name": "stdout"
        }
      ]
    },
    {
      "cell_type": "code",
      "metadata": {
        "id": "FtBsOtPkIHFW",
        "outputId": "5b900759-31b4-4386-b81d-0d931ca19e65",
        "colab": {
          "base_uri": "https://localhost:8080/",
          "height": 1000
        }
      },
      "source": [
        "tf.keras.utils.plot_model(model)"
      ],
      "execution_count": 38,
      "outputs": [
        {
          "output_type": "execute_result",
          "data": {
            "image/png": "[encoded data removed]",
            "text/plain": [
              "<IPython.core.display.Image object>"
            ]
          },
          "metadata": {
            "tags": []
          },
          "execution_count": 38
        }
      ]
    },
    {
      "cell_type": "code",
      "metadata": {
        "id": "Fc7QHlCiIHDQ",
        "outputId": "5a90508f-a707-4b29-9600-0b8ece3592cb",
        "colab": {
          "base_uri": "https://localhost:8080/"
        }
      },
      "source": [
        "history = model.fit(x_train, y_train,\n",
        "                    batch_size=batch_size,\n",
        "                    epochs=epochs,\n",
        "                    verbose=1,\n",
        "                    validation_split=0.1,\n",
        "                    )"
      ],
      "execution_count": 39,
      "outputs": [
        {
          "output_type": "stream",
          "text": [
            "Epoch 1/200\n",
            "37/37 [==============================] - 1s 31ms/step - loss: 1.4334 - accuracy: 0.4362 - val_loss: 1.2422 - val_accuracy: 0.5954\n",
            "Epoch 2/200\n",
            "37/37 [==============================] - 1s 17ms/step - loss: 1.1122 - accuracy: 0.6529 - val_loss: 0.9906 - val_accuracy: 0.5954\n",
            "Epoch 3/200\n",
            "37/37 [==============================] - 1s 17ms/step - loss: 0.9394 - accuracy: 0.6960 - val_loss: 0.9447 - val_accuracy: 0.5954\n",
            "Epoch 4/200\n",
            "37/37 [==============================] - 1s 17ms/step - loss: 0.8621 - accuracy: 0.7067 - val_loss: 0.9273 - val_accuracy: 0.5954\n",
            "Epoch 5/200\n",
            "37/37 [==============================] - 1s 17ms/step - loss: 0.8208 - accuracy: 0.7119 - val_loss: 0.9127 - val_accuracy: 0.5954\n",
            "Epoch 6/200\n",
            "37/37 [==============================] - 1s 17ms/step - loss: 0.7792 - accuracy: 0.7151 - val_loss: 0.9094 - val_accuracy: 0.5954\n",
            "Epoch 7/200\n",
            "37/37 [==============================] - 1s 17ms/step - loss: 0.7600 - accuracy: 0.7154 - val_loss: 0.9167 - val_accuracy: 0.5954\n",
            "Epoch 8/200\n",
            "37/37 [==============================] - 1s 17ms/step - loss: 0.7476 - accuracy: 0.7162 - val_loss: 0.9079 - val_accuracy: 0.5954\n",
            "Epoch 9/200\n",
            "37/37 [==============================] - 1s 17ms/step - loss: 0.7373 - accuracy: 0.7169 - val_loss: 0.9101 - val_accuracy: 0.5954\n",
            "Epoch 10/200\n",
            "37/37 [==============================] - 1s 17ms/step - loss: 0.7206 - accuracy: 0.7175 - val_loss: 0.9193 - val_accuracy: 0.5954\n",
            "Epoch 11/200\n",
            "37/37 [==============================] - 1s 17ms/step - loss: 0.7093 - accuracy: 0.7176 - val_loss: 0.9255 - val_accuracy: 0.5954\n",
            "Epoch 12/200\n",
            "37/37 [==============================] - 1s 17ms/step - loss: 0.7018 - accuracy: 0.7173 - val_loss: 0.9198 - val_accuracy: 0.5954\n",
            "Epoch 13/200\n",
            "37/37 [==============================] - 1s 17ms/step - loss: 0.6967 - accuracy: 0.7176 - val_loss: 0.9303 - val_accuracy: 0.5954\n",
            "Epoch 14/200\n",
            "37/37 [==============================] - 1s 17ms/step - loss: 0.6938 - accuracy: 0.7180 - val_loss: 0.9292 - val_accuracy: 0.5954\n",
            "Epoch 15/200\n",
            "37/37 [==============================] - 1s 17ms/step - loss: 0.6845 - accuracy: 0.7328 - val_loss: 0.9385 - val_accuracy: 0.5954\n",
            "Epoch 16/200\n",
            "37/37 [==============================] - 1s 17ms/step - loss: 0.6897 - accuracy: 0.7408 - val_loss: 0.9504 - val_accuracy: 0.5954\n",
            "Epoch 17/200\n",
            "37/37 [==============================] - 1s 17ms/step - loss: 0.6802 - accuracy: 0.7487 - val_loss: 0.9639 - val_accuracy: 0.7439\n",
            "Epoch 18/200\n",
            "37/37 [==============================] - 1s 17ms/step - loss: 0.6732 - accuracy: 0.7652 - val_loss: 0.9480 - val_accuracy: 0.7435\n",
            "Epoch 19/200\n",
            "37/37 [==============================] - 1s 17ms/step - loss: 0.6716 - accuracy: 0.7725 - val_loss: 0.9596 - val_accuracy: 0.7435\n",
            "Epoch 20/200\n",
            "37/37 [==============================] - 1s 17ms/step - loss: 0.6666 - accuracy: 0.7788 - val_loss: 0.9719 - val_accuracy: 0.7396\n",
            "Epoch 21/200\n",
            "37/37 [==============================] - 1s 17ms/step - loss: 0.6694 - accuracy: 0.7789 - val_loss: 0.9901 - val_accuracy: 0.7420\n",
            "Epoch 22/200\n",
            "37/37 [==============================] - 1s 17ms/step - loss: 0.6616 - accuracy: 0.7789 - val_loss: 1.0068 - val_accuracy: 0.7435\n",
            "Epoch 23/200\n",
            "37/37 [==============================] - 1s 17ms/step - loss: 0.6596 - accuracy: 0.7798 - val_loss: 1.0016 - val_accuracy: 0.7391\n",
            "Epoch 24/200\n",
            "37/37 [==============================] - 1s 17ms/step - loss: 0.6517 - accuracy: 0.7806 - val_loss: 1.0112 - val_accuracy: 0.7381\n",
            "Epoch 25/200\n",
            "37/37 [==============================] - 1s 17ms/step - loss: 0.6591 - accuracy: 0.7803 - val_loss: 1.0125 - val_accuracy: 0.7406\n",
            "Epoch 26/200\n",
            "37/37 [==============================] - 1s 17ms/step - loss: 0.6522 - accuracy: 0.7806 - val_loss: 1.0516 - val_accuracy: 0.7410\n",
            "Epoch 27/200\n",
            "37/37 [==============================] - 1s 17ms/step - loss: 0.6467 - accuracy: 0.7816 - val_loss: 1.0189 - val_accuracy: 0.7425\n",
            "Epoch 28/200\n",
            "37/37 [==============================] - 1s 17ms/step - loss: 0.6432 - accuracy: 0.7827 - val_loss: 1.0487 - val_accuracy: 0.7391\n",
            "Epoch 29/200\n",
            "37/37 [==============================] - 1s 17ms/step - loss: 0.6439 - accuracy: 0.7829 - val_loss: 1.0298 - val_accuracy: 0.7377\n",
            "Epoch 30/200\n",
            "37/37 [==============================] - 1s 17ms/step - loss: 0.6421 - accuracy: 0.7827 - val_loss: 1.0496 - val_accuracy: 0.7391\n",
            "Epoch 31/200\n",
            "37/37 [==============================] - 1s 17ms/step - loss: 0.6421 - accuracy: 0.7825 - val_loss: 1.0702 - val_accuracy: 0.7367\n",
            "Epoch 32/200\n",
            "37/37 [==============================] - 1s 17ms/step - loss: 0.6425 - accuracy: 0.7832 - val_loss: 1.0372 - val_accuracy: 0.7348\n",
            "Epoch 33/200\n",
            "37/37 [==============================] - 1s 17ms/step - loss: 0.6407 - accuracy: 0.7833 - val_loss: 1.0434 - val_accuracy: 0.7410\n",
            "Epoch 34/200\n",
            "37/37 [==============================] - 1s 17ms/step - loss: 0.6418 - accuracy: 0.7840 - val_loss: 0.9971 - val_accuracy: 0.7386\n",
            "Epoch 35/200\n",
            "37/37 [==============================] - 1s 17ms/step - loss: 0.6394 - accuracy: 0.7832 - val_loss: 1.0723 - val_accuracy: 0.7415\n",
            "Epoch 36/200\n",
            "37/37 [==============================] - 1s 17ms/step - loss: 0.6335 - accuracy: 0.7835 - val_loss: 1.0394 - val_accuracy: 0.7430\n",
            "Epoch 37/200\n",
            "37/37 [==============================] - 1s 17ms/step - loss: 0.6340 - accuracy: 0.7843 - val_loss: 1.1119 - val_accuracy: 0.7435\n",
            "Epoch 38/200\n",
            "37/37 [==============================] - 1s 17ms/step - loss: 0.6357 - accuracy: 0.7844 - val_loss: 1.0618 - val_accuracy: 0.7425\n",
            "Epoch 39/200\n",
            "37/37 [==============================] - 1s 17ms/step - loss: 0.6306 - accuracy: 0.7847 - val_loss: 1.1481 - val_accuracy: 0.7444\n",
            "Epoch 40/200\n",
            "37/37 [==============================] - 1s 17ms/step - loss: 0.6226 - accuracy: 0.7853 - val_loss: 1.0812 - val_accuracy: 0.7430\n",
            "Epoch 41/200\n",
            "37/37 [==============================] - 1s 17ms/step - loss: 0.6235 - accuracy: 0.7868 - val_loss: 1.0883 - val_accuracy: 0.7381\n",
            "Epoch 42/200\n",
            "37/37 [==============================] - 1s 17ms/step - loss: 0.6238 - accuracy: 0.7863 - val_loss: 1.1095 - val_accuracy: 0.7415\n",
            "Epoch 43/200\n",
            "37/37 [==============================] - 1s 17ms/step - loss: 0.6241 - accuracy: 0.7863 - val_loss: 1.1577 - val_accuracy: 0.7425\n",
            "Epoch 44/200\n",
            "37/37 [==============================] - 1s 17ms/step - loss: 0.6276 - accuracy: 0.7866 - val_loss: 1.1471 - val_accuracy: 0.7410\n",
            "Epoch 45/200\n",
            "37/37 [==============================] - 1s 17ms/step - loss: 0.6222 - accuracy: 0.7865 - val_loss: 1.1155 - val_accuracy: 0.7430\n",
            "Epoch 46/200\n",
            "37/37 [==============================] - 1s 17ms/step - loss: 0.6199 - accuracy: 0.7868 - val_loss: 1.1996 - val_accuracy: 0.7444\n",
            "Epoch 47/200\n",
            "37/37 [==============================] - 1s 17ms/step - loss: 0.6150 - accuracy: 0.7869 - val_loss: 1.1464 - val_accuracy: 0.7430\n",
            "Epoch 48/200\n",
            "37/37 [==============================] - 1s 17ms/step - loss: 0.6215 - accuracy: 0.7870 - val_loss: 1.2101 - val_accuracy: 0.7435\n",
            "Epoch 49/200\n",
            "37/37 [==============================] - 1s 17ms/step - loss: 0.6204 - accuracy: 0.7871 - val_loss: 1.1645 - val_accuracy: 0.7415\n",
            "Epoch 50/200\n",
            "37/37 [==============================] - 1s 17ms/step - loss: 0.6180 - accuracy: 0.7872 - val_loss: 1.2497 - val_accuracy: 0.7401\n",
            "Epoch 51/200\n",
            "37/37 [==============================] - 1s 17ms/step - loss: 0.6135 - accuracy: 0.7869 - val_loss: 1.2356 - val_accuracy: 0.7372\n",
            "Epoch 52/200\n",
            "37/37 [==============================] - 1s 17ms/step - loss: 0.6151 - accuracy: 0.7872 - val_loss: 1.2583 - val_accuracy: 0.7406\n",
            "Epoch 53/200\n",
            "37/37 [==============================] - 1s 17ms/step - loss: 0.6136 - accuracy: 0.7876 - val_loss: 1.2360 - val_accuracy: 0.7401\n",
            "Epoch 54/200\n",
            "37/37 [==============================] - 1s 18ms/step - loss: 0.6199 - accuracy: 0.7869 - val_loss: 1.2292 - val_accuracy: 0.7410\n",
            "Epoch 55/200\n",
            "37/37 [==============================] - 1s 17ms/step - loss: 0.6143 - accuracy: 0.7877 - val_loss: 1.1760 - val_accuracy: 0.7415\n",
            "Epoch 56/200\n",
            "37/37 [==============================] - 1s 17ms/step - loss: 0.6204 - accuracy: 0.7873 - val_loss: 1.2209 - val_accuracy: 0.7430\n",
            "Epoch 57/200\n",
            "37/37 [==============================] - 1s 17ms/step - loss: 0.6150 - accuracy: 0.7869 - val_loss: 1.1806 - val_accuracy: 0.7391\n",
            "Epoch 58/200\n",
            "37/37 [==============================] - 1s 17ms/step - loss: 0.6139 - accuracy: 0.7880 - val_loss: 1.1692 - val_accuracy: 0.7420\n",
            "Epoch 59/200\n",
            "37/37 [==============================] - 1s 17ms/step - loss: 0.6129 - accuracy: 0.7875 - val_loss: 1.2799 - val_accuracy: 0.7420\n",
            "Epoch 60/200\n",
            "37/37 [==============================] - 1s 18ms/step - loss: 0.6104 - accuracy: 0.7878 - val_loss: 1.1807 - val_accuracy: 0.7401\n",
            "Epoch 61/200\n",
            "37/37 [==============================] - 1s 17ms/step - loss: 0.6134 - accuracy: 0.7883 - val_loss: 1.2637 - val_accuracy: 0.7406\n",
            "Epoch 62/200\n",
            "37/37 [==============================] - 1s 17ms/step - loss: 0.6098 - accuracy: 0.7883 - val_loss: 1.3061 - val_accuracy: 0.7420\n",
            "Epoch 63/200\n",
            "37/37 [==============================] - 1s 17ms/step - loss: 0.6131 - accuracy: 0.7882 - val_loss: 1.2048 - val_accuracy: 0.7415\n",
            "Epoch 64/200\n",
            "37/37 [==============================] - 1s 17ms/step - loss: 0.6041 - accuracy: 0.7891 - val_loss: 1.2626 - val_accuracy: 0.7425\n",
            "Epoch 65/200\n",
            "37/37 [==============================] - 1s 17ms/step - loss: 0.6057 - accuracy: 0.7886 - val_loss: 1.3129 - val_accuracy: 0.7430\n",
            "Epoch 66/200\n",
            "37/37 [==============================] - 1s 17ms/step - loss: 0.6073 - accuracy: 0.7883 - val_loss: 1.2602 - val_accuracy: 0.7415\n",
            "Epoch 67/200\n",
            "37/37 [==============================] - 1s 17ms/step - loss: 0.6102 - accuracy: 0.7881 - val_loss: 1.2258 - val_accuracy: 0.7386\n",
            "Epoch 68/200\n",
            "37/37 [==============================] - 1s 17ms/step - loss: 0.6072 - accuracy: 0.7889 - val_loss: 1.3068 - val_accuracy: 0.7430\n",
            "Epoch 69/200\n",
            "37/37 [==============================] - 1s 18ms/step - loss: 0.6041 - accuracy: 0.7888 - val_loss: 1.2650 - val_accuracy: 0.7386\n",
            "Epoch 70/200\n",
            "37/37 [==============================] - 1s 17ms/step - loss: 0.6047 - accuracy: 0.7899 - val_loss: 1.2973 - val_accuracy: 0.7430\n",
            "Epoch 71/200\n",
            "37/37 [==============================] - 1s 17ms/step - loss: 0.5981 - accuracy: 0.7894 - val_loss: 1.3542 - val_accuracy: 0.7444\n",
            "Epoch 72/200\n",
            "37/37 [==============================] - 1s 17ms/step - loss: 0.6049 - accuracy: 0.7890 - val_loss: 1.3499 - val_accuracy: 0.7430\n",
            "Epoch 73/200\n",
            "37/37 [==============================] - 1s 17ms/step - loss: 0.6064 - accuracy: 0.7892 - val_loss: 1.3633 - val_accuracy: 0.7439\n",
            "Epoch 74/200\n",
            "37/37 [==============================] - 1s 17ms/step - loss: 0.6065 - accuracy: 0.7889 - val_loss: 1.3071 - val_accuracy: 0.7415\n",
            "Epoch 75/200\n",
            "37/37 [==============================] - 1s 17ms/step - loss: 0.6025 - accuracy: 0.7901 - val_loss: 1.3453 - val_accuracy: 0.7435\n",
            "Epoch 76/200\n",
            "37/37 [==============================] - 1s 18ms/step - loss: 0.6014 - accuracy: 0.7895 - val_loss: 1.3804 - val_accuracy: 0.7435\n",
            "Epoch 77/200\n",
            "37/37 [==============================] - 1s 18ms/step - loss: 0.5956 - accuracy: 0.7904 - val_loss: 1.2838 - val_accuracy: 0.7454\n",
            "Epoch 78/200\n",
            "37/37 [==============================] - 1s 17ms/step - loss: 0.6000 - accuracy: 0.7893 - val_loss: 1.4967 - val_accuracy: 0.7469\n",
            "Epoch 79/200\n",
            "37/37 [==============================] - 1s 17ms/step - loss: 0.6089 - accuracy: 0.7887 - val_loss: 1.3541 - val_accuracy: 0.7439\n",
            "Epoch 80/200\n",
            "37/37 [==============================] - 1s 18ms/step - loss: 0.6002 - accuracy: 0.7897 - val_loss: 1.3809 - val_accuracy: 0.7420\n",
            "Epoch 81/200\n",
            "37/37 [==============================] - 1s 18ms/step - loss: 0.5988 - accuracy: 0.7902 - val_loss: 1.3217 - val_accuracy: 0.7439\n",
            "Epoch 82/200\n",
            "37/37 [==============================] - 1s 17ms/step - loss: 0.6050 - accuracy: 0.7895 - val_loss: 1.3413 - val_accuracy: 0.7439\n",
            "Epoch 83/200\n",
            "37/37 [==============================] - 1s 18ms/step - loss: 0.5991 - accuracy: 0.7902 - val_loss: 1.4292 - val_accuracy: 0.7449\n",
            "Epoch 84/200\n",
            "37/37 [==============================] - 1s 18ms/step - loss: 0.5992 - accuracy: 0.7905 - val_loss: 1.3500 - val_accuracy: 0.7435\n",
            "Epoch 85/200\n",
            "37/37 [==============================] - 1s 18ms/step - loss: 0.5996 - accuracy: 0.7897 - val_loss: 1.4604 - val_accuracy: 0.7425\n",
            "Epoch 86/200\n",
            "37/37 [==============================] - 1s 17ms/step - loss: 0.5947 - accuracy: 0.7911 - val_loss: 1.4012 - val_accuracy: 0.7401\n",
            "Epoch 87/200\n",
            "37/37 [==============================] - 1s 17ms/step - loss: 0.5994 - accuracy: 0.7902 - val_loss: 1.3894 - val_accuracy: 0.7449\n",
            "Epoch 88/200\n",
            "37/37 [==============================] - 1s 18ms/step - loss: 0.5984 - accuracy: 0.7902 - val_loss: 1.4540 - val_accuracy: 0.7478\n",
            "Epoch 89/200\n",
            "37/37 [==============================] - 1s 18ms/step - loss: 0.5949 - accuracy: 0.7909 - val_loss: 1.4718 - val_accuracy: 0.7435\n",
            "Epoch 90/200\n",
            "37/37 [==============================] - 1s 18ms/step - loss: 0.6017 - accuracy: 0.7906 - val_loss: 1.3419 - val_accuracy: 0.7420\n",
            "Epoch 91/200\n",
            "37/37 [==============================] - 1s 18ms/step - loss: 0.5943 - accuracy: 0.7909 - val_loss: 1.3751 - val_accuracy: 0.7439\n",
            "Epoch 92/200\n",
            "37/37 [==============================] - 1s 17ms/step - loss: 0.5953 - accuracy: 0.7915 - val_loss: 1.5337 - val_accuracy: 0.7444\n",
            "Epoch 93/200\n",
            "37/37 [==============================] - 1s 17ms/step - loss: 0.5960 - accuracy: 0.7921 - val_loss: 1.4510 - val_accuracy: 0.7435\n",
            "Epoch 94/200\n",
            "37/37 [==============================] - 1s 18ms/step - loss: 0.5942 - accuracy: 0.7913 - val_loss: 1.4771 - val_accuracy: 0.7439\n",
            "Epoch 95/200\n",
            "37/37 [==============================] - 1s 18ms/step - loss: 0.5926 - accuracy: 0.7921 - val_loss: 1.5989 - val_accuracy: 0.7439\n",
            "Epoch 96/200\n",
            "37/37 [==============================] - 1s 17ms/step - loss: 0.5934 - accuracy: 0.7924 - val_loss: 1.5896 - val_accuracy: 0.7444\n",
            "Epoch 97/200\n",
            "37/37 [==============================] - 1s 17ms/step - loss: 0.5944 - accuracy: 0.7921 - val_loss: 1.3448 - val_accuracy: 0.7415\n",
            "Epoch 98/200\n",
            "37/37 [==============================] - 1s 18ms/step - loss: 0.5958 - accuracy: 0.7919 - val_loss: 1.4523 - val_accuracy: 0.7435\n",
            "Epoch 99/200\n",
            "37/37 [==============================] - 1s 17ms/step - loss: 0.5905 - accuracy: 0.7916 - val_loss: 1.5289 - val_accuracy: 0.7425\n",
            "Epoch 100/200\n",
            "37/37 [==============================] - 1s 17ms/step - loss: 0.5922 - accuracy: 0.7926 - val_loss: 1.6931 - val_accuracy: 0.7454\n",
            "Epoch 101/200\n",
            "37/37 [==============================] - 1s 18ms/step - loss: 0.5940 - accuracy: 0.7923 - val_loss: 1.5479 - val_accuracy: 0.7444\n",
            "Epoch 102/200\n",
            "37/37 [==============================] - 1s 17ms/step - loss: 0.5925 - accuracy: 0.7927 - val_loss: 1.5494 - val_accuracy: 0.7449\n",
            "Epoch 103/200\n",
            "37/37 [==============================] - 1s 18ms/step - loss: 0.5867 - accuracy: 0.7928 - val_loss: 1.5952 - val_accuracy: 0.7449\n",
            "Epoch 104/200\n",
            "37/37 [==============================] - 1s 17ms/step - loss: 0.5866 - accuracy: 0.7927 - val_loss: 1.6788 - val_accuracy: 0.7430\n",
            "Epoch 105/200\n",
            "37/37 [==============================] - 1s 18ms/step - loss: 0.5900 - accuracy: 0.7914 - val_loss: 1.4955 - val_accuracy: 0.7415\n",
            "Epoch 106/200\n",
            "37/37 [==============================] - 1s 17ms/step - loss: 0.5864 - accuracy: 0.7924 - val_loss: 1.6116 - val_accuracy: 0.7439\n",
            "Epoch 107/200\n",
            "37/37 [==============================] - 1s 18ms/step - loss: 0.5827 - accuracy: 0.7926 - val_loss: 1.6571 - val_accuracy: 0.7464\n",
            "Epoch 108/200\n",
            "37/37 [==============================] - 1s 18ms/step - loss: 0.5870 - accuracy: 0.7927 - val_loss: 1.5412 - val_accuracy: 0.7420\n",
            "Epoch 109/200\n",
            "37/37 [==============================] - 1s 18ms/step - loss: 0.5821 - accuracy: 0.7929 - val_loss: 1.6836 - val_accuracy: 0.7444\n",
            "Epoch 110/200\n",
            "37/37 [==============================] - 1s 18ms/step - loss: 0.5840 - accuracy: 0.7924 - val_loss: 1.6560 - val_accuracy: 0.7410\n",
            "Epoch 111/200\n",
            "37/37 [==============================] - 1s 17ms/step - loss: 0.5877 - accuracy: 0.7930 - val_loss: 1.6978 - val_accuracy: 0.7459\n",
            "Epoch 112/200\n",
            "37/37 [==============================] - 1s 18ms/step - loss: 0.5851 - accuracy: 0.7929 - val_loss: 1.6022 - val_accuracy: 0.7425\n",
            "Epoch 113/200\n",
            "37/37 [==============================] - 1s 18ms/step - loss: 0.5869 - accuracy: 0.7930 - val_loss: 1.6825 - val_accuracy: 0.7459\n",
            "Epoch 114/200\n",
            "37/37 [==============================] - 1s 18ms/step - loss: 0.5790 - accuracy: 0.7931 - val_loss: 1.7377 - val_accuracy: 0.7459\n",
            "Epoch 115/200\n",
            "37/37 [==============================] - 1s 18ms/step - loss: 0.5775 - accuracy: 0.7936 - val_loss: 1.6378 - val_accuracy: 0.7439\n",
            "Epoch 116/200\n",
            "37/37 [==============================] - 1s 18ms/step - loss: 0.5825 - accuracy: 0.7931 - val_loss: 1.7108 - val_accuracy: 0.7459\n",
            "Epoch 117/200\n",
            "37/37 [==============================] - 1s 17ms/step - loss: 0.5887 - accuracy: 0.7942 - val_loss: 1.7546 - val_accuracy: 0.7449\n",
            "Epoch 118/200\n",
            "37/37 [==============================] - 1s 18ms/step - loss: 0.5795 - accuracy: 0.7938 - val_loss: 1.7427 - val_accuracy: 0.7420\n",
            "Epoch 119/200\n",
            "37/37 [==============================] - 1s 17ms/step - loss: 0.5792 - accuracy: 0.7939 - val_loss: 1.7298 - val_accuracy: 0.7406\n",
            "Epoch 120/200\n",
            "37/37 [==============================] - 1s 17ms/step - loss: 0.5767 - accuracy: 0.7940 - val_loss: 1.8821 - val_accuracy: 0.7449\n",
            "Epoch 121/200\n",
            "37/37 [==============================] - 1s 18ms/step - loss: 0.5765 - accuracy: 0.7941 - val_loss: 1.6579 - val_accuracy: 0.7420\n",
            "Epoch 122/200\n",
            "37/37 [==============================] - 1s 17ms/step - loss: 0.5750 - accuracy: 0.7937 - val_loss: 1.8071 - val_accuracy: 0.7435\n",
            "Epoch 123/200\n",
            "37/37 [==============================] - 1s 17ms/step - loss: 0.5778 - accuracy: 0.7944 - val_loss: 1.7058 - val_accuracy: 0.7435\n",
            "Epoch 124/200\n",
            "37/37 [==============================] - 1s 17ms/step - loss: 0.5812 - accuracy: 0.7943 - val_loss: 1.7019 - val_accuracy: 0.7435\n",
            "Epoch 125/200\n",
            "37/37 [==============================] - 1s 17ms/step - loss: 0.5814 - accuracy: 0.7951 - val_loss: 1.7432 - val_accuracy: 0.7439\n",
            "Epoch 126/200\n",
            "37/37 [==============================] - 1s 18ms/step - loss: 0.5776 - accuracy: 0.7947 - val_loss: 1.7357 - val_accuracy: 0.7430\n",
            "Epoch 127/200\n",
            "37/37 [==============================] - 1s 18ms/step - loss: 0.5753 - accuracy: 0.7940 - val_loss: 1.7162 - val_accuracy: 0.7430\n",
            "Epoch 128/200\n",
            "37/37 [==============================] - 1s 18ms/step - loss: 0.5760 - accuracy: 0.7943 - val_loss: 1.7603 - val_accuracy: 0.7415\n",
            "Epoch 129/200\n",
            "37/37 [==============================] - 1s 17ms/step - loss: 0.5759 - accuracy: 0.7949 - val_loss: 1.8017 - val_accuracy: 0.7396\n",
            "Epoch 130/200\n",
            "37/37 [==============================] - 1s 17ms/step - loss: 0.5799 - accuracy: 0.7943 - val_loss: 1.8945 - val_accuracy: 0.7435\n",
            "Epoch 131/200\n",
            "37/37 [==============================] - 1s 17ms/step - loss: 0.5726 - accuracy: 0.7955 - val_loss: 1.9194 - val_accuracy: 0.7449\n",
            "Epoch 132/200\n",
            "37/37 [==============================] - 1s 17ms/step - loss: 0.5792 - accuracy: 0.7951 - val_loss: 1.8705 - val_accuracy: 0.7401\n",
            "Epoch 133/200\n",
            "37/37 [==============================] - 1s 17ms/step - loss: 0.5739 - accuracy: 0.7952 - val_loss: 1.8722 - val_accuracy: 0.7425\n",
            "Epoch 134/200\n",
            "37/37 [==============================] - 1s 17ms/step - loss: 0.5745 - accuracy: 0.7953 - val_loss: 1.7638 - val_accuracy: 0.7439\n",
            "Epoch 135/200\n",
            "37/37 [==============================] - 1s 17ms/step - loss: 0.5772 - accuracy: 0.7958 - val_loss: 1.8174 - val_accuracy: 0.7439\n",
            "Epoch 136/200\n",
            "37/37 [==============================] - 1s 18ms/step - loss: 0.5673 - accuracy: 0.7955 - val_loss: 1.8893 - val_accuracy: 0.7430\n",
            "Epoch 137/200\n",
            "37/37 [==============================] - 1s 17ms/step - loss: 0.5708 - accuracy: 0.7951 - val_loss: 1.9254 - val_accuracy: 0.7406\n",
            "Epoch 138/200\n",
            "37/37 [==============================] - 1s 18ms/step - loss: 0.5733 - accuracy: 0.7961 - val_loss: 2.0065 - val_accuracy: 0.7439\n",
            "Epoch 139/200\n",
            "37/37 [==============================] - 1s 17ms/step - loss: 0.5682 - accuracy: 0.7956 - val_loss: 1.9969 - val_accuracy: 0.7478\n",
            "Epoch 140/200\n",
            "37/37 [==============================] - 1s 17ms/step - loss: 0.5647 - accuracy: 0.7957 - val_loss: 1.9185 - val_accuracy: 0.7444\n",
            "Epoch 141/200\n",
            "37/37 [==============================] - 1s 18ms/step - loss: 0.5718 - accuracy: 0.7963 - val_loss: 1.8606 - val_accuracy: 0.7435\n",
            "Epoch 142/200\n",
            "37/37 [==============================] - 1s 17ms/step - loss: 0.5644 - accuracy: 0.7962 - val_loss: 2.0451 - val_accuracy: 0.7449\n",
            "Epoch 143/200\n",
            "37/37 [==============================] - 1s 17ms/step - loss: 0.5648 - accuracy: 0.7964 - val_loss: 1.9382 - val_accuracy: 0.7454\n",
            "Epoch 144/200\n",
            "37/37 [==============================] - 1s 18ms/step - loss: 0.5646 - accuracy: 0.7960 - val_loss: 1.9173 - val_accuracy: 0.7473\n",
            "Epoch 145/200\n",
            "37/37 [==============================] - 1s 17ms/step - loss: 0.5723 - accuracy: 0.7962 - val_loss: 1.7644 - val_accuracy: 0.7435\n",
            "Epoch 146/200\n",
            "37/37 [==============================] - 1s 17ms/step - loss: 0.5674 - accuracy: 0.7965 - val_loss: 1.9541 - val_accuracy: 0.7435\n",
            "Epoch 147/200\n",
            "37/37 [==============================] - 1s 18ms/step - loss: 0.5663 - accuracy: 0.7955 - val_loss: 1.8130 - val_accuracy: 0.7439\n",
            "Epoch 148/200\n",
            "37/37 [==============================] - 1s 18ms/step - loss: 0.5674 - accuracy: 0.7966 - val_loss: 1.8064 - val_accuracy: 0.7449\n",
            "Epoch 149/200\n",
            "37/37 [==============================] - 1s 17ms/step - loss: 0.5666 - accuracy: 0.7968 - val_loss: 1.9284 - val_accuracy: 0.7435\n",
            "Epoch 150/200\n",
            "37/37 [==============================] - 1s 17ms/step - loss: 0.5646 - accuracy: 0.7962 - val_loss: 1.8951 - val_accuracy: 0.7435\n",
            "Epoch 151/200\n",
            "37/37 [==============================] - 1s 18ms/step - loss: 0.5682 - accuracy: 0.7967 - val_loss: 1.9923 - val_accuracy: 0.7435\n",
            "Epoch 152/200\n",
            "37/37 [==============================] - 1s 17ms/step - loss: 0.5654 - accuracy: 0.7971 - val_loss: 1.8174 - val_accuracy: 0.7444\n",
            "Epoch 153/200\n",
            "37/37 [==============================] - 1s 18ms/step - loss: 0.5678 - accuracy: 0.7966 - val_loss: 1.8116 - val_accuracy: 0.7401\n",
            "Epoch 154/200\n",
            "37/37 [==============================] - 1s 18ms/step - loss: 0.5681 - accuracy: 0.7965 - val_loss: 2.0954 - val_accuracy: 0.7459\n",
            "Epoch 155/200\n",
            "37/37 [==============================] - 1s 18ms/step - loss: 0.5668 - accuracy: 0.7966 - val_loss: 1.9758 - val_accuracy: 0.7464\n",
            "Epoch 156/200\n",
            "37/37 [==============================] - 1s 18ms/step - loss: 0.5629 - accuracy: 0.7970 - val_loss: 2.1386 - val_accuracy: 0.7469\n",
            "Epoch 157/200\n",
            "37/37 [==============================] - 1s 17ms/step - loss: 0.5573 - accuracy: 0.7984 - val_loss: 2.2295 - val_accuracy: 0.7483\n",
            "Epoch 158/200\n",
            "37/37 [==============================] - 1s 17ms/step - loss: 0.5613 - accuracy: 0.7978 - val_loss: 2.2640 - val_accuracy: 0.7473\n",
            "Epoch 159/200\n",
            "37/37 [==============================] - 1s 18ms/step - loss: 0.5606 - accuracy: 0.7978 - val_loss: 2.2464 - val_accuracy: 0.7454\n",
            "Epoch 160/200\n",
            "37/37 [==============================] - 1s 17ms/step - loss: 0.5625 - accuracy: 0.7976 - val_loss: 2.0014 - val_accuracy: 0.7449\n",
            "Epoch 161/200\n",
            "37/37 [==============================] - 1s 17ms/step - loss: 0.5594 - accuracy: 0.7977 - val_loss: 2.0650 - val_accuracy: 0.7464\n",
            "Epoch 162/200\n",
            "37/37 [==============================] - 1s 18ms/step - loss: 0.5590 - accuracy: 0.7978 - val_loss: 2.0200 - val_accuracy: 0.7473\n",
            "Epoch 163/200\n",
            "37/37 [==============================] - 1s 18ms/step - loss: 0.5631 - accuracy: 0.7975 - val_loss: 1.8155 - val_accuracy: 0.7449\n",
            "Epoch 164/200\n",
            "37/37 [==============================] - 1s 17ms/step - loss: 0.5617 - accuracy: 0.7971 - val_loss: 2.1620 - val_accuracy: 0.7478\n",
            "Epoch 165/200\n",
            "37/37 [==============================] - 1s 17ms/step - loss: 0.5575 - accuracy: 0.7976 - val_loss: 2.0874 - val_accuracy: 0.7454\n",
            "Epoch 166/200\n",
            "37/37 [==============================] - 1s 17ms/step - loss: 0.5604 - accuracy: 0.7984 - val_loss: 1.8858 - val_accuracy: 0.7430\n",
            "Epoch 167/200\n",
            "37/37 [==============================] - 1s 17ms/step - loss: 0.5554 - accuracy: 0.7981 - val_loss: 2.0737 - val_accuracy: 0.7449\n",
            "Epoch 168/200\n",
            "37/37 [==============================] - 1s 17ms/step - loss: 0.5607 - accuracy: 0.7981 - val_loss: 1.9987 - val_accuracy: 0.7478\n",
            "Epoch 169/200\n",
            "37/37 [==============================] - 1s 18ms/step - loss: 0.5520 - accuracy: 0.7987 - val_loss: 1.9899 - val_accuracy: 0.7478\n",
            "Epoch 170/200\n",
            "37/37 [==============================] - 1s 18ms/step - loss: 0.5595 - accuracy: 0.7990 - val_loss: 2.0694 - val_accuracy: 0.7478\n",
            "Epoch 171/200\n",
            "37/37 [==============================] - 1s 17ms/step - loss: 0.5543 - accuracy: 0.7984 - val_loss: 2.1551 - val_accuracy: 0.7464\n",
            "Epoch 172/200\n",
            "37/37 [==============================] - 1s 17ms/step - loss: 0.5555 - accuracy: 0.7994 - val_loss: 2.2631 - val_accuracy: 0.7469\n",
            "Epoch 173/200\n",
            "37/37 [==============================] - 1s 18ms/step - loss: 0.5518 - accuracy: 0.7989 - val_loss: 2.1331 - val_accuracy: 0.7459\n",
            "Epoch 174/200\n",
            "37/37 [==============================] - 1s 18ms/step - loss: 0.5547 - accuracy: 0.7985 - val_loss: 2.1202 - val_accuracy: 0.7439\n",
            "Epoch 175/200\n",
            "37/37 [==============================] - 1s 17ms/step - loss: 0.5553 - accuracy: 0.7980 - val_loss: 2.2210 - val_accuracy: 0.7435\n",
            "Epoch 176/200\n",
            "37/37 [==============================] - 1s 18ms/step - loss: 0.5569 - accuracy: 0.7990 - val_loss: 2.1509 - val_accuracy: 0.7410\n",
            "Epoch 177/200\n",
            "37/37 [==============================] - 1s 18ms/step - loss: 0.5529 - accuracy: 0.7991 - val_loss: 2.2923 - val_accuracy: 0.7444\n",
            "Epoch 178/200\n",
            "37/37 [==============================] - 1s 17ms/step - loss: 0.5504 - accuracy: 0.7994 - val_loss: 2.3813 - val_accuracy: 0.7439\n",
            "Epoch 179/200\n",
            "37/37 [==============================] - 1s 18ms/step - loss: 0.5527 - accuracy: 0.7996 - val_loss: 2.3400 - val_accuracy: 0.7439\n",
            "Epoch 180/200\n",
            "37/37 [==============================] - 1s 17ms/step - loss: 0.5613 - accuracy: 0.7994 - val_loss: 2.3736 - val_accuracy: 0.7459\n",
            "Epoch 181/200\n",
            "37/37 [==============================] - 1s 18ms/step - loss: 0.5524 - accuracy: 0.7996 - val_loss: 1.8759 - val_accuracy: 0.7464\n",
            "Epoch 182/200\n",
            "37/37 [==============================] - 1s 17ms/step - loss: 0.5533 - accuracy: 0.7998 - val_loss: 2.1140 - val_accuracy: 0.7420\n",
            "Epoch 183/200\n",
            "37/37 [==============================] - 1s 18ms/step - loss: 0.5459 - accuracy: 0.7986 - val_loss: 2.3412 - val_accuracy: 0.7478\n",
            "Epoch 184/200\n",
            "37/37 [==============================] - 1s 18ms/step - loss: 0.5564 - accuracy: 0.7994 - val_loss: 2.2197 - val_accuracy: 0.7435\n",
            "Epoch 185/200\n",
            "37/37 [==============================] - 1s 18ms/step - loss: 0.5493 - accuracy: 0.7988 - val_loss: 2.4372 - val_accuracy: 0.7430\n",
            "Epoch 186/200\n",
            "37/37 [==============================] - 1s 18ms/step - loss: 0.5447 - accuracy: 0.8000 - val_loss: 2.4327 - val_accuracy: 0.7430\n",
            "Epoch 187/200\n",
            "37/37 [==============================] - 1s 17ms/step - loss: 0.5451 - accuracy: 0.7996 - val_loss: 2.5543 - val_accuracy: 0.7415\n",
            "Epoch 188/200\n",
            "37/37 [==============================] - 1s 18ms/step - loss: 0.5461 - accuracy: 0.8002 - val_loss: 2.5067 - val_accuracy: 0.7430\n",
            "Epoch 189/200\n",
            "37/37 [==============================] - 1s 18ms/step - loss: 0.5478 - accuracy: 0.7997 - val_loss: 2.5792 - val_accuracy: 0.7439\n",
            "Epoch 190/200\n",
            "37/37 [==============================] - 1s 18ms/step - loss: 0.5497 - accuracy: 0.7993 - val_loss: 2.6377 - val_accuracy: 0.7439\n",
            "Epoch 191/200\n",
            "37/37 [==============================] - 1s 18ms/step - loss: 0.5452 - accuracy: 0.7994 - val_loss: 2.5198 - val_accuracy: 0.7464\n",
            "Epoch 192/200\n",
            "37/37 [==============================] - 1s 18ms/step - loss: 0.5449 - accuracy: 0.8004 - val_loss: 2.6426 - val_accuracy: 0.7444\n",
            "Epoch 193/200\n",
            "37/37 [==============================] - 1s 17ms/step - loss: 0.5425 - accuracy: 0.7991 - val_loss: 2.5282 - val_accuracy: 0.7439\n",
            "Epoch 194/200\n",
            "37/37 [==============================] - 1s 18ms/step - loss: 0.5468 - accuracy: 0.7999 - val_loss: 2.5942 - val_accuracy: 0.7420\n",
            "Epoch 195/200\n",
            "37/37 [==============================] - 1s 18ms/step - loss: 0.5491 - accuracy: 0.7998 - val_loss: 2.5323 - val_accuracy: 0.7444\n",
            "Epoch 196/200\n",
            "37/37 [==============================] - 1s 18ms/step - loss: 0.5476 - accuracy: 0.7990 - val_loss: 2.3092 - val_accuracy: 0.7410\n",
            "Epoch 197/200\n",
            "37/37 [==============================] - 1s 18ms/step - loss: 0.5436 - accuracy: 0.8002 - val_loss: 2.4009 - val_accuracy: 0.7420\n",
            "Epoch 198/200\n",
            "37/37 [==============================] - 1s 18ms/step - loss: 0.5495 - accuracy: 0.8000 - val_loss: 2.6432 - val_accuracy: 0.7439\n",
            "Epoch 199/200\n",
            "37/37 [==============================] - 1s 18ms/step - loss: 0.5513 - accuracy: 0.7992 - val_loss: 2.4945 - val_accuracy: 0.7406\n",
            "Epoch 200/200\n",
            "37/37 [==============================] - 1s 18ms/step - loss: 0.5481 - accuracy: 0.8002 - val_loss: 2.6357 - val_accuracy: 0.7420\n"
          ],
          "name": "stdout"
        }
      ]
    },
    {
      "cell_type": "code",
      "metadata": {
        "id": "mHGMVqja400m"
      },
      "source": [
        "import matplotlib.pyplot as plt"
      ],
      "execution_count": 40,
      "outputs": []
    },
    {
      "cell_type": "code",
      "metadata": {
        "id": "hatN5igG0Plm"
      },
      "source": [
        "def plot_history(history):    \n",
        "    fig, ax = plt.subplots(1,2, figsize=(16,4))\n",
        "\n",
        "    ax[0].plot(history.history['loss'], label='train loss')\n",
        "    ax[0].plot(history.history['val_loss'], label='validation loss')\n",
        "    ax[0].set_xlabel('Epochs')\n",
        "    ax[0].set_ylabel('Loss')\n",
        "    ax[0].legend()\n",
        "\n",
        "    ax[1].plot(history.history['accuracy'], label='train accuracy')\n",
        "    ax[1].plot(history.history['val_accuracy'], label='validation accuracy')\n",
        "    ax[1].set_xlabel('Epochs')\n",
        "    ax[1].set_ylabel('Accuracy')\n",
        "    ax[1].legend()\n",
        "\n",
        "    plt.show()"
      ],
      "execution_count": 41,
      "outputs": []
    },
    {
      "cell_type": "code",
      "metadata": {
        "id": "YwFTd-5k0Hr9",
        "outputId": "816b8bee-05a6-469d-dce4-bf323168d80d",
        "colab": {
          "base_uri": "https://localhost:8080/",
          "height": 255
        }
      },
      "source": [
        "plot_history(history)"
      ],
      "execution_count": 42,
      "outputs": [
        {
          "output_type": "display_data",
          "data": {
            "image/png": "[encoded data removed]",
            "text/plain": [
              "<Figure size 1152x288 with 2 Axes>"
            ]
          },
          "metadata": {
            "tags": [],
            "needs_background": "light"
          }
        }
      ]
    },
    {
      "cell_type": "markdown",
      "metadata": {
        "id": "D1d5pqczJU9U"
      },
      "source": [
        "**Тренировка Word2Vec и использование полученных весов для инициализации эмбедингов векторов**"
      ]
    },
    {
      "cell_type": "code",
      "metadata": {
        "id": "pkgpDF73JW-m",
        "outputId": "a7e0ca5c-a3af-4602-edda-84a66287eee5",
        "colab": {
          "base_uri": "https://localhost:8080/"
        }
      },
      "source": [
        "sentences_list_of_lists = [[sentence] for sentence in data.text.tolist()]\n",
        "sentences_list_of_lists[:10]"
      ],
      "execution_count": 43,
      "outputs": [
        {
          "output_type": "execute_result",
          "data": {
            "text/plain": [
              "[['it just works'],\n",
              " ['целое удобноной приложение минус хотеть большой доступ персональный данные телефон приходиться пользоваться ограниченный режим'],\n",
              " ['отлично'],\n",
              " ['зависать 1 работа антивирус ранее пользоваться нормально'],\n",
              " ['удобно работать быстро'],\n",
              " ['удобно норма'],\n",
              " ['удобный приложение'],\n",
              " ['устраивать'],\n",
              " ['работать чётко отличие банкомат вечно зависать тупить'],\n",
              " ['']]"
            ]
          },
          "metadata": {
            "tags": []
          },
          "execution_count": 43
        }
      ]
    },
    {
      "cell_type": "code",
      "metadata": {
        "id": "dMgHaWPd454g"
      },
      "source": [
        "from gensim.models import Word2Vec"
      ],
      "execution_count": 44,
      "outputs": []
    },
    {
      "cell_type": "code",
      "metadata": {
        "id": "vZYLubz6JXEF"
      },
      "source": [
        "w2v_model = Word2Vec(sentences=sentences_list_of_lists, \n",
        "                     size=embed_vec_len, \n",
        "                     window=10, \n",
        "                     min_count=2)"
      ],
      "execution_count": 45,
      "outputs": []
    },
    {
      "cell_type": "code",
      "metadata": {
        "id": "vNLTs4f5JXOR",
        "outputId": "e20a1112-084f-4a47-eb4d-8ee2c56a60a1",
        "colab": {
          "base_uri": "https://localhost:8080/"
        }
      },
      "source": [
        "buffer = np.random.random((max_words,embed_vec_len))\n",
        "buffer"
      ],
      "execution_count": 46,
      "outputs": [
        {
          "output_type": "execute_result",
          "data": {
            "text/plain": [
              "array([[0.35893124, 0.39603251, 0.63523675, ..., 0.90896219, 0.98624111,\n",
              "        0.80311057],\n",
              "       [0.72915444, 0.85632373, 0.25050127, ..., 0.50637272, 0.55696655,\n",
              "        0.86076586],\n",
              "       [0.65613371, 0.53089032, 0.84580524, ..., 0.80586522, 0.40162423,\n",
              "        0.68379636],\n",
              "       ...,\n",
              "       [0.18817882, 0.43741245, 0.25890143, ..., 0.79321075, 0.04877456,\n",
              "        0.58773397],\n",
              "       [0.93002022, 0.27983428, 0.58537928, ..., 0.95611425, 0.62061254,\n",
              "        0.66196344],\n",
              "       [0.67752301, 0.49472648, 0.34745897, ..., 0.13631948, 0.05441026,\n",
              "        0.63283249]])"
            ]
          },
          "metadata": {
            "tags": []
          },
          "execution_count": 46
        }
      ]
    },
    {
      "cell_type": "code",
      "metadata": {
        "id": "oDG1XbdhJXRE"
      },
      "source": [
        "for word in vocabulary:\n",
        "    if word in w2v_model.wv:\n",
        "        buffer[vocabulary[word]] = w2v_model.wv[word]"
      ],
      "execution_count": 47,
      "outputs": []
    },
    {
      "cell_type": "code",
      "metadata": {
        "id": "xbwceDkBx79I",
        "outputId": "b3d6c975-b8ab-4ed2-ebb1-d985c0160a70",
        "colab": {
          "base_uri": "https://localhost:8080/"
        }
      },
      "source": [
        "w2v_model.wv.vocab.keys()"
      ],
      "execution_count": 48,
      "outputs": [
        {
          "output_type": "execute_result",
          "data": {
            "text/plain": [
              "dict_keys(['отлично', 'удобный приложение', 'устраивать', '', 'около', 'удобно', 'удобный штука', 'отличный приложение', 'удобно практично', 'удобно быстро', 'хороший приложение', 'полезный', 'супер', 'молодец', 'круто', 'хорошечный', 'норма', 'понятно', 'приложение супер', 'загружаться', 'удобно сбербанк', 'приятно работать', 'клёво', 'лагаета', 'нравиться', 'гуд', 'работать нормально', 'довольный', 'отлично работать', 'быстро удобно', 'замечательный приложение', 'замечательный удобно', 'понятно удобно', 'класс', 'удобно выходить дом', 'super', 'хороший приложение удобный нравиться', 'ррр', 'выручать', 'хороший', 'работать быстро', 'хороший приложение выручать', 'работать устраивать', 'отлично нравиться', 'отлично довольный', 'работать проблема', 'нравиться удобно', 'вылетать', 'работать', 'пользоваться удобно', 'работать удобно', 'хороший приложение удобно быстро', 'рута право', 'удобно довольный', 'жить', 'работать отлично нравиться', 'нужный полезный приложение', 'круто молодец', 'отлично удобно', 'отличный приложение понятно', 'удобно легко', 'хороший приложение удобно', 'супер удобно', 'отличный предложение', 'крутой приложение', 'удобно быстро надёжно', 'хороший сбербанк', 'збс', 'окей', 'удобно круто', 'удобный', 'удобно оперативно', 'удобство', 'удобный приложение сбербанк', 'отличный приложение удобный', 'классный', 'удобный программа', 'вроденеплохо', 'кул', 'отличный программа', 'чёткий приложение', 'удобный предложение', 'удобно пользоваться приложение', 'класс нравиться', 'незаменимый приложение', 'удрбный', 'приходить смс код', 'понравиться', 'мочь установить', 'оч удобно', 'работать нравиться', 'удобный приложение пользоваться', 'довольный удобно', 'работать отлично', 'нормально работать', 'чудесно', 'удобный вещь', 'супер приложение', 'удобный интерфейс', 'огромный', 'удобно молодец', 'нормальный', 'ока', 'прикольно', 'нужный вещь', 'приложение огонь', 'неплохо', 'классный приложение', 'хороший нужный приложение', 'классно', 'удобно безопасно', 'отличный приложение довольный', 'удобно понятно', 'norm', 'отлично устраивать', 'первый раз заходить', 'вроде нормально', 'нормально', 'супер работать', 'приложение быстрый удобный', 'удобно рука', 'самый удобный приложение', 'хороший обслуживание', 'приложение хороший', 'крутооо', 'спс', 'хороший банковский приложение', 'пользоваться отлично', 'вроде норма', 'пойти', 'нравиться приложение', 'приложение супер удобно', 'крутой', 'зер гуд', 'хорошоя приложение', 'классно работать', 'cool', 'приложение отличный', 'удобный приложение разработчик', 'удобный приятный приложение', 'сбербанк', 'отлично молодец', 'приходиться раз вводить пароль', 'удобно работать', 'супер гуд', 'быстро', 'удобный сервис', 'работа довольный', 'крутяк', 'норма приложение', 'норма прога', 'класа', 'удобно доступно', 'супер быстро удобно', 'удобно банк рука', 'вроде работать', 'работать быстро удобно', 'удобный приложение рекомендовать', 'удобно главное быстро', 'удобно хороший приложение', 'приходить смс регистрация', 'хороший преложение', 'неплохой приложение', '5', 'приложение класс советовать', 'отвратительный', 'нравиться удобно быстро', 'спосибо', 'нравиться понятно логично', 'перестать работать шаблон', 'хороший приложение работа финансы', 'отличный работа', 'приложение удобный нравиться', 'плохой приложение', 'удобный приложение работать отлично', 'проблема', 'устраивать приложение', 'довольный приложение', 'пользоваться', 'приложение', 'удобно надёжно', 'устанавливаться', 'чётко', 'оперативно', 'ok', 'восторг', 'грузиться', 'придумать', 'отличный', 'зависать ужасно', 'удобно 5', 'разработчик', 'хороший прога', 'приложение удобный', 'хороший удобный приложение', 'нормальный приложение', 'отличный приложение удобно пользоваться', 'удобный прилржение', 'удобно большой', 'отличный приложение выручать', 'понятно быстро', 'мочь установить выдавать ошибка 24', 'удобно рекомендовать', 'нормально вроде', 'зашибиться', 'збсить', 'плохо', 'быстро легко', 'нравиться быстро удобно', 'неплохой', 'удача', 'the best', 'удобно пользоваться', 'удобный приложение нравиться', 'удобненький', 'помогать', 'полезный вещь', 'безумно удобно', 'андрей', 'удобный приложение простой использование', 'приложение замечательный', 'хороший приложение экономить', 'постоянно вылетать', 'суппер удобно', 'василий', 'отличный приложение работать', 'удобно устраивать', 'полезно удобно', 'здорово', 'быстро удобно мобильно', 'прекрасный приложение', 'приложение пользоваться устраивать', 'банк', 'удобно приложение', 'удобно функционально', 'замечательный', 'запускаться первый раз', 'превосходно', 'легко удобно', 'приложение работать нормально', 'вполне удобный приложение', 'удобный програмка', 'приложение хороший работать сбой', 'отличный функционал', 'good', 'нравиться пользоваться', 'вау', 'нравиться работать', 'устанавливаться выдавать ошибка 24', 'слово', 'удобный приложение довольный', 'удобно понятно быстро', 'приложение нравиться', 'удобно экономить куча', 'работать замечательный', 'быстро удобно надёжно', 'удобно нравиться', 'хороший приложение банк', 'радовать', 'супер супер', 'работать нарекание', 'хороший приложение нравиться', 'отличный приложение сбербанк', '10 10', 'удобно супер', 'самый хороший приложение', 'обновляться', 'быстро надёжно', 'тормозить', 'необходимый приложение', 'суппер', 'хороший сервис', 'легко', 'зависать', 'экономить', 'шикарно', 'удобный приложение рука', 'приложение нравиться удобно', 'корректно работать', 'отлично рекомендовать', 'работать рута право', 'данный момент устраивать', 'хороший полезный программа', 'зе бест', 'топ', 'быстро удобно нравиться', 'быстро удобно комфортно', 'целое удобный приложение', 'вполне устраивать', 'удобный приложение устраивать', 'нравиться удобный приложение', 'крутой удобный приложение', 'полезный приложение', 'пользоваться довольный', 'тупить', 'удобно быстро доступно', 'полностью устраивать', 'отличный приложение удобно быстро', 'nan', 'отличный приложение работать чётко', 'огонь', 'артём', 'павел', 'доступно', 'отличный приложение удобный использование', 'удобно лишний', 'отличный приложение экономить', 'приходить смс пароль', 'упрощать', 'хороший программа', 'удобно финансы рука', 'отличный преложение', 'серёга', 'удобный приложение понравиться', 'ужас', 'сбербанк хороший', 'ауе', 'нравиться удобно понятно', 'оперативно удобно', 'оч удобный приложение', 'вроде', 'стать', 'быстро качественно', 'работать отлично разработчик', 'удобно отлично', 'елена', 'ошибка', 'удобно лаконично', 'удобно комфортно', 'хороший программа удобный довольный', 'хорошоя удобный приложение', 'нужный программа', 'отличный приложение удобно', 'владимир', 'большой', 'маргарита', 'потянуть', 'нравиться отличный приложение', 'самый удобный', 'скорость', 'приложение понравиться супер', 'устраивать удобный приложение', 'держать', 'удобно приятно', 'разобраться', 'удобно спосибо', 'приятный приложение', 'супер устраивать', 'удобно экономить', 'высокий уровень', 'стабильно', 'самый хороший банк', 'самый хороший онлайн банк', 'удобно главное рука', 'удобно легко быстро', 'молодец держать', 'nice', 'функционально удобно', 'приложение устраивать', 'ку', 'нравиться приложение удобно быстро', 'очный удобно', 'круть', 'удобный отличный приложение', 'большой удобно', 'понравиться приложение удобно', 'обожать сбербанк', 'удобно класс', 'нормально удобно', 'klass', 'достойный приложение', 'нужный хороший приложение', 'классно удобно', 'удобный красивый приложение', 'отлично большой помощь', 'ура', 'замечательный программа', 'полёт нормальный', 'устраивать удобно', 'нравиться виснуть', 'удобно мобильно', 'удобный приложение отлично работать', 'простой', 'удобный разработчик', 'пользоваться нравиться', 'юлия', 'заебец', 'устраивать отлично', 'удобный хороший приложение', 'пользоваться нарекание', 'замечательный удобный приложение', 'удобный приложение советовать', 'нравиться приложение удобно доступно', 'лишний', 'хороший приложение удобный', 'отличный штука', 'понравиться понятно', 'удобно большой разработчик', 'нормик', 'прилично', 'быстро чётко', 'суперррр', 'удобный практичный приложение', 'удобно быстро комфортно', 'замечательный работать', 'удобно отлично работать', 'раз вводить пароль', 'нормальный приложение удобно', 'удобно наглядно', 'быстро работать', 'найса', 'нужный приложение', 'удобно управлять финансы', 'смс приходить', 'здравствуйте', 'претензия', 'отличный сервис', 'отличный приложение нравиться', 'удобно работать стабильно', 'приложение класс', 'нравиться легко', 'глючить', 'целое удобно', 'исправить', 'klasss', 'удобно быстро чётко', 'знать', 'удобный быстрый сервис', 'нужный работать', 'приложение хороший пользоваться удобно', 'илья', 'достаточно удобно', 'сделать', 'отлично быстро', 'данный момент нравиться', 'предел совершенство', 'рука', 'целое', 'пользоваться устраивать', 'удобный быстрый приложение', 'огонь приложение', 'удобно главное безопасно', 'приложение отличный удобный', 'понятно доступно', 'удобно отличный приложение', 'быстро удобно понятно', 'ммм', 'отл', 'приложение работать нравиться', 'работать шаблон', 'супер быстро', 'нравиться супер', 'уровень', 'исправить ошибка', 'николай', 'запускаться', 'молодец удобно', 'удобный приложение делаться быстро', 'сойти', 'работать удобный приложение', 'удобно быстро работать', 'недочёт', 'максим', 'молодец ребята', 'отлично работать нравиться', 'заходить первый раз', 'молодец супер', 'ужасный приложение', 'устраивать хороший приложение', 'доступно удобно', 'отлично приложение', 'удобно быстро понятно', 'рекомендовать', 'круто удобно', 'удобно советовать', 'нравица', 'приложение нормальный', 'хороший приложение устраивать', 'йоу', 'удобно легко пользоваться', 'отличный удобный приложение', 'супер программа', 'хороший приложение удобно понятно', 'незнать', 'нравиться удобно доступно', 'открываться', 'идеально', 'нормуля', 'отлично работать удобно', 'стать гораздо удобный', 'банк карман', 'супер удобный приложение', 'нравиться устраивать', 'удобно использование', 'удобный приложение пользоваться постоянно', 'открываться шаблон', 'отлично оперативно', 'быстро удобно качественно', 'самый хороший', 'устраивать довольный', 'хороший мобильный банк', 'удобный нужный приложение', 'александр', 'программа супер', 'выкидывать', 'ништяк', 'удобный приложение большой разработчик', 'мочь обновить приложение', 'круто понравиться', 'плохо работать', 'отличный прога', 'развиваться', 'нравиться сбербанк', 'понятно быстро удобно', 'нравиться отлично', 'удобно красиво', 'удобный приложение облегчать', 'удобно качественно', 'нравиться работать отлично', 'стабильно работать', 'удобный понятный приложение', 'работать приложение удобно быстро', 'отлично 5', 'дико удобно', 'норма работать', 'класной приложение', 'удобный приложение экономить', 'норма норма', 'отличный приложение пользоваться', 'понравиться удобно быстро', 'супер пупереть', 'отлично держать', 'целое удобно быстро', 'приложение хорошоя', 'класный', 'высота', 'чёткий', 'работать претензия', 'супер прога', 'мочь скачать приложение', 'устраивать удобно пользоваться', 'нормас', 'скачиваться', 'работать исправно', '5 5', 'красиво', 'довольный работа приложение', 'жалоба', 'суперский приложение', 'удобный быстрый', 'первый раз запускаться', 'гута', 'удобно интуитивно понятно', 'клёвый приложение', 'удобно разработчик', 'простой удобный приложение', 'работа', 'пользоватьсянеплохо', 'обновление глючить', 'обожать приложение', 'удобно проблема', 'думать', 'ровно', 'удобный функциональный приложение', 'рабочий приложение', 'годный', 'отличн', 'работать работать', 'kruto', 'великолепно', 'устраивать нравиться', 'удобный нравиться', 'удобно быстро большой', 'удобно быстро практично', 'хорошоя приложение сбербанк', 'удобно быстро нравиться', 'нормаль', 'удобный приложение удобно понятно', 'целоенеплохо', 'приложение классный', 'отличьный', 'тупой приложение', 'мочь войти', 'замечательный приложение удобный', 'приложение полезный', 'быстро практично удобно', 'удобно понятно доступно', 'константин', 'удобный приложение большой', 'лидия', 'приходить пароль смс', 'удобный преложение', 'функционально', 'пользоваться постоянно', 'удобно быстро разработчик', 'top', 'программа', 'удобно оплачивать', 'бомба', 'сбербанк онлайн', 'молодец довольный', 'хороший приложение довольный', 'ошибка скачивание', 'отлично супер', 'вылетать ввод пароль', 'хороший банк', 'доступно понятно', 'нравиться приложение удобно', 'удобно ходить', 'работать отлично удобно', 'удобно быстро качественно', 'легко понятно', 'быстро удобно довольный', 'возможность', 'класс удобно', 'давольный', 'нравиться молодец', 'работать 5', 'понравиться удобно понятно', 'норма удобно', 'мобильно', 'нравиться рекомендовать', 'быстро удобно доступно', 'небольшой отзыв', 'супер нравиться', 'удобно сделать', 'быстро понятно удобно', 'нужный удобный приложение', 'чётко работать', 'любить', 'отличный вещь', 'приложение удобно', 'лично нравиться', 'удобно интернет', 'подходить', 'целое отлично', 'мочь зарегистрироваться', 'банк карман удобно', 'работать сбой', 'плохо удобно', 'понравиться удобный приложение', 'любить сбербанк', 'убрать антивирус', 'супер рекомендовать', 'работать спс', 'удобно оплачивать выходить дом', 'пробовать', 'заебок', 'старый версия', 'устраевать', 'приложение супер удобный', 'грамотно', 'привет', 'вроде устраивать', 'понравиться приложение', 'работать стабильно', 'удобный использование', 'отлично удобный приложение', 'главное безопасность', 'клёв', 'общий нормально', 'удобно практично оперативно', 'нрав', 'okey', 'удобный приложение понятно', 'довольный претензия', 'удобно выручать', 'работать вход отпечаток палец', 'вася', 'лично удобный приложение', 'здорово удобно', 'кей', 'супер ребята', 'удобно управлять свой счёт', 'нравиться приложение удобный', 'красавчик', 'медленно работать', 'удобно переводить деньга', 'вполне удобно', 'нра', 'root', 'ирина', 'отличный приложение легко', 'вроде плохо', 'отлично работать довольный', 'спасиб', 'отличный приложение удобно работать', 'отлично удобно быстро', 'здоровый', 'gg', 'приложение 5', 'грузить', 'классно нравиться', 'приложение понравиться', 'классный приложение большой', 'проблема рута', 'твёрдый 4', 'комфортно'])"
            ]
          },
          "metadata": {
            "tags": []
          },
          "execution_count": 48
        }
      ]
    },
    {
      "cell_type": "markdown",
      "metadata": {
        "id": "a18487opJjL2"
      },
      "source": [
        "**Фиксированные эмбединги после инициализации**"
      ]
    },
    {
      "cell_type": "code",
      "metadata": {
        "id": "43V9PnLCJXeJ"
      },
      "source": [
        "keras.backend.clear_session()\n",
        "\n",
        "X_input = tf.keras.layers.Input(shape=(max_len,), name=\"X\")\n",
        "Embed_ = tf.keras.layers.Embedding(input_dim=max_words, output_dim=embed_vec_len, name=\"Embed_\", weights=[buffer], trainable=False)(X_input)\n",
        "Conv1_ = tf.keras.layers.Conv1D(filters=embed_vec_len, kernel_size=5, activation=\"relu\", name=\"Conv1_\")(Embed_)\n",
        "GlobMaxPool1_ = tf.keras.layers.GlobalMaxPool1D(name=\"GlobMaxPool1\")(Conv1_)\n",
        "Drop1_ = tf.keras.layers.Dropout(0.6)(GlobMaxPool1_)\n",
        "Dense1_ = tf.keras.layers.Dense(32, activation=\"relu\", name=\"Dense1_\")(Drop1_)\n",
        "Drop2_ = tf.keras.layers.Dropout(0.6)(Dense1_)\n",
        "Dense2_ = tf.keras.layers.Dense(32, activation=\"relu\", name=\"Dense2_\")(Drop2_)\n",
        "Drop3_ = tf.keras.layers.Dropout(0.6)(Dense2_)\n",
        "Dense3_ = tf.keras.layers.Dense(32, activation=\"relu\", name=\"Dense3_\")(Drop3_)\n",
        "Drop4_ = tf.keras.layers.Dropout(0.6)(Dense3_)\n",
        "Dense4_ = tf.keras.layers.Dense(32, activation=\"relu\", name=\"Dense4_\")(Drop4_)\n",
        "Drop5_ = tf.keras.layers.Dropout(0.75)(Dense4_)\n",
        "y_output = tf.keras.layers.Dense(num_classes, activation=\"softmax\", name=\"y\")(Drop5_)\n",
        "\n",
        "model = tf.keras.models.Model(inputs=[X_input], outputs=[y_output], name=\"my_model\")\n",
        "model.compile(loss='categorical_crossentropy',\n",
        "              optimizer='adam',\n",
        "              metrics=['accuracy'])"
      ],
      "execution_count": 49,
      "outputs": []
    },
    {
      "cell_type": "code",
      "metadata": {
        "id": "ou5qt15ZJXyR",
        "outputId": "d32f290d-2601-446a-bdd4-1dfb1954ed73",
        "colab": {
          "base_uri": "https://localhost:8080/"
        }
      },
      "source": [
        "history = model.fit(x_train, y_train,\n",
        "                    batch_size=batch_size,\n",
        "                    epochs=epochs,\n",
        "                    verbose=1,\n",
        "                    validation_split=0.1,\n",
        "                    )"
      ],
      "execution_count": 50,
      "outputs": [
        {
          "output_type": "stream",
          "text": [
            "Epoch 1/200\n",
            "37/37 [==============================] - 0s 10ms/step - loss: 1.7383 - accuracy: 0.4791 - val_loss: 1.5313 - val_accuracy: 0.5954\n",
            "Epoch 2/200\n",
            "37/37 [==============================] - 0s 5ms/step - loss: 1.4420 - accuracy: 0.6956 - val_loss: 1.4004 - val_accuracy: 0.5954\n",
            "Epoch 3/200\n",
            "37/37 [==============================] - 0s 5ms/step - loss: 1.2957 - accuracy: 0.6827 - val_loss: 1.2454 - val_accuracy: 0.5954\n",
            "Epoch 4/200\n",
            "37/37 [==============================] - 0s 6ms/step - loss: 1.1897 - accuracy: 0.6979 - val_loss: 1.1581 - val_accuracy: 0.5954\n",
            "Epoch 5/200\n",
            "37/37 [==============================] - 0s 5ms/step - loss: 1.1139 - accuracy: 0.7129 - val_loss: 1.1031 - val_accuracy: 0.5954\n",
            "Epoch 6/200\n",
            "37/37 [==============================] - 0s 5ms/step - loss: 1.0643 - accuracy: 0.7165 - val_loss: 1.0659 - val_accuracy: 0.5954\n",
            "Epoch 7/200\n",
            "37/37 [==============================] - 0s 5ms/step - loss: 1.0247 - accuracy: 0.7175 - val_loss: 1.0384 - val_accuracy: 0.5954\n",
            "Epoch 8/200\n",
            "37/37 [==============================] - 0s 5ms/step - loss: 1.0049 - accuracy: 0.7173 - val_loss: 1.0233 - val_accuracy: 0.5954\n",
            "Epoch 9/200\n",
            "37/37 [==============================] - 0s 5ms/step - loss: 0.9831 - accuracy: 0.7183 - val_loss: 1.0189 - val_accuracy: 0.5954\n",
            "Epoch 10/200\n",
            "37/37 [==============================] - 0s 5ms/step - loss: 0.9628 - accuracy: 0.7162 - val_loss: 1.0176 - val_accuracy: 0.5954\n",
            "Epoch 11/200\n",
            "37/37 [==============================] - 0s 6ms/step - loss: 0.9542 - accuracy: 0.7174 - val_loss: 1.0195 - val_accuracy: 0.5954\n",
            "Epoch 12/200\n",
            "37/37 [==============================] - 0s 5ms/step - loss: 0.9434 - accuracy: 0.7177 - val_loss: 1.0169 - val_accuracy: 0.5954\n",
            "Epoch 13/200\n",
            "37/37 [==============================] - 0s 5ms/step - loss: 0.9294 - accuracy: 0.7165 - val_loss: 1.0182 - val_accuracy: 0.5954\n",
            "Epoch 14/200\n",
            "37/37 [==============================] - 0s 6ms/step - loss: 0.9172 - accuracy: 0.7174 - val_loss: 1.0144 - val_accuracy: 0.5954\n",
            "Epoch 15/200\n",
            "37/37 [==============================] - 0s 5ms/step - loss: 0.9247 - accuracy: 0.7175 - val_loss: 1.0078 - val_accuracy: 0.5954\n",
            "Epoch 16/200\n",
            "37/37 [==============================] - 0s 5ms/step - loss: 0.9146 - accuracy: 0.7181 - val_loss: 1.0024 - val_accuracy: 0.5954\n",
            "Epoch 17/200\n",
            "37/37 [==============================] - 0s 6ms/step - loss: 0.9163 - accuracy: 0.7182 - val_loss: 1.0054 - val_accuracy: 0.5954\n",
            "Epoch 18/200\n",
            "37/37 [==============================] - 0s 6ms/step - loss: 0.9091 - accuracy: 0.7181 - val_loss: 1.0019 - val_accuracy: 0.5954\n",
            "Epoch 19/200\n",
            "37/37 [==============================] - 0s 6ms/step - loss: 0.8960 - accuracy: 0.7193 - val_loss: 0.9982 - val_accuracy: 0.5954\n",
            "Epoch 20/200\n",
            "37/37 [==============================] - 0s 5ms/step - loss: 0.8993 - accuracy: 0.7198 - val_loss: 1.0001 - val_accuracy: 0.5954\n",
            "Epoch 21/200\n",
            "37/37 [==============================] - 0s 5ms/step - loss: 0.8832 - accuracy: 0.7189 - val_loss: 0.9967 - val_accuracy: 0.5954\n",
            "Epoch 22/200\n",
            "37/37 [==============================] - 0s 5ms/step - loss: 0.8916 - accuracy: 0.7190 - val_loss: 1.0011 - val_accuracy: 0.5954\n",
            "Epoch 23/200\n",
            "37/37 [==============================] - 0s 5ms/step - loss: 0.8881 - accuracy: 0.7190 - val_loss: 0.9989 - val_accuracy: 0.5954\n",
            "Epoch 24/200\n",
            "37/37 [==============================] - 0s 5ms/step - loss: 0.8794 - accuracy: 0.7195 - val_loss: 0.9950 - val_accuracy: 0.5954\n",
            "Epoch 25/200\n",
            "37/37 [==============================] - 0s 5ms/step - loss: 0.8794 - accuracy: 0.7198 - val_loss: 0.9943 - val_accuracy: 0.5954\n",
            "Epoch 26/200\n",
            "37/37 [==============================] - 0s 6ms/step - loss: 0.8757 - accuracy: 0.7192 - val_loss: 0.9879 - val_accuracy: 0.5954\n",
            "Epoch 27/200\n",
            "37/37 [==============================] - 0s 6ms/step - loss: 0.8782 - accuracy: 0.7190 - val_loss: 0.9922 - val_accuracy: 0.5954\n",
            "Epoch 28/200\n",
            "37/37 [==============================] - 0s 5ms/step - loss: 0.8687 - accuracy: 0.7194 - val_loss: 0.9911 - val_accuracy: 0.5954\n",
            "Epoch 29/200\n",
            "37/37 [==============================] - 0s 6ms/step - loss: 0.8752 - accuracy: 0.7194 - val_loss: 0.9847 - val_accuracy: 0.5954\n",
            "Epoch 30/200\n",
            "37/37 [==============================] - 0s 5ms/step - loss: 0.8655 - accuracy: 0.7192 - val_loss: 0.9904 - val_accuracy: 0.5954\n",
            "Epoch 31/200\n",
            "37/37 [==============================] - 0s 6ms/step - loss: 0.8592 - accuracy: 0.7209 - val_loss: 0.9893 - val_accuracy: 0.5954\n",
            "Epoch 32/200\n",
            "37/37 [==============================] - 0s 6ms/step - loss: 0.8532 - accuracy: 0.7198 - val_loss: 0.9838 - val_accuracy: 0.5954\n",
            "Epoch 33/200\n",
            "37/37 [==============================] - 0s 5ms/step - loss: 0.8598 - accuracy: 0.7188 - val_loss: 0.9890 - val_accuracy: 0.5954\n",
            "Epoch 34/200\n",
            "37/37 [==============================] - 0s 5ms/step - loss: 0.8520 - accuracy: 0.7202 - val_loss: 0.9865 - val_accuracy: 0.5954\n",
            "Epoch 35/200\n",
            "37/37 [==============================] - 0s 6ms/step - loss: 0.8484 - accuracy: 0.7200 - val_loss: 0.9870 - val_accuracy: 0.5954\n",
            "Epoch 36/200\n",
            "37/37 [==============================] - 0s 6ms/step - loss: 0.8493 - accuracy: 0.7195 - val_loss: 0.9874 - val_accuracy: 0.5954\n",
            "Epoch 37/200\n",
            "37/37 [==============================] - 0s 6ms/step - loss: 0.8534 - accuracy: 0.7195 - val_loss: 0.9833 - val_accuracy: 0.5954\n",
            "Epoch 38/200\n",
            "37/37 [==============================] - 0s 6ms/step - loss: 0.8454 - accuracy: 0.7200 - val_loss: 0.9815 - val_accuracy: 0.5954\n",
            "Epoch 39/200\n",
            "37/37 [==============================] - 0s 5ms/step - loss: 0.8411 - accuracy: 0.7201 - val_loss: 0.9833 - val_accuracy: 0.5954\n",
            "Epoch 40/200\n",
            "37/37 [==============================] - 0s 5ms/step - loss: 0.8440 - accuracy: 0.7207 - val_loss: 0.9871 - val_accuracy: 0.5954\n",
            "Epoch 41/200\n",
            "37/37 [==============================] - 0s 5ms/step - loss: 0.8402 - accuracy: 0.7216 - val_loss: 0.9884 - val_accuracy: 0.5954\n",
            "Epoch 42/200\n",
            "37/37 [==============================] - 0s 6ms/step - loss: 0.8366 - accuracy: 0.7226 - val_loss: 0.9837 - val_accuracy: 0.5954\n",
            "Epoch 43/200\n",
            "37/37 [==============================] - 0s 5ms/step - loss: 0.8438 - accuracy: 0.7194 - val_loss: 0.9876 - val_accuracy: 0.5954\n",
            "Epoch 44/200\n",
            "37/37 [==============================] - 0s 5ms/step - loss: 0.8403 - accuracy: 0.7218 - val_loss: 0.9855 - val_accuracy: 0.5954\n",
            "Epoch 45/200\n",
            "37/37 [==============================] - 0s 5ms/step - loss: 0.8358 - accuracy: 0.7200 - val_loss: 0.9907 - val_accuracy: 0.5954\n",
            "Epoch 46/200\n",
            "37/37 [==============================] - 0s 6ms/step - loss: 0.8326 - accuracy: 0.7231 - val_loss: 0.9858 - val_accuracy: 0.5954\n",
            "Epoch 47/200\n",
            "37/37 [==============================] - 0s 5ms/step - loss: 0.8366 - accuracy: 0.7209 - val_loss: 0.9853 - val_accuracy: 0.5954\n",
            "Epoch 48/200\n",
            "37/37 [==============================] - 0s 6ms/step - loss: 0.8299 - accuracy: 0.7207 - val_loss: 0.9896 - val_accuracy: 0.5954\n",
            "Epoch 49/200\n",
            "37/37 [==============================] - 0s 5ms/step - loss: 0.8337 - accuracy: 0.7205 - val_loss: 0.9876 - val_accuracy: 0.5954\n",
            "Epoch 50/200\n",
            "37/37 [==============================] - 0s 5ms/step - loss: 0.8297 - accuracy: 0.7229 - val_loss: 0.9789 - val_accuracy: 0.5954\n",
            "Epoch 51/200\n",
            "37/37 [==============================] - 0s 6ms/step - loss: 0.8344 - accuracy: 0.7218 - val_loss: 0.9822 - val_accuracy: 0.5954\n",
            "Epoch 52/200\n",
            "37/37 [==============================] - 0s 6ms/step - loss: 0.8341 - accuracy: 0.7225 - val_loss: 0.9756 - val_accuracy: 0.5954\n",
            "Epoch 53/200\n",
            "37/37 [==============================] - 0s 5ms/step - loss: 0.8301 - accuracy: 0.7224 - val_loss: 0.9831 - val_accuracy: 0.5954\n",
            "Epoch 54/200\n",
            "37/37 [==============================] - 0s 5ms/step - loss: 0.8319 - accuracy: 0.7212 - val_loss: 0.9880 - val_accuracy: 0.5954\n",
            "Epoch 55/200\n",
            "37/37 [==============================] - 0s 6ms/step - loss: 0.8406 - accuracy: 0.7220 - val_loss: 0.9765 - val_accuracy: 0.5954\n",
            "Epoch 56/200\n",
            "37/37 [==============================] - 0s 6ms/step - loss: 0.8308 - accuracy: 0.7215 - val_loss: 0.9818 - val_accuracy: 0.5954\n",
            "Epoch 57/200\n",
            "37/37 [==============================] - 0s 6ms/step - loss: 0.8267 - accuracy: 0.7222 - val_loss: 0.9898 - val_accuracy: 0.5954\n",
            "Epoch 58/200\n",
            "37/37 [==============================] - 0s 6ms/step - loss: 0.8279 - accuracy: 0.7242 - val_loss: 0.9832 - val_accuracy: 0.5954\n",
            "Epoch 59/200\n",
            "37/37 [==============================] - 0s 5ms/step - loss: 0.8233 - accuracy: 0.7222 - val_loss: 0.9892 - val_accuracy: 0.5954\n",
            "Epoch 60/200\n",
            "37/37 [==============================] - 0s 5ms/step - loss: 0.8183 - accuracy: 0.7220 - val_loss: 0.9736 - val_accuracy: 0.5954\n",
            "Epoch 61/200\n",
            "37/37 [==============================] - 0s 6ms/step - loss: 0.8251 - accuracy: 0.7212 - val_loss: 0.9798 - val_accuracy: 0.5954\n",
            "Epoch 62/200\n",
            "37/37 [==============================] - 0s 5ms/step - loss: 0.8238 - accuracy: 0.7231 - val_loss: 0.9936 - val_accuracy: 0.5954\n",
            "Epoch 63/200\n",
            "37/37 [==============================] - 0s 6ms/step - loss: 0.8222 - accuracy: 0.7235 - val_loss: 0.9712 - val_accuracy: 0.5954\n",
            "Epoch 64/200\n",
            "37/37 [==============================] - 0s 6ms/step - loss: 0.8198 - accuracy: 0.7245 - val_loss: 0.9769 - val_accuracy: 0.5954\n",
            "Epoch 65/200\n",
            "37/37 [==============================] - 0s 6ms/step - loss: 0.8190 - accuracy: 0.7236 - val_loss: 0.9808 - val_accuracy: 0.5954\n",
            "Epoch 66/200\n",
            "37/37 [==============================] - 0s 6ms/step - loss: 0.8153 - accuracy: 0.7241 - val_loss: 0.9729 - val_accuracy: 0.5954\n",
            "Epoch 67/200\n",
            "37/37 [==============================] - 0s 5ms/step - loss: 0.8175 - accuracy: 0.7234 - val_loss: 0.9713 - val_accuracy: 0.5954\n",
            "Epoch 68/200\n",
            "37/37 [==============================] - 0s 5ms/step - loss: 0.8127 - accuracy: 0.7248 - val_loss: 0.9779 - val_accuracy: 0.5954\n",
            "Epoch 69/200\n",
            "37/37 [==============================] - 0s 5ms/step - loss: 0.8149 - accuracy: 0.7210 - val_loss: 0.9854 - val_accuracy: 0.5954\n",
            "Epoch 70/200\n",
            "37/37 [==============================] - 0s 6ms/step - loss: 0.8136 - accuracy: 0.7248 - val_loss: 0.9780 - val_accuracy: 0.5954\n",
            "Epoch 71/200\n",
            "37/37 [==============================] - 0s 5ms/step - loss: 0.8150 - accuracy: 0.7250 - val_loss: 0.9749 - val_accuracy: 0.5954\n",
            "Epoch 72/200\n",
            "37/37 [==============================] - 0s 6ms/step - loss: 0.8113 - accuracy: 0.7254 - val_loss: 0.9725 - val_accuracy: 0.5954\n",
            "Epoch 73/200\n",
            "37/37 [==============================] - 0s 6ms/step - loss: 0.8186 - accuracy: 0.7223 - val_loss: 0.9790 - val_accuracy: 0.5954\n",
            "Epoch 74/200\n",
            "37/37 [==============================] - 0s 5ms/step - loss: 0.8122 - accuracy: 0.7258 - val_loss: 0.9731 - val_accuracy: 0.5954\n",
            "Epoch 75/200\n",
            "37/37 [==============================] - 0s 6ms/step - loss: 0.8145 - accuracy: 0.7259 - val_loss: 0.9926 - val_accuracy: 0.5954\n",
            "Epoch 76/200\n",
            "37/37 [==============================] - 0s 6ms/step - loss: 0.8073 - accuracy: 0.7260 - val_loss: 0.9747 - val_accuracy: 0.5954\n",
            "Epoch 77/200\n",
            "37/37 [==============================] - 0s 5ms/step - loss: 0.8131 - accuracy: 0.7244 - val_loss: 0.9697 - val_accuracy: 0.5954\n",
            "Epoch 78/200\n",
            "37/37 [==============================] - 0s 5ms/step - loss: 0.8063 - accuracy: 0.7276 - val_loss: 0.9798 - val_accuracy: 0.5954\n",
            "Epoch 79/200\n",
            "37/37 [==============================] - 0s 5ms/step - loss: 0.8090 - accuracy: 0.7261 - val_loss: 0.9794 - val_accuracy: 0.5954\n",
            "Epoch 80/200\n",
            "37/37 [==============================] - 0s 6ms/step - loss: 0.8155 - accuracy: 0.7244 - val_loss: 0.9800 - val_accuracy: 0.5954\n",
            "Epoch 81/200\n",
            "37/37 [==============================] - 0s 5ms/step - loss: 0.8111 - accuracy: 0.7254 - val_loss: 0.9878 - val_accuracy: 0.5954\n",
            "Epoch 82/200\n",
            "37/37 [==============================] - 0s 5ms/step - loss: 0.8127 - accuracy: 0.7247 - val_loss: 0.9802 - val_accuracy: 0.5954\n",
            "Epoch 83/200\n",
            "37/37 [==============================] - 0s 6ms/step - loss: 0.8091 - accuracy: 0.7243 - val_loss: 0.9844 - val_accuracy: 0.5954\n",
            "Epoch 84/200\n",
            "37/37 [==============================] - 0s 6ms/step - loss: 0.8085 - accuracy: 0.7257 - val_loss: 0.9721 - val_accuracy: 0.5954\n",
            "Epoch 85/200\n",
            "37/37 [==============================] - 0s 6ms/step - loss: 0.8078 - accuracy: 0.7260 - val_loss: 0.9663 - val_accuracy: 0.5954\n",
            "Epoch 86/200\n",
            "37/37 [==============================] - 0s 5ms/step - loss: 0.8050 - accuracy: 0.7262 - val_loss: 0.9813 - val_accuracy: 0.5954\n",
            "Epoch 87/200\n",
            "37/37 [==============================] - 0s 6ms/step - loss: 0.8103 - accuracy: 0.7268 - val_loss: 0.9753 - val_accuracy: 0.5954\n",
            "Epoch 88/200\n",
            "37/37 [==============================] - 0s 6ms/step - loss: 0.8064 - accuracy: 0.7272 - val_loss: 0.9623 - val_accuracy: 0.5954\n",
            "Epoch 89/200\n",
            "37/37 [==============================] - 0s 6ms/step - loss: 0.8059 - accuracy: 0.7265 - val_loss: 0.9763 - val_accuracy: 0.5954\n",
            "Epoch 90/200\n",
            "37/37 [==============================] - 0s 6ms/step - loss: 0.8081 - accuracy: 0.7250 - val_loss: 0.9745 - val_accuracy: 0.5954\n",
            "Epoch 91/200\n",
            "37/37 [==============================] - 0s 5ms/step - loss: 0.8119 - accuracy: 0.7269 - val_loss: 0.9772 - val_accuracy: 0.5954\n",
            "Epoch 92/200\n",
            "37/37 [==============================] - 0s 6ms/step - loss: 0.8064 - accuracy: 0.7262 - val_loss: 0.9668 - val_accuracy: 0.5954\n",
            "Epoch 93/200\n",
            "37/37 [==============================] - 0s 6ms/step - loss: 0.8056 - accuracy: 0.7275 - val_loss: 0.9891 - val_accuracy: 0.5954\n",
            "Epoch 94/200\n",
            "37/37 [==============================] - 0s 6ms/step - loss: 0.8031 - accuracy: 0.7281 - val_loss: 0.9674 - val_accuracy: 0.5954\n",
            "Epoch 95/200\n",
            "37/37 [==============================] - 0s 6ms/step - loss: 0.8072 - accuracy: 0.7266 - val_loss: 0.9773 - val_accuracy: 0.5954\n",
            "Epoch 96/200\n",
            "37/37 [==============================] - 0s 6ms/step - loss: 0.8051 - accuracy: 0.7276 - val_loss: 0.9843 - val_accuracy: 0.5954\n",
            "Epoch 97/200\n",
            "37/37 [==============================] - 0s 6ms/step - loss: 0.8028 - accuracy: 0.7282 - val_loss: 0.9725 - val_accuracy: 0.5954\n",
            "Epoch 98/200\n",
            "37/37 [==============================] - 0s 6ms/step - loss: 0.8065 - accuracy: 0.7251 - val_loss: 0.9991 - val_accuracy: 0.5954\n",
            "Epoch 99/200\n",
            "37/37 [==============================] - 0s 6ms/step - loss: 0.8020 - accuracy: 0.7272 - val_loss: 0.9699 - val_accuracy: 0.5954\n",
            "Epoch 100/200\n",
            "37/37 [==============================] - 0s 5ms/step - loss: 0.8032 - accuracy: 0.7258 - val_loss: 0.9735 - val_accuracy: 0.5954\n",
            "Epoch 101/200\n",
            "37/37 [==============================] - 0s 6ms/step - loss: 0.8026 - accuracy: 0.7284 - val_loss: 0.9750 - val_accuracy: 0.5954\n",
            "Epoch 102/200\n",
            "37/37 [==============================] - 0s 6ms/step - loss: 0.7975 - accuracy: 0.7288 - val_loss: 0.9718 - val_accuracy: 0.5954\n",
            "Epoch 103/200\n",
            "37/37 [==============================] - 0s 6ms/step - loss: 0.8039 - accuracy: 0.7280 - val_loss: 0.9719 - val_accuracy: 0.5954\n",
            "Epoch 104/200\n",
            "37/37 [==============================] - 0s 6ms/step - loss: 0.7998 - accuracy: 0.7268 - val_loss: 0.9742 - val_accuracy: 0.5954\n",
            "Epoch 105/200\n",
            "37/37 [==============================] - 0s 6ms/step - loss: 0.8041 - accuracy: 0.7288 - val_loss: 0.9708 - val_accuracy: 0.5954\n",
            "Epoch 106/200\n",
            "37/37 [==============================] - 0s 5ms/step - loss: 0.8014 - accuracy: 0.7287 - val_loss: 0.9667 - val_accuracy: 0.5954\n",
            "Epoch 107/200\n",
            "37/37 [==============================] - 0s 6ms/step - loss: 0.8012 - accuracy: 0.7268 - val_loss: 0.9807 - val_accuracy: 0.5954\n",
            "Epoch 108/200\n",
            "37/37 [==============================] - 0s 5ms/step - loss: 0.8072 - accuracy: 0.7268 - val_loss: 0.9832 - val_accuracy: 0.5954\n",
            "Epoch 109/200\n",
            "37/37 [==============================] - 0s 5ms/step - loss: 0.7963 - accuracy: 0.7274 - val_loss: 0.9739 - val_accuracy: 0.5954\n",
            "Epoch 110/200\n",
            "37/37 [==============================] - 0s 6ms/step - loss: 0.7983 - accuracy: 0.7293 - val_loss: 0.9720 - val_accuracy: 0.5954\n",
            "Epoch 111/200\n",
            "37/37 [==============================] - 0s 6ms/step - loss: 0.7974 - accuracy: 0.7287 - val_loss: 0.9786 - val_accuracy: 0.5954\n",
            "Epoch 112/200\n",
            "37/37 [==============================] - 0s 6ms/step - loss: 0.7989 - accuracy: 0.7274 - val_loss: 0.9646 - val_accuracy: 0.5954\n",
            "Epoch 113/200\n",
            "37/37 [==============================] - 0s 6ms/step - loss: 0.7961 - accuracy: 0.7310 - val_loss: 0.9687 - val_accuracy: 0.5954\n",
            "Epoch 114/200\n",
            "37/37 [==============================] - 0s 5ms/step - loss: 0.7951 - accuracy: 0.7301 - val_loss: 0.9736 - val_accuracy: 0.5954\n",
            "Epoch 115/200\n",
            "37/37 [==============================] - 0s 6ms/step - loss: 0.8002 - accuracy: 0.7281 - val_loss: 0.9600 - val_accuracy: 0.5954\n",
            "Epoch 116/200\n",
            "37/37 [==============================] - 0s 6ms/step - loss: 0.7987 - accuracy: 0.7301 - val_loss: 0.9748 - val_accuracy: 0.5954\n",
            "Epoch 117/200\n",
            "37/37 [==============================] - 0s 6ms/step - loss: 0.8006 - accuracy: 0.7277 - val_loss: 0.9786 - val_accuracy: 0.5954\n",
            "Epoch 118/200\n",
            "37/37 [==============================] - 0s 6ms/step - loss: 0.7979 - accuracy: 0.7270 - val_loss: 0.9623 - val_accuracy: 0.5954\n",
            "Epoch 119/200\n",
            "37/37 [==============================] - 0s 6ms/step - loss: 0.7998 - accuracy: 0.7274 - val_loss: 0.9876 - val_accuracy: 0.5954\n",
            "Epoch 120/200\n",
            "37/37 [==============================] - 0s 6ms/step - loss: 0.8002 - accuracy: 0.7294 - val_loss: 0.9985 - val_accuracy: 0.5954\n",
            "Epoch 121/200\n",
            "37/37 [==============================] - 0s 5ms/step - loss: 0.7980 - accuracy: 0.7298 - val_loss: 0.9846 - val_accuracy: 0.5954\n",
            "Epoch 122/200\n",
            "37/37 [==============================] - 0s 6ms/step - loss: 0.8007 - accuracy: 0.7287 - val_loss: 0.9761 - val_accuracy: 0.5954\n",
            "Epoch 123/200\n",
            "37/37 [==============================] - 0s 6ms/step - loss: 0.7990 - accuracy: 0.7310 - val_loss: 0.9754 - val_accuracy: 0.5954\n",
            "Epoch 124/200\n",
            "37/37 [==============================] - 0s 6ms/step - loss: 0.8001 - accuracy: 0.7304 - val_loss: 0.9607 - val_accuracy: 0.5958\n",
            "Epoch 125/200\n",
            "37/37 [==============================] - 0s 6ms/step - loss: 0.7989 - accuracy: 0.7295 - val_loss: 0.9741 - val_accuracy: 0.5954\n",
            "Epoch 126/200\n",
            "37/37 [==============================] - 0s 6ms/step - loss: 0.7973 - accuracy: 0.7286 - val_loss: 0.9841 - val_accuracy: 0.5954\n",
            "Epoch 127/200\n",
            "37/37 [==============================] - 0s 6ms/step - loss: 0.8019 - accuracy: 0.7293 - val_loss: 0.9680 - val_accuracy: 0.5958\n",
            "Epoch 128/200\n",
            "37/37 [==============================] - 0s 6ms/step - loss: 0.7945 - accuracy: 0.7296 - val_loss: 0.9745 - val_accuracy: 0.5954\n",
            "Epoch 129/200\n",
            "37/37 [==============================] - 0s 6ms/step - loss: 0.7949 - accuracy: 0.7303 - val_loss: 0.9787 - val_accuracy: 0.5954\n",
            "Epoch 130/200\n",
            "37/37 [==============================] - 0s 6ms/step - loss: 0.7963 - accuracy: 0.7300 - val_loss: 0.9667 - val_accuracy: 0.5958\n",
            "Epoch 131/200\n",
            "37/37 [==============================] - 0s 6ms/step - loss: 0.7949 - accuracy: 0.7303 - val_loss: 0.9739 - val_accuracy: 0.5954\n",
            "Epoch 132/200\n",
            "37/37 [==============================] - 0s 7ms/step - loss: 0.7951 - accuracy: 0.7297 - val_loss: 0.9930 - val_accuracy: 0.5954\n",
            "Epoch 133/200\n",
            "37/37 [==============================] - 0s 6ms/step - loss: 0.7974 - accuracy: 0.7302 - val_loss: 0.9683 - val_accuracy: 0.5954\n",
            "Epoch 134/200\n",
            "37/37 [==============================] - 0s 6ms/step - loss: 0.7921 - accuracy: 0.7322 - val_loss: 0.9927 - val_accuracy: 0.5954\n",
            "Epoch 135/200\n",
            "37/37 [==============================] - 0s 6ms/step - loss: 0.7911 - accuracy: 0.7307 - val_loss: 0.9710 - val_accuracy: 0.5954\n",
            "Epoch 136/200\n",
            "37/37 [==============================] - 0s 6ms/step - loss: 0.7902 - accuracy: 0.7326 - val_loss: 0.9698 - val_accuracy: 0.5954\n",
            "Epoch 137/200\n",
            "37/37 [==============================] - 0s 6ms/step - loss: 0.7929 - accuracy: 0.7282 - val_loss: 0.9803 - val_accuracy: 0.5954\n",
            "Epoch 138/200\n",
            "37/37 [==============================] - 0s 6ms/step - loss: 0.7966 - accuracy: 0.7268 - val_loss: 0.9733 - val_accuracy: 0.5954\n",
            "Epoch 139/200\n",
            "37/37 [==============================] - 0s 6ms/step - loss: 0.7862 - accuracy: 0.7320 - val_loss: 0.9603 - val_accuracy: 0.5968\n",
            "Epoch 140/200\n",
            "37/37 [==============================] - 0s 6ms/step - loss: 0.7910 - accuracy: 0.7316 - val_loss: 0.9892 - val_accuracy: 0.5954\n",
            "Epoch 141/200\n",
            "37/37 [==============================] - 0s 6ms/step - loss: 0.7865 - accuracy: 0.7324 - val_loss: 0.9705 - val_accuracy: 0.5958\n",
            "Epoch 142/200\n",
            "37/37 [==============================] - 0s 6ms/step - loss: 0.7902 - accuracy: 0.7333 - val_loss: 0.9566 - val_accuracy: 0.5968\n",
            "Epoch 143/200\n",
            "37/37 [==============================] - 0s 6ms/step - loss: 0.7887 - accuracy: 0.7305 - val_loss: 0.9734 - val_accuracy: 0.5954\n",
            "Epoch 144/200\n",
            "37/37 [==============================] - 0s 6ms/step - loss: 0.7909 - accuracy: 0.7317 - val_loss: 0.9722 - val_accuracy: 0.5963\n",
            "Epoch 145/200\n",
            "37/37 [==============================] - 0s 6ms/step - loss: 0.7894 - accuracy: 0.7329 - val_loss: 0.9720 - val_accuracy: 0.5954\n",
            "Epoch 146/200\n",
            "37/37 [==============================] - 0s 6ms/step - loss: 0.7957 - accuracy: 0.7306 - val_loss: 0.9669 - val_accuracy: 0.5963\n",
            "Epoch 147/200\n",
            "37/37 [==============================] - 0s 6ms/step - loss: 0.7971 - accuracy: 0.7300 - val_loss: 0.9642 - val_accuracy: 0.5958\n",
            "Epoch 148/200\n",
            "37/37 [==============================] - 0s 6ms/step - loss: 0.7904 - accuracy: 0.7337 - val_loss: 0.9652 - val_accuracy: 0.5963\n",
            "Epoch 149/200\n",
            "37/37 [==============================] - 0s 6ms/step - loss: 0.7895 - accuracy: 0.7330 - val_loss: 0.9670 - val_accuracy: 0.5958\n",
            "Epoch 150/200\n",
            "37/37 [==============================] - 0s 7ms/step - loss: 0.7886 - accuracy: 0.7337 - val_loss: 0.9610 - val_accuracy: 0.5968\n",
            "Epoch 151/200\n",
            "37/37 [==============================] - 0s 6ms/step - loss: 0.7885 - accuracy: 0.7317 - val_loss: 0.9538 - val_accuracy: 0.5987\n",
            "Epoch 152/200\n",
            "37/37 [==============================] - 0s 6ms/step - loss: 0.7856 - accuracy: 0.7325 - val_loss: 0.9519 - val_accuracy: 0.6002\n",
            "Epoch 153/200\n",
            "37/37 [==============================] - 0s 6ms/step - loss: 0.7941 - accuracy: 0.7302 - val_loss: 0.9742 - val_accuracy: 0.5954\n",
            "Epoch 154/200\n",
            "37/37 [==============================] - 0s 6ms/step - loss: 0.7953 - accuracy: 0.7317 - val_loss: 0.9638 - val_accuracy: 0.5968\n",
            "Epoch 155/200\n",
            "37/37 [==============================] - 0s 6ms/step - loss: 0.7943 - accuracy: 0.7333 - val_loss: 0.9553 - val_accuracy: 0.6002\n",
            "Epoch 156/200\n",
            "37/37 [==============================] - 0s 6ms/step - loss: 0.7879 - accuracy: 0.7321 - val_loss: 0.9549 - val_accuracy: 0.6016\n",
            "Epoch 157/200\n",
            "37/37 [==============================] - 0s 6ms/step - loss: 0.7867 - accuracy: 0.7326 - val_loss: 0.9599 - val_accuracy: 0.5973\n",
            "Epoch 158/200\n",
            "37/37 [==============================] - 0s 6ms/step - loss: 0.7873 - accuracy: 0.7330 - val_loss: 0.9672 - val_accuracy: 0.5963\n",
            "Epoch 159/200\n",
            "37/37 [==============================] - 0s 6ms/step - loss: 0.7907 - accuracy: 0.7288 - val_loss: 0.9607 - val_accuracy: 0.5958\n",
            "Epoch 160/200\n",
            "37/37 [==============================] - 0s 6ms/step - loss: 0.7843 - accuracy: 0.7320 - val_loss: 0.9573 - val_accuracy: 0.5973\n",
            "Epoch 161/200\n",
            "37/37 [==============================] - 0s 6ms/step - loss: 0.7844 - accuracy: 0.7314 - val_loss: 0.9788 - val_accuracy: 0.5954\n",
            "Epoch 162/200\n",
            "37/37 [==============================] - 0s 6ms/step - loss: 0.7848 - accuracy: 0.7329 - val_loss: 0.9635 - val_accuracy: 0.5954\n",
            "Epoch 163/200\n",
            "37/37 [==============================] - 0s 6ms/step - loss: 0.7839 - accuracy: 0.7327 - val_loss: 0.9750 - val_accuracy: 0.5958\n",
            "Epoch 164/200\n",
            "37/37 [==============================] - 0s 6ms/step - loss: 0.7869 - accuracy: 0.7351 - val_loss: 0.9624 - val_accuracy: 0.5973\n",
            "Epoch 165/200\n",
            "37/37 [==============================] - 0s 6ms/step - loss: 0.7909 - accuracy: 0.7329 - val_loss: 0.9727 - val_accuracy: 0.5963\n",
            "Epoch 166/200\n",
            "37/37 [==============================] - 0s 6ms/step - loss: 0.7860 - accuracy: 0.7334 - val_loss: 0.9559 - val_accuracy: 0.5973\n",
            "Epoch 167/200\n",
            "37/37 [==============================] - 0s 6ms/step - loss: 0.7869 - accuracy: 0.7336 - val_loss: 0.9491 - val_accuracy: 0.5987\n",
            "Epoch 168/200\n",
            "37/37 [==============================] - 0s 6ms/step - loss: 0.7885 - accuracy: 0.7327 - val_loss: 0.9774 - val_accuracy: 0.5954\n",
            "Epoch 169/200\n",
            "37/37 [==============================] - 0s 6ms/step - loss: 0.7860 - accuracy: 0.7355 - val_loss: 0.9459 - val_accuracy: 0.6045\n",
            "Epoch 170/200\n",
            "37/37 [==============================] - 0s 6ms/step - loss: 0.7843 - accuracy: 0.7348 - val_loss: 0.9587 - val_accuracy: 0.5978\n",
            "Epoch 171/200\n",
            "37/37 [==============================] - 0s 6ms/step - loss: 0.7867 - accuracy: 0.7325 - val_loss: 0.9676 - val_accuracy: 0.5968\n",
            "Epoch 172/200\n",
            "37/37 [==============================] - 0s 6ms/step - loss: 0.7853 - accuracy: 0.7332 - val_loss: 0.9622 - val_accuracy: 0.5968\n",
            "Epoch 173/200\n",
            "37/37 [==============================] - 0s 6ms/step - loss: 0.7810 - accuracy: 0.7337 - val_loss: 0.9574 - val_accuracy: 0.5978\n",
            "Epoch 174/200\n",
            "37/37 [==============================] - 0s 6ms/step - loss: 0.7797 - accuracy: 0.7374 - val_loss: 0.9545 - val_accuracy: 0.5978\n",
            "Epoch 175/200\n",
            "37/37 [==============================] - 0s 6ms/step - loss: 0.7880 - accuracy: 0.7333 - val_loss: 0.9552 - val_accuracy: 0.5978\n",
            "Epoch 176/200\n",
            "37/37 [==============================] - 0s 6ms/step - loss: 0.7813 - accuracy: 0.7337 - val_loss: 0.9632 - val_accuracy: 0.5978\n",
            "Epoch 177/200\n",
            "37/37 [==============================] - 0s 6ms/step - loss: 0.7822 - accuracy: 0.7361 - val_loss: 0.9579 - val_accuracy: 0.6007\n",
            "Epoch 178/200\n",
            "37/37 [==============================] - 0s 6ms/step - loss: 0.7865 - accuracy: 0.7324 - val_loss: 0.9586 - val_accuracy: 0.5968\n",
            "Epoch 179/200\n",
            "37/37 [==============================] - 0s 6ms/step - loss: 0.7836 - accuracy: 0.7337 - val_loss: 0.9617 - val_accuracy: 0.5987\n",
            "Epoch 180/200\n",
            "37/37 [==============================] - 0s 6ms/step - loss: 0.7793 - accuracy: 0.7350 - val_loss: 0.9485 - val_accuracy: 0.6007\n",
            "Epoch 181/200\n",
            "37/37 [==============================] - 0s 6ms/step - loss: 0.7815 - accuracy: 0.7358 - val_loss: 0.9607 - val_accuracy: 0.5973\n",
            "Epoch 182/200\n",
            "37/37 [==============================] - 0s 6ms/step - loss: 0.7848 - accuracy: 0.7319 - val_loss: 0.9536 - val_accuracy: 0.5987\n",
            "Epoch 183/200\n",
            "37/37 [==============================] - 0s 6ms/step - loss: 0.7827 - accuracy: 0.7353 - val_loss: 0.9631 - val_accuracy: 0.5973\n",
            "Epoch 184/200\n",
            "37/37 [==============================] - 0s 6ms/step - loss: 0.7804 - accuracy: 0.7357 - val_loss: 0.9592 - val_accuracy: 0.5968\n",
            "Epoch 185/200\n",
            "37/37 [==============================] - 0s 6ms/step - loss: 0.7804 - accuracy: 0.7328 - val_loss: 0.9660 - val_accuracy: 0.5963\n",
            "Epoch 186/200\n",
            "37/37 [==============================] - 0s 6ms/step - loss: 0.7753 - accuracy: 0.7332 - val_loss: 0.9645 - val_accuracy: 0.5973\n",
            "Epoch 187/200\n",
            "37/37 [==============================] - 0s 6ms/step - loss: 0.7773 - accuracy: 0.7340 - val_loss: 0.9544 - val_accuracy: 0.5973\n",
            "Epoch 188/200\n",
            "37/37 [==============================] - 0s 6ms/step - loss: 0.7824 - accuracy: 0.7338 - val_loss: 0.9481 - val_accuracy: 0.5973\n",
            "Epoch 189/200\n",
            "37/37 [==============================] - 0s 6ms/step - loss: 0.7828 - accuracy: 0.7332 - val_loss: 0.9549 - val_accuracy: 0.5973\n",
            "Epoch 190/200\n",
            "37/37 [==============================] - 0s 6ms/step - loss: 0.7811 - accuracy: 0.7360 - val_loss: 0.9672 - val_accuracy: 0.5973\n",
            "Epoch 191/200\n",
            "37/37 [==============================] - 0s 6ms/step - loss: 0.7825 - accuracy: 0.7345 - val_loss: 0.9486 - val_accuracy: 0.5992\n",
            "Epoch 192/200\n",
            "37/37 [==============================] - 0s 6ms/step - loss: 0.7818 - accuracy: 0.7317 - val_loss: 0.9487 - val_accuracy: 0.6162\n",
            "Epoch 193/200\n",
            "37/37 [==============================] - 0s 6ms/step - loss: 0.7850 - accuracy: 0.7357 - val_loss: 0.9572 - val_accuracy: 0.5968\n",
            "Epoch 194/200\n",
            "37/37 [==============================] - 0s 6ms/step - loss: 0.7890 - accuracy: 0.7320 - val_loss: 0.9579 - val_accuracy: 0.5983\n",
            "Epoch 195/200\n",
            "37/37 [==============================] - 0s 6ms/step - loss: 0.7770 - accuracy: 0.7347 - val_loss: 0.9609 - val_accuracy: 0.5973\n",
            "Epoch 196/200\n",
            "37/37 [==============================] - 0s 6ms/step - loss: 0.7806 - accuracy: 0.7344 - val_loss: 0.9516 - val_accuracy: 0.5983\n",
            "Epoch 197/200\n",
            "37/37 [==============================] - 0s 6ms/step - loss: 0.7766 - accuracy: 0.7362 - val_loss: 0.9506 - val_accuracy: 0.6045\n",
            "Epoch 198/200\n",
            "37/37 [==============================] - 0s 6ms/step - loss: 0.7742 - accuracy: 0.7338 - val_loss: 0.9511 - val_accuracy: 0.5973\n",
            "Epoch 199/200\n",
            "37/37 [==============================] - 0s 6ms/step - loss: 0.7813 - accuracy: 0.7315 - val_loss: 0.9519 - val_accuracy: 0.5987\n",
            "Epoch 200/200\n",
            "37/37 [==============================] - 0s 6ms/step - loss: 0.7766 - accuracy: 0.7316 - val_loss: 0.9490 - val_accuracy: 0.6031\n"
          ],
          "name": "stdout"
        }
      ]
    },
    {
      "cell_type": "code",
      "metadata": {
        "id": "A43aTa_w0Yoh",
        "outputId": "0f380089-4196-46cc-d36e-1622727ccc02",
        "colab": {
          "base_uri": "https://localhost:8080/",
          "height": 258
        }
      },
      "source": [
        "plot_history(history)"
      ],
      "execution_count": 51,
      "outputs": [
        {
          "output_type": "display_data",
          "data": {
            "image/png": "[encoded data removed]",
            "text/plain": [
              "<Figure size 1152x288 with 2 Axes>"
            ]
          },
          "metadata": {
            "tags": [],
            "needs_background": "light"
          }
        }
      ]
    },
    {
      "cell_type": "markdown",
      "metadata": {
        "id": "i5FOMG3BJx0e"
      },
      "source": [
        "**Дообученные эмбединги после инициализации**"
      ]
    },
    {
      "cell_type": "code",
      "metadata": {
        "id": "9T-MzqzcJX1X"
      },
      "source": [
        "keras.backend.clear_session()\n",
        "\n",
        "X_input = tf.keras.layers.Input(shape=(max_len,), name=\"X\")\n",
        "Embed_ = tf.keras.layers.Embedding(input_dim=max_words, output_dim=embed_vec_len, name=\"Embed_\", weights=[buffer], trainable=True)(X_input)\n",
        "Conv1_ = tf.keras.layers.Conv1D(filters=embed_vec_len, kernel_size=5, activation=\"relu\", name=\"Conv1_\")(Embed_)\n",
        "GlobMaxPool1_ = tf.keras.layers.GlobalMaxPool1D(name=\"GlobMaxPool1\")(Conv1_)\n",
        "Drop1_ = tf.keras.layers.Dropout(0.6)(GlobMaxPool1_)\n",
        "Dense1_ = tf.keras.layers.Dense(32, activation=\"relu\", name=\"Dense1_\")(Drop1_)\n",
        "Drop2_ = tf.keras.layers.Dropout(0.6)(Dense1_)\n",
        "Dense2_ = tf.keras.layers.Dense(32, activation=\"relu\", name=\"Dense2_\")(Drop2_)\n",
        "Drop3_ = tf.keras.layers.Dropout(0.6)(Dense2_)\n",
        "Dense3_ = tf.keras.layers.Dense(32, activation=\"relu\", name=\"Dense3_\")(Drop3_)\n",
        "Drop4_ = tf.keras.layers.Dropout(0.6)(Dense3_)\n",
        "Dense4_ = tf.keras.layers.Dense(32, activation=\"relu\", name=\"Dense4_\")(Drop4_)\n",
        "Drop5_ = tf.keras.layers.Dropout(0.75)(Dense4_)\n",
        "y_output = tf.keras.layers.Dense(num_classes, activation=\"softmax\", name=\"y\")(Drop5_)\n",
        "\n",
        "model = tf.keras.models.Model(inputs=[X_input], outputs=[y_output], name=\"my_model\")\n",
        "model.compile(loss='categorical_crossentropy',\n",
        "              optimizer='adam',\n",
        "              metrics=['accuracy'])"
      ],
      "execution_count": 52,
      "outputs": []
    },
    {
      "cell_type": "code",
      "metadata": {
        "id": "fK6Ud-G4JXp7",
        "outputId": "0b15c4b9-f058-4373-f7e6-98c19cb83871",
        "colab": {
          "base_uri": "https://localhost:8080/"
        }
      },
      "source": [
        "history = model.fit(x_train, y_train,\n",
        "                    batch_size=batch_size,\n",
        "                    epochs=epochs,\n",
        "                    verbose=1,\n",
        "                    validation_split=0.1,\n",
        "                    )"
      ],
      "execution_count": 53,
      "outputs": [
        {
          "output_type": "stream",
          "text": [
            "Epoch 1/200\n",
            "37/37 [==============================] - 0s 13ms/step - loss: 1.5584 - accuracy: 0.4626 - val_loss: 1.4477 - val_accuracy: 0.5954\n",
            "Epoch 2/200\n",
            "37/37 [==============================] - 0s 9ms/step - loss: 1.2693 - accuracy: 0.6479 - val_loss: 1.2784 - val_accuracy: 0.5954\n",
            "Epoch 3/200\n",
            "37/37 [==============================] - 0s 9ms/step - loss: 1.1362 - accuracy: 0.7013 - val_loss: 1.2026 - val_accuracy: 0.5954\n",
            "Epoch 4/200\n",
            "37/37 [==============================] - 0s 8ms/step - loss: 1.0794 - accuracy: 0.7118 - val_loss: 1.1775 - val_accuracy: 0.5954\n",
            "Epoch 5/200\n",
            "37/37 [==============================] - 0s 9ms/step - loss: 1.0283 - accuracy: 0.7161 - val_loss: 1.1537 - val_accuracy: 0.5954\n",
            "Epoch 6/200\n",
            "37/37 [==============================] - 0s 8ms/step - loss: 0.9814 - accuracy: 0.7168 - val_loss: 1.1069 - val_accuracy: 0.5954\n",
            "Epoch 7/200\n",
            "37/37 [==============================] - 0s 8ms/step - loss: 0.9594 - accuracy: 0.7167 - val_loss: 1.0791 - val_accuracy: 0.5954\n",
            "Epoch 8/200\n",
            "37/37 [==============================] - 0s 8ms/step - loss: 0.9437 - accuracy: 0.7169 - val_loss: 1.0865 - val_accuracy: 0.5954\n",
            "Epoch 9/200\n",
            "37/37 [==============================] - 0s 9ms/step - loss: 0.9283 - accuracy: 0.7176 - val_loss: 1.0767 - val_accuracy: 0.5954\n",
            "Epoch 10/200\n",
            "37/37 [==============================] - 0s 8ms/step - loss: 0.9138 - accuracy: 0.7169 - val_loss: 1.0710 - val_accuracy: 0.5954\n",
            "Epoch 11/200\n",
            "37/37 [==============================] - 0s 9ms/step - loss: 0.9161 - accuracy: 0.7174 - val_loss: 1.0633 - val_accuracy: 0.5954\n",
            "Epoch 12/200\n",
            "37/37 [==============================] - 0s 8ms/step - loss: 0.9002 - accuracy: 0.7175 - val_loss: 1.0486 - val_accuracy: 0.5954\n",
            "Epoch 13/200\n",
            "37/37 [==============================] - 0s 8ms/step - loss: 0.8998 - accuracy: 0.7177 - val_loss: 1.0515 - val_accuracy: 0.5954\n",
            "Epoch 14/200\n",
            "37/37 [==============================] - 0s 8ms/step - loss: 0.8905 - accuracy: 0.7180 - val_loss: 1.0516 - val_accuracy: 0.5954\n",
            "Epoch 15/200\n",
            "37/37 [==============================] - 0s 8ms/step - loss: 0.8849 - accuracy: 0.7177 - val_loss: 1.0533 - val_accuracy: 0.5954\n",
            "Epoch 16/200\n",
            "37/37 [==============================] - 0s 8ms/step - loss: 0.8728 - accuracy: 0.7180 - val_loss: 1.0484 - val_accuracy: 0.5954\n",
            "Epoch 17/200\n",
            "37/37 [==============================] - 0s 8ms/step - loss: 0.8635 - accuracy: 0.7177 - val_loss: 1.0169 - val_accuracy: 0.5954\n",
            "Epoch 18/200\n",
            "37/37 [==============================] - 0s 9ms/step - loss: 0.8659 - accuracy: 0.7179 - val_loss: 1.0484 - val_accuracy: 0.5954\n",
            "Epoch 19/200\n",
            "37/37 [==============================] - 0s 8ms/step - loss: 0.8575 - accuracy: 0.7181 - val_loss: 1.0285 - val_accuracy: 0.5954\n",
            "Epoch 20/200\n",
            "37/37 [==============================] - 0s 8ms/step - loss: 0.8582 - accuracy: 0.7177 - val_loss: 1.0168 - val_accuracy: 0.5954\n",
            "Epoch 21/200\n",
            "37/37 [==============================] - 0s 9ms/step - loss: 0.8477 - accuracy: 0.7179 - val_loss: 1.0116 - val_accuracy: 0.5954\n",
            "Epoch 22/200\n",
            "37/37 [==============================] - 0s 8ms/step - loss: 0.8487 - accuracy: 0.7180 - val_loss: 1.0091 - val_accuracy: 0.5954\n",
            "Epoch 23/200\n",
            "37/37 [==============================] - 0s 8ms/step - loss: 0.8468 - accuracy: 0.7181 - val_loss: 1.0153 - val_accuracy: 0.5954\n",
            "Epoch 24/200\n",
            "37/37 [==============================] - 0s 9ms/step - loss: 0.8374 - accuracy: 0.7182 - val_loss: 0.9918 - val_accuracy: 0.5954\n",
            "Epoch 25/200\n",
            "37/37 [==============================] - 0s 8ms/step - loss: 0.8340 - accuracy: 0.7180 - val_loss: 0.9883 - val_accuracy: 0.5954\n",
            "Epoch 26/200\n",
            "37/37 [==============================] - 0s 8ms/step - loss: 0.8363 - accuracy: 0.7181 - val_loss: 0.9970 - val_accuracy: 0.5954\n",
            "Epoch 27/200\n",
            "37/37 [==============================] - 0s 9ms/step - loss: 0.8357 - accuracy: 0.7181 - val_loss: 0.9882 - val_accuracy: 0.5954\n",
            "Epoch 28/200\n",
            "37/37 [==============================] - 0s 8ms/step - loss: 0.8288 - accuracy: 0.7182 - val_loss: 0.9986 - val_accuracy: 0.5954\n",
            "Epoch 29/200\n",
            "37/37 [==============================] - 0s 8ms/step - loss: 0.8233 - accuracy: 0.7182 - val_loss: 0.9915 - val_accuracy: 0.5954\n",
            "Epoch 30/200\n",
            "37/37 [==============================] - 0s 9ms/step - loss: 0.8296 - accuracy: 0.7183 - val_loss: 0.9914 - val_accuracy: 0.5954\n",
            "Epoch 31/200\n",
            "37/37 [==============================] - 0s 8ms/step - loss: 0.8192 - accuracy: 0.7182 - val_loss: 0.9815 - val_accuracy: 0.5954\n",
            "Epoch 32/200\n",
            "37/37 [==============================] - 0s 8ms/step - loss: 0.8212 - accuracy: 0.7183 - val_loss: 0.9821 - val_accuracy: 0.5954\n",
            "Epoch 33/200\n",
            "37/37 [==============================] - 0s 8ms/step - loss: 0.8174 - accuracy: 0.7183 - val_loss: 0.9802 - val_accuracy: 0.5954\n",
            "Epoch 34/200\n",
            "37/37 [==============================] - 0s 8ms/step - loss: 0.8181 - accuracy: 0.7183 - val_loss: 0.9764 - val_accuracy: 0.5954\n",
            "Epoch 35/200\n",
            "37/37 [==============================] - 0s 8ms/step - loss: 0.8141 - accuracy: 0.7183 - val_loss: 0.9804 - val_accuracy: 0.5954\n",
            "Epoch 36/200\n",
            "37/37 [==============================] - 0s 8ms/step - loss: 0.8136 - accuracy: 0.7183 - val_loss: 0.9696 - val_accuracy: 0.5954\n",
            "Epoch 37/200\n",
            "37/37 [==============================] - 0s 9ms/step - loss: 0.8152 - accuracy: 0.7183 - val_loss: 0.9687 - val_accuracy: 0.5954\n",
            "Epoch 38/200\n",
            "37/37 [==============================] - 0s 8ms/step - loss: 0.8031 - accuracy: 0.7183 - val_loss: 0.9653 - val_accuracy: 0.5954\n",
            "Epoch 39/200\n",
            "37/37 [==============================] - 0s 8ms/step - loss: 0.7989 - accuracy: 0.7183 - val_loss: 0.9649 - val_accuracy: 0.5954\n",
            "Epoch 40/200\n",
            "37/37 [==============================] - 0s 8ms/step - loss: 0.8176 - accuracy: 0.7183 - val_loss: 0.9624 - val_accuracy: 0.5954\n",
            "Epoch 41/200\n",
            "37/37 [==============================] - 0s 8ms/step - loss: 0.8115 - accuracy: 0.7183 - val_loss: 0.9670 - val_accuracy: 0.5954\n",
            "Epoch 42/200\n",
            "37/37 [==============================] - 0s 8ms/step - loss: 0.8038 - accuracy: 0.7183 - val_loss: 0.9653 - val_accuracy: 0.5954\n",
            "Epoch 43/200\n",
            "37/37 [==============================] - 0s 9ms/step - loss: 0.8017 - accuracy: 0.7183 - val_loss: 0.9479 - val_accuracy: 0.5954\n",
            "Epoch 44/200\n",
            "37/37 [==============================] - 0s 8ms/step - loss: 0.7982 - accuracy: 0.7183 - val_loss: 0.9580 - val_accuracy: 0.5954\n",
            "Epoch 45/200\n",
            "37/37 [==============================] - 0s 8ms/step - loss: 0.8003 - accuracy: 0.7183 - val_loss: 0.9634 - val_accuracy: 0.5954\n",
            "Epoch 46/200\n",
            "37/37 [==============================] - 0s 8ms/step - loss: 0.7910 - accuracy: 0.7183 - val_loss: 0.9425 - val_accuracy: 0.5954\n",
            "Epoch 47/200\n",
            "37/37 [==============================] - 0s 8ms/step - loss: 0.7932 - accuracy: 0.7183 - val_loss: 0.9568 - val_accuracy: 0.5954\n",
            "Epoch 48/200\n",
            "37/37 [==============================] - 0s 8ms/step - loss: 0.7992 - accuracy: 0.7183 - val_loss: 0.9428 - val_accuracy: 0.5954\n",
            "Epoch 49/200\n",
            "37/37 [==============================] - 0s 8ms/step - loss: 0.7933 - accuracy: 0.7182 - val_loss: 0.9517 - val_accuracy: 0.5954\n",
            "Epoch 50/200\n",
            "37/37 [==============================] - 0s 8ms/step - loss: 0.7902 - accuracy: 0.7183 - val_loss: 0.9537 - val_accuracy: 0.5954\n",
            "Epoch 51/200\n",
            "37/37 [==============================] - 0s 8ms/step - loss: 0.7958 - accuracy: 0.7183 - val_loss: 0.9580 - val_accuracy: 0.5954\n",
            "Epoch 52/200\n",
            "37/37 [==============================] - 0s 8ms/step - loss: 0.7809 - accuracy: 0.7183 - val_loss: 0.9425 - val_accuracy: 0.5954\n",
            "Epoch 53/200\n",
            "37/37 [==============================] - 0s 8ms/step - loss: 0.7893 - accuracy: 0.7183 - val_loss: 0.9403 - val_accuracy: 0.5954\n",
            "Epoch 54/200\n",
            "37/37 [==============================] - 0s 8ms/step - loss: 0.7829 - accuracy: 0.7183 - val_loss: 0.9474 - val_accuracy: 0.5954\n",
            "Epoch 55/200\n",
            "37/37 [==============================] - 0s 8ms/step - loss: 0.7861 - accuracy: 0.7183 - val_loss: 0.9387 - val_accuracy: 0.5954\n",
            "Epoch 56/200\n",
            "37/37 [==============================] - 0s 9ms/step - loss: 0.7836 - accuracy: 0.7183 - val_loss: 0.9496 - val_accuracy: 0.5954\n",
            "Epoch 57/200\n",
            "37/37 [==============================] - 0s 8ms/step - loss: 0.7811 - accuracy: 0.7183 - val_loss: 0.9356 - val_accuracy: 0.5954\n",
            "Epoch 58/200\n",
            "37/37 [==============================] - 0s 8ms/step - loss: 0.7740 - accuracy: 0.7183 - val_loss: 0.9230 - val_accuracy: 0.5954\n",
            "Epoch 59/200\n",
            "37/37 [==============================] - 0s 9ms/step - loss: 0.7720 - accuracy: 0.7183 - val_loss: 0.9242 - val_accuracy: 0.5954\n",
            "Epoch 60/200\n",
            "37/37 [==============================] - 0s 8ms/step - loss: 0.7697 - accuracy: 0.7183 - val_loss: 0.9370 - val_accuracy: 0.5954\n",
            "Epoch 61/200\n",
            "37/37 [==============================] - 0s 9ms/step - loss: 0.7650 - accuracy: 0.7183 - val_loss: 0.9162 - val_accuracy: 0.5954\n",
            "Epoch 62/200\n",
            "37/37 [==============================] - 0s 9ms/step - loss: 0.7703 - accuracy: 0.7183 - val_loss: 0.9185 - val_accuracy: 0.5954\n",
            "Epoch 63/200\n",
            "37/37 [==============================] - 0s 8ms/step - loss: 0.7621 - accuracy: 0.7183 - val_loss: 0.9242 - val_accuracy: 0.5954\n",
            "Epoch 64/200\n",
            "37/37 [==============================] - 0s 8ms/step - loss: 0.7536 - accuracy: 0.7183 - val_loss: 0.9084 - val_accuracy: 0.5954\n",
            "Epoch 65/200\n",
            "37/37 [==============================] - 0s 9ms/step - loss: 0.7564 - accuracy: 0.7183 - val_loss: 0.9079 - val_accuracy: 0.5954\n",
            "Epoch 66/200\n",
            "37/37 [==============================] - 0s 8ms/step - loss: 0.7538 - accuracy: 0.7183 - val_loss: 0.9198 - val_accuracy: 0.5954\n",
            "Epoch 67/200\n",
            "37/37 [==============================] - 0s 8ms/step - loss: 0.7559 - accuracy: 0.7183 - val_loss: 0.9166 - val_accuracy: 0.5954\n",
            "Epoch 68/200\n",
            "37/37 [==============================] - 0s 9ms/step - loss: 0.7582 - accuracy: 0.7183 - val_loss: 0.9159 - val_accuracy: 0.5954\n",
            "Epoch 69/200\n",
            "37/37 [==============================] - 0s 9ms/step - loss: 0.7579 - accuracy: 0.7183 - val_loss: 0.9039 - val_accuracy: 0.5954\n",
            "Epoch 70/200\n",
            "37/37 [==============================] - 0s 8ms/step - loss: 0.7479 - accuracy: 0.7183 - val_loss: 0.8977 - val_accuracy: 0.5954\n",
            "Epoch 71/200\n",
            "37/37 [==============================] - 0s 8ms/step - loss: 0.7430 - accuracy: 0.7183 - val_loss: 0.8990 - val_accuracy: 0.5954\n",
            "Epoch 72/200\n",
            "37/37 [==============================] - 0s 9ms/step - loss: 0.7505 - accuracy: 0.7183 - val_loss: 0.8983 - val_accuracy: 0.5954\n",
            "Epoch 73/200\n",
            "37/37 [==============================] - 0s 8ms/step - loss: 0.7515 - accuracy: 0.7183 - val_loss: 0.9100 - val_accuracy: 0.5954\n",
            "Epoch 74/200\n",
            "37/37 [==============================] - 0s 9ms/step - loss: 0.7462 - accuracy: 0.7183 - val_loss: 0.9109 - val_accuracy: 0.5954\n",
            "Epoch 75/200\n",
            "37/37 [==============================] - 0s 9ms/step - loss: 0.7483 - accuracy: 0.7183 - val_loss: 0.9064 - val_accuracy: 0.5954\n",
            "Epoch 76/200\n",
            "37/37 [==============================] - 0s 8ms/step - loss: 0.7366 - accuracy: 0.7183 - val_loss: 0.8949 - val_accuracy: 0.5954\n",
            "Epoch 77/200\n",
            "37/37 [==============================] - 0s 9ms/step - loss: 0.7367 - accuracy: 0.7183 - val_loss: 0.8865 - val_accuracy: 0.5954\n",
            "Epoch 78/200\n",
            "37/37 [==============================] - 0s 8ms/step - loss: 0.7441 - accuracy: 0.7182 - val_loss: 0.8848 - val_accuracy: 0.5954\n",
            "Epoch 79/200\n",
            "37/37 [==============================] - 0s 8ms/step - loss: 0.7373 - accuracy: 0.7183 - val_loss: 0.8848 - val_accuracy: 0.5954\n",
            "Epoch 80/200\n",
            "37/37 [==============================] - 0s 9ms/step - loss: 0.7459 - accuracy: 0.7183 - val_loss: 0.8896 - val_accuracy: 0.5954\n",
            "Epoch 81/200\n",
            "37/37 [==============================] - 0s 9ms/step - loss: 0.7387 - accuracy: 0.7183 - val_loss: 0.8839 - val_accuracy: 0.5954\n",
            "Epoch 82/200\n",
            "37/37 [==============================] - 0s 8ms/step - loss: 0.7326 - accuracy: 0.7183 - val_loss: 0.8881 - val_accuracy: 0.5954\n",
            "Epoch 83/200\n",
            "37/37 [==============================] - 0s 9ms/step - loss: 0.7490 - accuracy: 0.7183 - val_loss: 0.8906 - val_accuracy: 0.5954\n",
            "Epoch 84/200\n",
            "37/37 [==============================] - 0s 8ms/step - loss: 0.7399 - accuracy: 0.7183 - val_loss: 0.8876 - val_accuracy: 0.5954\n",
            "Epoch 85/200\n",
            "37/37 [==============================] - 0s 8ms/step - loss: 0.7412 - accuracy: 0.7183 - val_loss: 0.8971 - val_accuracy: 0.5954\n",
            "Epoch 86/200\n",
            "37/37 [==============================] - 0s 9ms/step - loss: 0.7384 - accuracy: 0.7183 - val_loss: 0.8865 - val_accuracy: 0.5954\n",
            "Epoch 87/200\n",
            "37/37 [==============================] - 0s 9ms/step - loss: 0.7350 - accuracy: 0.7238 - val_loss: 0.8835 - val_accuracy: 0.7449\n",
            "Epoch 88/200\n",
            "37/37 [==============================] - 0s 8ms/step - loss: 0.7310 - accuracy: 0.7526 - val_loss: 0.8794 - val_accuracy: 0.7464\n",
            "Epoch 89/200\n",
            "37/37 [==============================] - 0s 8ms/step - loss: 0.7396 - accuracy: 0.7630 - val_loss: 0.8905 - val_accuracy: 0.7410\n",
            "Epoch 90/200\n",
            "37/37 [==============================] - 0s 8ms/step - loss: 0.7353 - accuracy: 0.7680 - val_loss: 0.8826 - val_accuracy: 0.7454\n",
            "Epoch 91/200\n",
            "37/37 [==============================] - 0s 8ms/step - loss: 0.7339 - accuracy: 0.7656 - val_loss: 0.8862 - val_accuracy: 0.7415\n",
            "Epoch 92/200\n",
            "37/37 [==============================] - 0s 8ms/step - loss: 0.7319 - accuracy: 0.7664 - val_loss: 0.8874 - val_accuracy: 0.7439\n",
            "Epoch 93/200\n",
            "37/37 [==============================] - 0s 9ms/step - loss: 0.7253 - accuracy: 0.7694 - val_loss: 0.8864 - val_accuracy: 0.7425\n",
            "Epoch 94/200\n",
            "37/37 [==============================] - 0s 8ms/step - loss: 0.7261 - accuracy: 0.7685 - val_loss: 0.8768 - val_accuracy: 0.7473\n",
            "Epoch 95/200\n",
            "37/37 [==============================] - 0s 8ms/step - loss: 0.7265 - accuracy: 0.7694 - val_loss: 0.8830 - val_accuracy: 0.7420\n",
            "Epoch 96/200\n",
            "37/37 [==============================] - 0s 9ms/step - loss: 0.7353 - accuracy: 0.7687 - val_loss: 0.8830 - val_accuracy: 0.7425\n",
            "Epoch 97/200\n",
            "37/37 [==============================] - 0s 8ms/step - loss: 0.7225 - accuracy: 0.7705 - val_loss: 0.8807 - val_accuracy: 0.7435\n",
            "Epoch 98/200\n",
            "37/37 [==============================] - 0s 8ms/step - loss: 0.7286 - accuracy: 0.7714 - val_loss: 0.8907 - val_accuracy: 0.7435\n",
            "Epoch 99/200\n",
            "37/37 [==============================] - 0s 8ms/step - loss: 0.7260 - accuracy: 0.7716 - val_loss: 0.8732 - val_accuracy: 0.7444\n",
            "Epoch 100/200\n",
            "37/37 [==============================] - 0s 8ms/step - loss: 0.7255 - accuracy: 0.7717 - val_loss: 0.8904 - val_accuracy: 0.7435\n",
            "Epoch 101/200\n",
            "37/37 [==============================] - 0s 9ms/step - loss: 0.7220 - accuracy: 0.7723 - val_loss: 0.8880 - val_accuracy: 0.7473\n",
            "Epoch 102/200\n",
            "37/37 [==============================] - 0s 9ms/step - loss: 0.7188 - accuracy: 0.7724 - val_loss: 0.8920 - val_accuracy: 0.7469\n",
            "Epoch 103/200\n",
            "37/37 [==============================] - 0s 9ms/step - loss: 0.7199 - accuracy: 0.7696 - val_loss: 0.8785 - val_accuracy: 0.7435\n",
            "Epoch 104/200\n",
            "37/37 [==============================] - 0s 9ms/step - loss: 0.7253 - accuracy: 0.7713 - val_loss: 0.8801 - val_accuracy: 0.7406\n",
            "Epoch 105/200\n",
            "37/37 [==============================] - 0s 9ms/step - loss: 0.7128 - accuracy: 0.7717 - val_loss: 0.8829 - val_accuracy: 0.7435\n",
            "Epoch 106/200\n",
            "37/37 [==============================] - 0s 9ms/step - loss: 0.7156 - accuracy: 0.7722 - val_loss: 0.8834 - val_accuracy: 0.7444\n",
            "Epoch 107/200\n",
            "37/37 [==============================] - 0s 9ms/step - loss: 0.7132 - accuracy: 0.7724 - val_loss: 0.8849 - val_accuracy: 0.7435\n",
            "Epoch 108/200\n",
            "37/37 [==============================] - 0s 9ms/step - loss: 0.7168 - accuracy: 0.7724 - val_loss: 0.8908 - val_accuracy: 0.7430\n",
            "Epoch 109/200\n",
            "37/37 [==============================] - 0s 8ms/step - loss: 0.7153 - accuracy: 0.7715 - val_loss: 0.8740 - val_accuracy: 0.7483\n",
            "Epoch 110/200\n",
            "37/37 [==============================] - 0s 9ms/step - loss: 0.7210 - accuracy: 0.7745 - val_loss: 0.8781 - val_accuracy: 0.7483\n",
            "Epoch 111/200\n",
            "37/37 [==============================] - 0s 9ms/step - loss: 0.7138 - accuracy: 0.7728 - val_loss: 0.8807 - val_accuracy: 0.7430\n",
            "Epoch 112/200\n",
            "37/37 [==============================] - 0s 8ms/step - loss: 0.7126 - accuracy: 0.7749 - val_loss: 0.8832 - val_accuracy: 0.7502\n",
            "Epoch 113/200\n",
            "37/37 [==============================] - 0s 9ms/step - loss: 0.7089 - accuracy: 0.7731 - val_loss: 0.8766 - val_accuracy: 0.7444\n",
            "Epoch 114/200\n",
            "37/37 [==============================] - 0s 9ms/step - loss: 0.7109 - accuracy: 0.7739 - val_loss: 0.8936 - val_accuracy: 0.7459\n",
            "Epoch 115/200\n",
            "37/37 [==============================] - 0s 9ms/step - loss: 0.7194 - accuracy: 0.7736 - val_loss: 0.8843 - val_accuracy: 0.7435\n",
            "Epoch 116/200\n",
            "37/37 [==============================] - 0s 9ms/step - loss: 0.7120 - accuracy: 0.7735 - val_loss: 0.8808 - val_accuracy: 0.7488\n",
            "Epoch 117/200\n",
            "37/37 [==============================] - 0s 9ms/step - loss: 0.7129 - accuracy: 0.7729 - val_loss: 0.8854 - val_accuracy: 0.7488\n",
            "Epoch 118/200\n",
            "37/37 [==============================] - 0s 9ms/step - loss: 0.7147 - accuracy: 0.7740 - val_loss: 0.8798 - val_accuracy: 0.7469\n",
            "Epoch 119/200\n",
            "37/37 [==============================] - 0s 9ms/step - loss: 0.7097 - accuracy: 0.7751 - val_loss: 0.8775 - val_accuracy: 0.7488\n",
            "Epoch 120/200\n",
            "37/37 [==============================] - 0s 9ms/step - loss: 0.7097 - accuracy: 0.7752 - val_loss: 0.8732 - val_accuracy: 0.7483\n",
            "Epoch 121/200\n",
            "37/37 [==============================] - 0s 9ms/step - loss: 0.7157 - accuracy: 0.7725 - val_loss: 0.8756 - val_accuracy: 0.7459\n",
            "Epoch 122/200\n",
            "37/37 [==============================] - 0s 9ms/step - loss: 0.7154 - accuracy: 0.7732 - val_loss: 0.8816 - val_accuracy: 0.7488\n",
            "Epoch 123/200\n",
            "37/37 [==============================] - 0s 9ms/step - loss: 0.7027 - accuracy: 0.7763 - val_loss: 0.8791 - val_accuracy: 0.7473\n",
            "Epoch 124/200\n",
            "37/37 [==============================] - 0s 9ms/step - loss: 0.7171 - accuracy: 0.7751 - val_loss: 0.8951 - val_accuracy: 0.7459\n",
            "Epoch 125/200\n",
            "37/37 [==============================] - 0s 9ms/step - loss: 0.7176 - accuracy: 0.7725 - val_loss: 0.8803 - val_accuracy: 0.7502\n",
            "Epoch 126/200\n",
            "37/37 [==============================] - 0s 9ms/step - loss: 0.7027 - accuracy: 0.7754 - val_loss: 0.8714 - val_accuracy: 0.7512\n",
            "Epoch 127/200\n",
            "37/37 [==============================] - 0s 8ms/step - loss: 0.7016 - accuracy: 0.7776 - val_loss: 0.8911 - val_accuracy: 0.7464\n",
            "Epoch 128/200\n",
            "37/37 [==============================] - 0s 9ms/step - loss: 0.6998 - accuracy: 0.7744 - val_loss: 0.8761 - val_accuracy: 0.7488\n",
            "Epoch 129/200\n",
            "37/37 [==============================] - 0s 9ms/step - loss: 0.7019 - accuracy: 0.7764 - val_loss: 0.8775 - val_accuracy: 0.7478\n",
            "Epoch 130/200\n",
            "37/37 [==============================] - 0s 9ms/step - loss: 0.7076 - accuracy: 0.7747 - val_loss: 0.8805 - val_accuracy: 0.7488\n",
            "Epoch 131/200\n",
            "37/37 [==============================] - 0s 9ms/step - loss: 0.7063 - accuracy: 0.7756 - val_loss: 0.8847 - val_accuracy: 0.7430\n",
            "Epoch 132/200\n",
            "37/37 [==============================] - 0s 9ms/step - loss: 0.7070 - accuracy: 0.7749 - val_loss: 0.8957 - val_accuracy: 0.7498\n",
            "Epoch 133/200\n",
            "37/37 [==============================] - 0s 9ms/step - loss: 0.7061 - accuracy: 0.7761 - val_loss: 0.8923 - val_accuracy: 0.7473\n",
            "Epoch 134/200\n",
            "37/37 [==============================] - 0s 9ms/step - loss: 0.7007 - accuracy: 0.7773 - val_loss: 0.9104 - val_accuracy: 0.7483\n",
            "Epoch 135/200\n",
            "37/37 [==============================] - 0s 9ms/step - loss: 0.7048 - accuracy: 0.7760 - val_loss: 0.8954 - val_accuracy: 0.7444\n",
            "Epoch 136/200\n",
            "37/37 [==============================] - 0s 9ms/step - loss: 0.6936 - accuracy: 0.7749 - val_loss: 0.8897 - val_accuracy: 0.7473\n",
            "Epoch 137/200\n",
            "37/37 [==============================] - 0s 9ms/step - loss: 0.7082 - accuracy: 0.7765 - val_loss: 0.8970 - val_accuracy: 0.7493\n",
            "Epoch 138/200\n",
            "37/37 [==============================] - 0s 9ms/step - loss: 0.7068 - accuracy: 0.7755 - val_loss: 0.9043 - val_accuracy: 0.7473\n",
            "Epoch 139/200\n",
            "37/37 [==============================] - 0s 8ms/step - loss: 0.7027 - accuracy: 0.7746 - val_loss: 0.9015 - val_accuracy: 0.7449\n",
            "Epoch 140/200\n",
            "37/37 [==============================] - 0s 9ms/step - loss: 0.7018 - accuracy: 0.7773 - val_loss: 0.8970 - val_accuracy: 0.7469\n",
            "Epoch 141/200\n",
            "37/37 [==============================] - 0s 9ms/step - loss: 0.7062 - accuracy: 0.7750 - val_loss: 0.8916 - val_accuracy: 0.7493\n",
            "Epoch 142/200\n",
            "37/37 [==============================] - 0s 9ms/step - loss: 0.6971 - accuracy: 0.7766 - val_loss: 0.9105 - val_accuracy: 0.7464\n",
            "Epoch 143/200\n",
            "37/37 [==============================] - 0s 9ms/step - loss: 0.6983 - accuracy: 0.7774 - val_loss: 0.8826 - val_accuracy: 0.7522\n",
            "Epoch 144/200\n",
            "37/37 [==============================] - 0s 9ms/step - loss: 0.6974 - accuracy: 0.7768 - val_loss: 0.8821 - val_accuracy: 0.7512\n",
            "Epoch 145/200\n",
            "37/37 [==============================] - 0s 8ms/step - loss: 0.7008 - accuracy: 0.7767 - val_loss: 0.9011 - val_accuracy: 0.7517\n",
            "Epoch 146/200\n",
            "37/37 [==============================] - 0s 8ms/step - loss: 0.7027 - accuracy: 0.7749 - val_loss: 0.8800 - val_accuracy: 0.7459\n",
            "Epoch 147/200\n",
            "37/37 [==============================] - 0s 9ms/step - loss: 0.6912 - accuracy: 0.7774 - val_loss: 0.8919 - val_accuracy: 0.7493\n",
            "Epoch 148/200\n",
            "37/37 [==============================] - 0s 8ms/step - loss: 0.7037 - accuracy: 0.7782 - val_loss: 0.8996 - val_accuracy: 0.7493\n",
            "Epoch 149/200\n",
            "37/37 [==============================] - 0s 8ms/step - loss: 0.7014 - accuracy: 0.7760 - val_loss: 0.8879 - val_accuracy: 0.7478\n",
            "Epoch 150/200\n",
            "37/37 [==============================] - 0s 8ms/step - loss: 0.7056 - accuracy: 0.7760 - val_loss: 0.8831 - val_accuracy: 0.7488\n",
            "Epoch 151/200\n",
            "37/37 [==============================] - 0s 8ms/step - loss: 0.6879 - accuracy: 0.7766 - val_loss: 0.8768 - val_accuracy: 0.7507\n",
            "Epoch 152/200\n",
            "37/37 [==============================] - 0s 8ms/step - loss: 0.6948 - accuracy: 0.7772 - val_loss: 0.8886 - val_accuracy: 0.7493\n",
            "Epoch 153/200\n",
            "37/37 [==============================] - 0s 9ms/step - loss: 0.6913 - accuracy: 0.7748 - val_loss: 0.8954 - val_accuracy: 0.7498\n",
            "Epoch 154/200\n",
            "37/37 [==============================] - 0s 8ms/step - loss: 0.6851 - accuracy: 0.7767 - val_loss: 0.8801 - val_accuracy: 0.7488\n",
            "Epoch 155/200\n",
            "37/37 [==============================] - 0s 9ms/step - loss: 0.6982 - accuracy: 0.7749 - val_loss: 0.8940 - val_accuracy: 0.7473\n",
            "Epoch 156/200\n",
            "37/37 [==============================] - 0s 9ms/step - loss: 0.6938 - accuracy: 0.7778 - val_loss: 0.8871 - val_accuracy: 0.7488\n",
            "Epoch 157/200\n",
            "37/37 [==============================] - 0s 9ms/step - loss: 0.6965 - accuracy: 0.7755 - val_loss: 0.9019 - val_accuracy: 0.7464\n",
            "Epoch 158/200\n",
            "37/37 [==============================] - 0s 8ms/step - loss: 0.6921 - accuracy: 0.7789 - val_loss: 0.8887 - val_accuracy: 0.7522\n",
            "Epoch 159/200\n",
            "37/37 [==============================] - 0s 8ms/step - loss: 0.6892 - accuracy: 0.7772 - val_loss: 0.9004 - val_accuracy: 0.7469\n",
            "Epoch 160/200\n",
            "37/37 [==============================] - 0s 9ms/step - loss: 0.6973 - accuracy: 0.7742 - val_loss: 0.9025 - val_accuracy: 0.7483\n",
            "Epoch 161/200\n",
            "37/37 [==============================] - 0s 8ms/step - loss: 0.6955 - accuracy: 0.7762 - val_loss: 0.9004 - val_accuracy: 0.7493\n",
            "Epoch 162/200\n",
            "37/37 [==============================] - 0s 8ms/step - loss: 0.6912 - accuracy: 0.7782 - val_loss: 0.8921 - val_accuracy: 0.7507\n",
            "Epoch 163/200\n",
            "37/37 [==============================] - 0s 8ms/step - loss: 0.6958 - accuracy: 0.7743 - val_loss: 0.9199 - val_accuracy: 0.7493\n",
            "Epoch 164/200\n",
            "37/37 [==============================] - 0s 8ms/step - loss: 0.6984 - accuracy: 0.7770 - val_loss: 0.9167 - val_accuracy: 0.7512\n",
            "Epoch 165/200\n",
            "37/37 [==============================] - 0s 8ms/step - loss: 0.6950 - accuracy: 0.7768 - val_loss: 0.9108 - val_accuracy: 0.7478\n",
            "Epoch 166/200\n",
            "37/37 [==============================] - 0s 8ms/step - loss: 0.6902 - accuracy: 0.7753 - val_loss: 0.9099 - val_accuracy: 0.7517\n",
            "Epoch 167/200\n",
            "37/37 [==============================] - 0s 8ms/step - loss: 0.6837 - accuracy: 0.7793 - val_loss: 0.9145 - val_accuracy: 0.7512\n",
            "Epoch 168/200\n",
            "37/37 [==============================] - 0s 8ms/step - loss: 0.6871 - accuracy: 0.7785 - val_loss: 0.9159 - val_accuracy: 0.7473\n",
            "Epoch 169/200\n",
            "37/37 [==============================] - 0s 9ms/step - loss: 0.6975 - accuracy: 0.7791 - val_loss: 0.9249 - val_accuracy: 0.7488\n",
            "Epoch 170/200\n",
            "37/37 [==============================] - 0s 8ms/step - loss: 0.6857 - accuracy: 0.7781 - val_loss: 0.9158 - val_accuracy: 0.7478\n",
            "Epoch 171/200\n",
            "37/37 [==============================] - 0s 8ms/step - loss: 0.6928 - accuracy: 0.7780 - val_loss: 0.9316 - val_accuracy: 0.7473\n",
            "Epoch 172/200\n",
            "37/37 [==============================] - 0s 9ms/step - loss: 0.6864 - accuracy: 0.7776 - val_loss: 0.9179 - val_accuracy: 0.7502\n",
            "Epoch 173/200\n",
            "37/37 [==============================] - 0s 8ms/step - loss: 0.6868 - accuracy: 0.7795 - val_loss: 0.9193 - val_accuracy: 0.7488\n",
            "Epoch 174/200\n",
            "37/37 [==============================] - 0s 9ms/step - loss: 0.6855 - accuracy: 0.7789 - val_loss: 0.9142 - val_accuracy: 0.7498\n",
            "Epoch 175/200\n",
            "37/37 [==============================] - 0s 9ms/step - loss: 0.6829 - accuracy: 0.7793 - val_loss: 0.9277 - val_accuracy: 0.7488\n",
            "Epoch 176/200\n",
            "37/37 [==============================] - 0s 8ms/step - loss: 0.6878 - accuracy: 0.7773 - val_loss: 0.9239 - val_accuracy: 0.7449\n",
            "Epoch 177/200\n",
            "37/37 [==============================] - 0s 8ms/step - loss: 0.6880 - accuracy: 0.7786 - val_loss: 0.9204 - val_accuracy: 0.7478\n",
            "Epoch 178/200\n",
            "37/37 [==============================] - 0s 9ms/step - loss: 0.6809 - accuracy: 0.7800 - val_loss: 0.9201 - val_accuracy: 0.7493\n",
            "Epoch 179/200\n",
            "37/37 [==============================] - 0s 8ms/step - loss: 0.6833 - accuracy: 0.7794 - val_loss: 0.9222 - val_accuracy: 0.7478\n",
            "Epoch 180/200\n",
            "37/37 [==============================] - 0s 8ms/step - loss: 0.6880 - accuracy: 0.7782 - val_loss: 0.9228 - val_accuracy: 0.7502\n",
            "Epoch 181/200\n",
            "37/37 [==============================] - 0s 9ms/step - loss: 0.6843 - accuracy: 0.7795 - val_loss: 0.9143 - val_accuracy: 0.7502\n",
            "Epoch 182/200\n",
            "37/37 [==============================] - 0s 8ms/step - loss: 0.6835 - accuracy: 0.7770 - val_loss: 0.9439 - val_accuracy: 0.7483\n",
            "Epoch 183/200\n",
            "37/37 [==============================] - 0s 8ms/step - loss: 0.6826 - accuracy: 0.7798 - val_loss: 0.9394 - val_accuracy: 0.7444\n",
            "Epoch 184/200\n",
            "37/37 [==============================] - 0s 9ms/step - loss: 0.6879 - accuracy: 0.7794 - val_loss: 0.9471 - val_accuracy: 0.7459\n",
            "Epoch 185/200\n",
            "37/37 [==============================] - 0s 8ms/step - loss: 0.6916 - accuracy: 0.7762 - val_loss: 0.9202 - val_accuracy: 0.7507\n",
            "Epoch 186/200\n",
            "37/37 [==============================] - 0s 8ms/step - loss: 0.6872 - accuracy: 0.7786 - val_loss: 0.9200 - val_accuracy: 0.7473\n",
            "Epoch 187/200\n",
            "37/37 [==============================] - 0s 8ms/step - loss: 0.6869 - accuracy: 0.7779 - val_loss: 0.9354 - val_accuracy: 0.7473\n",
            "Epoch 188/200\n",
            "37/37 [==============================] - 0s 9ms/step - loss: 0.6805 - accuracy: 0.7799 - val_loss: 0.9308 - val_accuracy: 0.7493\n",
            "Epoch 189/200\n",
            "37/37 [==============================] - 0s 8ms/step - loss: 0.6848 - accuracy: 0.7792 - val_loss: 0.9363 - val_accuracy: 0.7483\n",
            "Epoch 190/200\n",
            "37/37 [==============================] - 0s 8ms/step - loss: 0.6824 - accuracy: 0.7797 - val_loss: 0.9324 - val_accuracy: 0.7483\n",
            "Epoch 191/200\n",
            "37/37 [==============================] - 0s 9ms/step - loss: 0.6790 - accuracy: 0.7786 - val_loss: 0.9441 - val_accuracy: 0.7502\n",
            "Epoch 192/200\n",
            "37/37 [==============================] - 0s 9ms/step - loss: 0.6814 - accuracy: 0.7794 - val_loss: 0.9286 - val_accuracy: 0.7469\n",
            "Epoch 193/200\n",
            "37/37 [==============================] - 0s 9ms/step - loss: 0.6883 - accuracy: 0.7803 - val_loss: 0.9299 - val_accuracy: 0.7498\n",
            "Epoch 194/200\n",
            "37/37 [==============================] - 0s 9ms/step - loss: 0.6802 - accuracy: 0.7772 - val_loss: 0.9500 - val_accuracy: 0.7488\n",
            "Epoch 195/200\n",
            "37/37 [==============================] - 0s 8ms/step - loss: 0.6817 - accuracy: 0.7778 - val_loss: 0.9570 - val_accuracy: 0.7454\n",
            "Epoch 196/200\n",
            "37/37 [==============================] - 0s 9ms/step - loss: 0.6895 - accuracy: 0.7775 - val_loss: 0.9341 - val_accuracy: 0.7478\n",
            "Epoch 197/200\n",
            "37/37 [==============================] - 0s 9ms/step - loss: 0.6854 - accuracy: 0.7779 - val_loss: 0.9363 - val_accuracy: 0.7488\n",
            "Epoch 198/200\n",
            "37/37 [==============================] - 0s 8ms/step - loss: 0.6807 - accuracy: 0.7788 - val_loss: 0.9386 - val_accuracy: 0.7478\n",
            "Epoch 199/200\n",
            "37/37 [==============================] - 0s 8ms/step - loss: 0.6839 - accuracy: 0.7797 - val_loss: 0.9470 - val_accuracy: 0.7454\n",
            "Epoch 200/200\n",
            "37/37 [==============================] - 0s 8ms/step - loss: 0.6870 - accuracy: 0.7822 - val_loss: 0.9546 - val_accuracy: 0.7473\n"
          ],
          "name": "stdout"
        }
      ]
    },
    {
      "cell_type": "code",
      "metadata": {
        "id": "YktN2vyL2xeV",
        "outputId": "713f0328-b6c6-4532-e3d1-b5b69f6ea1f3",
        "colab": {
          "base_uri": "https://localhost:8080/",
          "height": 258
        }
      },
      "source": [
        "plot_history(history)"
      ],
      "execution_count": 54,
      "outputs": [
        {
          "output_type": "display_data",
          "data": {
            "image/png": "[encoded data removed]",
            "text/plain": [
              "<Figure size 1152x288 with 2 Axes>"
            ]
          },
          "metadata": {
            "tags": [],
            "needs_background": "light"
          }
        }
      ]
    },
    {
      "cell_type": "markdown",
      "metadata": {
        "id": "qg-bFs9WJ9DE"
      },
      "source": [
        "**Вывод:** результат практически одинаковый при инициализации Word2Vec значениями и дообучении эмбеддингов, и без инициализации. Однако при инициализации Word2Vec расхождение между train и valid существенно меньше."
      ]
    },
    {
      "cell_type": "code",
      "metadata": {
        "id": "74QRWIdhIG4G"
      },
      "source": [
        ""
      ],
      "execution_count": 54,
      "outputs": []
    }
  ]
}