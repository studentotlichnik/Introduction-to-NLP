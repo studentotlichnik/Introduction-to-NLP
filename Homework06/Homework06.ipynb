{
  "nbformat": 4,
  "nbformat_minor": 0,
  "metadata": {
    "colab": {
      "name": "Homework06.ipynb",
      "provenance": [],
      "collapsed_sections": [],
      "toc_visible": true
    },
    "kernelspec": {
      "name": "python3",
      "display_name": "Python 3"
    },
    "accelerator": "GPU"
  },
  "cells": [
    {
      "cell_type": "markdown",
      "metadata": {
        "id": "CUkHUwU5xgyE"
      },
      "source": [
        "# Домашнее задание 6"
      ]
    },
    {
      "cell_type": "markdown",
      "metadata": {
        "id": "-4XIwydixi8b"
      },
      "source": [
        "## Провести сравнение RNN, LSTM, GRU на датасете отзывов (из предыдущих занятий/материалов)"
      ]
    },
    {
      "cell_type": "code",
      "metadata": {
        "id": "t-aLmOGQzWCg",
        "outputId": "154834d2-5358-49bf-f18d-a629a170cd00",
        "colab": {
          "base_uri": "https://localhost:8080/"
        }
      },
      "source": [
        "!pip install stop_words"
      ],
      "execution_count": 1,
      "outputs": [
        {
          "output_type": "stream",
          "text": [
            "Requirement already satisfied: stop_words in /usr/local/lib/python3.6/dist-packages (2018.7.23)\n"
          ],
          "name": "stdout"
        }
      ]
    },
    {
      "cell_type": "code",
      "metadata": {
        "id": "Gh4uD9zFzd9P",
        "outputId": "4fe3b0a7-a855-4f94-97d8-445834495cb9",
        "colab": {
          "base_uri": "https://localhost:8080/"
        }
      },
      "source": [
        "!pip install pymorphy2"
      ],
      "execution_count": 2,
      "outputs": [
        {
          "output_type": "stream",
          "text": [
            "Requirement already satisfied: pymorphy2 in /usr/local/lib/python3.6/dist-packages (0.9.1)\n",
            "Requirement already satisfied: docopt>=0.6 in /usr/local/lib/python3.6/dist-packages (from pymorphy2) (0.6.2)\n",
            "Requirement already satisfied: pymorphy2-dicts-ru<3.0,>=2.4 in /usr/local/lib/python3.6/dist-packages (from pymorphy2) (2.4.417127.4579844)\n",
            "Requirement already satisfied: dawg-python>=0.7.1 in /usr/local/lib/python3.6/dist-packages (from pymorphy2) (0.7.2)\n"
          ],
          "name": "stdout"
        }
      ]
    },
    {
      "cell_type": "code",
      "metadata": {
        "id": "BgHBDmlRxed2"
      },
      "source": [
        "import pandas as pd\n",
        "import numpy as np\n",
        "import tensorflow as tf\n",
        "import keras"
      ],
      "execution_count": 3,
      "outputs": []
    },
    {
      "cell_type": "markdown",
      "metadata": {
        "id": "rSOrnQrSqHjJ"
      },
      "source": [
        "Укажем значения гиперпараметров"
      ]
    },
    {
      "cell_type": "code",
      "metadata": {
        "id": "8W3Bsl77hGq0"
      },
      "source": [
        "max_words = 2000\n",
        "max_len = 50\n",
        "epochs = 40\n",
        "batch_size = 2048\n",
        "vec_len = 10\n",
        "NUM_CLASSES = 2"
      ],
      "execution_count": 4,
      "outputs": []
    },
    {
      "cell_type": "code",
      "metadata": {
        "id": "vu8Dn2rbuiaS",
        "outputId": "9a37ab4c-e706-41ab-bf04-70814f2df5b1",
        "colab": {
          "base_uri": "https://localhost:8080/",
          "height": 35
        }
      },
      "source": [
        "tf.__version__"
      ],
      "execution_count": 5,
      "outputs": [
        {
          "output_type": "execute_result",
          "data": {
            "application/vnd.google.colaboratory.intrinsic+json": {
              "type": "string"
            },
            "text/plain": [
              "'2.3.0'"
            ]
          },
          "metadata": {
            "tags": []
          },
          "execution_count": 5
        }
      ]
    },
    {
      "cell_type": "code",
      "metadata": {
        "id": "sMM5il3XuiPS",
        "outputId": "584a1aae-33c5-48d9-cdcb-2255f3c3aea7",
        "colab": {
          "base_uri": "https://localhost:8080/",
          "height": 35
        }
      },
      "source": [
        "keras.__version__"
      ],
      "execution_count": 6,
      "outputs": [
        {
          "output_type": "execute_result",
          "data": {
            "application/vnd.google.colaboratory.intrinsic+json": {
              "type": "string"
            },
            "text/plain": [
              "'2.4.3'"
            ]
          },
          "metadata": {
            "tags": []
          },
          "execution_count": 6
        }
      ]
    },
    {
      "cell_type": "code",
      "metadata": {
        "id": "1CJZGgIDzSTm"
      },
      "source": [
        "import random\n",
        "seed = 2020\n",
        "random.seed(seed)\n",
        "np.random.seed(seed)\n",
        "tf.random.set_seed(seed)"
      ],
      "execution_count": 7,
      "outputs": []
    },
    {
      "cell_type": "markdown",
      "metadata": {
        "id": "g-zAHuymtY1d"
      },
      "source": [
        "**Предобработка**"
      ]
    },
    {
      "cell_type": "code",
      "metadata": {
        "id": "_IDyjys0hGxO"
      },
      "source": [
        "from stop_words import get_stop_words\n",
        "from string import punctuation\n",
        "from pymorphy2 import MorphAnalyzer\n",
        "sw = set(get_stop_words(\"ru\"))\n",
        "exclude = set(punctuation)\n",
        "morpher = MorphAnalyzer()"
      ],
      "execution_count": 8,
      "outputs": []
    },
    {
      "cell_type": "markdown",
      "metadata": {
        "id": "MCele4OGp9wT"
      },
      "source": [
        "Считаем данные с диска"
      ]
    },
    {
      "cell_type": "code",
      "metadata": {
        "id": "HpsJrLfohGtx",
        "outputId": "a06db69a-7e06-426c-d858-5c0e170870da",
        "colab": {
          "base_uri": "https://localhost:8080/"
        }
      },
      "source": [
        "data = pd.read_excel('отзывы за лето.xls')\n",
        "data.shape"
      ],
      "execution_count": 9,
      "outputs": [
        {
          "output_type": "execute_result",
          "data": {
            "text/plain": [
              "(20659, 3)"
            ]
          },
          "metadata": {
            "tags": []
          },
          "execution_count": 9
        }
      ]
    },
    {
      "cell_type": "code",
      "metadata": {
        "id": "IBEnuLEGzmvO",
        "outputId": "e4589306-c024-441a-f225-818b1aad8836",
        "colab": {
          "base_uri": "https://localhost:8080/",
          "height": 142
        }
      },
      "source": [
        "data.head(3)"
      ],
      "execution_count": 10,
      "outputs": [
        {
          "output_type": "execute_result",
          "data": {
            "text/html": [
              "<div>\n",
              "<style scoped>\n",
              "    .dataframe tbody tr th:only-of-type {\n",
              "        vertical-align: middle;\n",
              "    }\n",
              "\n",
              "    .dataframe tbody tr th {\n",
              "        vertical-align: top;\n",
              "    }\n",
              "\n",
              "    .dataframe thead th {\n",
              "        text-align: right;\n",
              "    }\n",
              "</style>\n",
              "<table border=\"1\" class=\"dataframe\">\n",
              "  <thead>\n",
              "    <tr style=\"text-align: right;\">\n",
              "      <th></th>\n",
              "      <th>Rating</th>\n",
              "      <th>Content</th>\n",
              "      <th>Date</th>\n",
              "    </tr>\n",
              "  </thead>\n",
              "  <tbody>\n",
              "    <tr>\n",
              "      <th>0</th>\n",
              "      <td>5</td>\n",
              "      <td>It just works!</td>\n",
              "      <td>2017-08-14</td>\n",
              "    </tr>\n",
              "    <tr>\n",
              "      <th>1</th>\n",
              "      <td>4</td>\n",
              "      <td>В целом удобноное приложение...из минусов хотя...</td>\n",
              "      <td>2017-08-14</td>\n",
              "    </tr>\n",
              "    <tr>\n",
              "      <th>2</th>\n",
              "      <td>5</td>\n",
              "      <td>Отлично все</td>\n",
              "      <td>2017-08-14</td>\n",
              "    </tr>\n",
              "  </tbody>\n",
              "</table>\n",
              "</div>"
            ],
            "text/plain": [
              "   Rating                                            Content        Date\n",
              "0       5                                     It just works!  2017-08-14\n",
              "1       4  В целом удобноное приложение...из минусов хотя...  2017-08-14\n",
              "2       5                                        Отлично все  2017-08-14"
            ]
          },
          "metadata": {
            "tags": []
          },
          "execution_count": 10
        }
      ]
    },
    {
      "cell_type": "code",
      "metadata": {
        "id": "tnDc3mWihGZs"
      },
      "source": [
        "TARGET = 'target'\n",
        "PROCESSED = 'preprocessed'"
      ],
      "execution_count": 11,
      "outputs": []
    },
    {
      "cell_type": "code",
      "metadata": {
        "id": "AueRyF61pjYN"
      },
      "source": [
        "def prepare_data(df: pd.DataFrame,\n",
        "                 num_classes: int,\n",
        "                 processed_field: str = PROCESSED,\n",
        "                 target_field: str = TARGET) -> pd.DataFrame:\n",
        "    \n",
        "    print(f\"Подготовка данных...\")\n",
        "    \n",
        "    df[processed_field] = df['Content'].apply(preprocess_text)\n",
        "    \n",
        "    if num_classes == 2:\n",
        "        df = df[df['Rating'] != 3]\n",
        "        df[target_field] = (df['Rating'] > 3).astype('uint8')\n",
        "        \n",
        "    else:\n",
        "        df[target_field] = df['Rating'] - 1\n",
        "    \n",
        "    return df"
      ],
      "execution_count": 12,
      "outputs": []
    },
    {
      "cell_type": "code",
      "metadata": {
        "id": "N-e35HK6y0yD"
      },
      "source": [
        "def preprocess_text(txt):\n",
        "    txt = str(txt)\n",
        "    txt = re.sub(r'( )+', \" \", re.sub(r'[^\\w\\s]', \" \", txt)).strip()\n",
        "    txt = \"\".join(c for c in txt if c not in exclude)\n",
        "    txt = txt.lower()\n",
        "    txt = [morpher.parse(word)[0].normal_form for word in txt.split() if word not in sw]\n",
        "    txt = \" \".join(txt)\n",
        "    txt = re.sub(\"\\sне\", \"не\", txt)\n",
        "    return txt"
      ],
      "execution_count": 13,
      "outputs": []
    },
    {
      "cell_type": "code",
      "metadata": {
        "id": "8UahwpWnzHbK"
      },
      "source": [
        "def get_splits(data, seed=seed):\n",
        "    print(f\"Выполнение сплитования...\")\n",
        "    \n",
        "    train, test = train_test_split(data, test_size=0.6, shuffle=True, random_state=seed)\n",
        "    valid, test = train_test_split(test, test_size=0.5, shuffle=True, random_state=seed)\n",
        "    \n",
        "    return train, valid, test"
      ],
      "execution_count": 14,
      "outputs": []
    },
    {
      "cell_type": "code",
      "metadata": {
        "id": "zBS5tjXyzm63",
        "outputId": "4908b192-6f40-43e8-e63e-f64a61d69a7b",
        "colab": {
          "base_uri": "https://localhost:8080/"
        }
      },
      "source": [
        "import regex as re\n",
        "from sklearn.model_selection import train_test_split\n",
        "from keras.preprocessing.text import Tokenizer\n",
        "from keras.preprocessing.sequence import pad_sequences\n",
        "data = prepare_data(data, NUM_CLASSES)\n",
        "df_train, df_val, df_test = get_splits(data)\n",
        "\n",
        "text_corpus_train = df_train[PROCESSED].values\n",
        "text_corpus_valid = df_val[PROCESSED].values\n",
        "text_corpus_test = df_test[PROCESSED].values\n",
        "\n",
        "tokenizer = Tokenizer(num_words=None, \n",
        "                      lower = False,\n",
        "                      split = ' ')\n",
        "tokenizer.fit_on_texts(text_corpus_train)\n",
        "\n",
        "sequences_train = tokenizer.texts_to_sequences(text_corpus_train)\n",
        "sequences_val = tokenizer.texts_to_sequences(text_corpus_valid)\n",
        "sequences_test = tokenizer.texts_to_sequences(text_corpus_test)\n",
        "\n",
        "word_count = len(tokenizer.index_word) + 1\n",
        "training_length = max([len(i.split()) for i in text_corpus_train])\n",
        "\n",
        "X_train = pad_sequences(sequences_train, maxlen=training_length)\n",
        "X_valid = pad_sequences(sequences_val, maxlen=training_length)\n",
        "X_test = pad_sequences(sequences_test, maxlen=training_length)\n",
        "\n",
        "y_train = df_train[TARGET].values\n",
        "y_val = df_val[TARGET].values\n",
        "y_test = df_test[TARGET].values"
      ],
      "execution_count": 15,
      "outputs": [
        {
          "output_type": "stream",
          "text": [
            "Подготовка данных...\n"
          ],
          "name": "stdout"
        },
        {
          "output_type": "stream",
          "text": [
            "/usr/local/lib/python3.6/dist-packages/ipykernel_launcher.py:12: SettingWithCopyWarning: \n",
            "A value is trying to be set on a copy of a slice from a DataFrame.\n",
            "Try using .loc[row_indexer,col_indexer] = value instead\n",
            "\n",
            "See the caveats in the documentation: https://pandas.pydata.org/pandas-docs/stable/user_guide/indexing.html#returning-a-view-versus-a-copy\n",
            "  if sys.path[0] == '':\n"
          ],
          "name": "stderr"
        },
        {
          "output_type": "stream",
          "text": [
            "Выполнение сплитования...\n"
          ],
          "name": "stdout"
        }
      ]
    },
    {
      "cell_type": "code",
      "metadata": {
        "id": "RTY8F8Ygv8uX",
        "outputId": "8705abbc-9a23-4a40-86e8-d25b6af33eb5",
        "colab": {
          "base_uri": "https://localhost:8080/",
          "height": 142
        }
      },
      "source": [
        "df_train.head(3)"
      ],
      "execution_count": 16,
      "outputs": [
        {
          "output_type": "execute_result",
          "data": {
            "text/html": [
              "<div>\n",
              "<style scoped>\n",
              "    .dataframe tbody tr th:only-of-type {\n",
              "        vertical-align: middle;\n",
              "    }\n",
              "\n",
              "    .dataframe tbody tr th {\n",
              "        vertical-align: top;\n",
              "    }\n",
              "\n",
              "    .dataframe thead th {\n",
              "        text-align: right;\n",
              "    }\n",
              "</style>\n",
              "<table border=\"1\" class=\"dataframe\">\n",
              "  <thead>\n",
              "    <tr style=\"text-align: right;\">\n",
              "      <th></th>\n",
              "      <th>Rating</th>\n",
              "      <th>Content</th>\n",
              "      <th>Date</th>\n",
              "      <th>preprocessed</th>\n",
              "      <th>target</th>\n",
              "    </tr>\n",
              "  </thead>\n",
              "  <tbody>\n",
              "    <tr>\n",
              "      <th>11154</th>\n",
              "      <td>5</td>\n",
              "      <td>Мне очень нравится</td>\n",
              "      <td>2017-07-29</td>\n",
              "      <td>нравиться</td>\n",
              "      <td>1</td>\n",
              "    </tr>\n",
              "    <tr>\n",
              "      <th>12115</th>\n",
              "      <td>5</td>\n",
              "      <td>Отличное приложение</td>\n",
              "      <td>2017-07-27</td>\n",
              "      <td>отличный приложение</td>\n",
              "      <td>1</td>\n",
              "    </tr>\n",
              "    <tr>\n",
              "      <th>5771</th>\n",
              "      <td>5</td>\n",
              "      <td>Очень нравится</td>\n",
              "      <td>2017-08-05</td>\n",
              "      <td>нравиться</td>\n",
              "      <td>1</td>\n",
              "    </tr>\n",
              "  </tbody>\n",
              "</table>\n",
              "</div>"
            ],
            "text/plain": [
              "       Rating              Content        Date         preprocessed  target\n",
              "11154       5   Мне очень нравится  2017-07-29            нравиться       1\n",
              "12115       5  Отличное приложение  2017-07-27  отличный приложение       1\n",
              "5771        5       Очень нравится  2017-08-05            нравиться       1"
            ]
          },
          "metadata": {
            "tags": []
          },
          "execution_count": 16
        }
      ]
    },
    {
      "cell_type": "code",
      "metadata": {
        "id": "KeSz7OxLwGoH",
        "outputId": "1c7e6825-eb5a-4cc6-bbb1-eb22676a78c0",
        "colab": {
          "base_uri": "https://localhost:8080/",
          "height": 193
        }
      },
      "source": [
        "df_val.head(3)"
      ],
      "execution_count": 17,
      "outputs": [
        {
          "output_type": "execute_result",
          "data": {
            "text/html": [
              "<div>\n",
              "<style scoped>\n",
              "    .dataframe tbody tr th:only-of-type {\n",
              "        vertical-align: middle;\n",
              "    }\n",
              "\n",
              "    .dataframe tbody tr th {\n",
              "        vertical-align: top;\n",
              "    }\n",
              "\n",
              "    .dataframe thead th {\n",
              "        text-align: right;\n",
              "    }\n",
              "</style>\n",
              "<table border=\"1\" class=\"dataframe\">\n",
              "  <thead>\n",
              "    <tr style=\"text-align: right;\">\n",
              "      <th></th>\n",
              "      <th>Rating</th>\n",
              "      <th>Content</th>\n",
              "      <th>Date</th>\n",
              "      <th>preprocessed</th>\n",
              "      <th>target</th>\n",
              "    </tr>\n",
              "  </thead>\n",
              "  <tbody>\n",
              "    <tr>\n",
              "      <th>8003</th>\n",
              "      <td>5</td>\n",
              "      <td>Работает.</td>\n",
              "      <td>2017-08-02</td>\n",
              "      <td>работать</td>\n",
              "      <td>1</td>\n",
              "    </tr>\n",
              "    <tr>\n",
              "      <th>16882</th>\n",
              "      <td>5</td>\n",
              "      <td>Ужасно, после обновления, показывает что у мен...</td>\n",
              "      <td>2017-07-15</td>\n",
              "      <td>ужасно обновление показывать рута правонету пл...</td>\n",
              "      <td>1</td>\n",
              "    </tr>\n",
              "    <tr>\n",
              "      <th>13810</th>\n",
              "      <td>5</td>\n",
              "      <td>Ок</td>\n",
              "      <td>2017-07-24</td>\n",
              "      <td>около</td>\n",
              "      <td>1</td>\n",
              "    </tr>\n",
              "  </tbody>\n",
              "</table>\n",
              "</div>"
            ],
            "text/plain": [
              "       Rating  ... target\n",
              "8003        5  ...      1\n",
              "16882       5  ...      1\n",
              "13810       5  ...      1\n",
              "\n",
              "[3 rows x 5 columns]"
            ]
          },
          "metadata": {
            "tags": []
          },
          "execution_count": 17
        }
      ]
    },
    {
      "cell_type": "code",
      "metadata": {
        "id": "acN_KlHgwJbW",
        "outputId": "257e29ca-13a0-46ea-bbd3-c15f0d912146",
        "colab": {
          "base_uri": "https://localhost:8080/",
          "height": 142
        }
      },
      "source": [
        "df_test.head(3)"
      ],
      "execution_count": 18,
      "outputs": [
        {
          "output_type": "execute_result",
          "data": {
            "text/html": [
              "<div>\n",
              "<style scoped>\n",
              "    .dataframe tbody tr th:only-of-type {\n",
              "        vertical-align: middle;\n",
              "    }\n",
              "\n",
              "    .dataframe tbody tr th {\n",
              "        vertical-align: top;\n",
              "    }\n",
              "\n",
              "    .dataframe thead th {\n",
              "        text-align: right;\n",
              "    }\n",
              "</style>\n",
              "<table border=\"1\" class=\"dataframe\">\n",
              "  <thead>\n",
              "    <tr style=\"text-align: right;\">\n",
              "      <th></th>\n",
              "      <th>Rating</th>\n",
              "      <th>Content</th>\n",
              "      <th>Date</th>\n",
              "      <th>preprocessed</th>\n",
              "      <th>target</th>\n",
              "    </tr>\n",
              "  </thead>\n",
              "  <tbody>\n",
              "    <tr>\n",
              "      <th>14520</th>\n",
              "      <td>1</td>\n",
              "      <td>Убрали авторизацию по отпечатку пальца.</td>\n",
              "      <td>2017-07-23</td>\n",
              "      <td>убрать авторизация отпечаток палец</td>\n",
              "      <td>0</td>\n",
              "    </tr>\n",
              "    <tr>\n",
              "      <th>15638</th>\n",
              "      <td>5</td>\n",
              "      <td>Все устраивает</td>\n",
              "      <td>2017-07-21</td>\n",
              "      <td>устраивать</td>\n",
              "      <td>1</td>\n",
              "    </tr>\n",
              "    <tr>\n",
              "      <th>7890</th>\n",
              "      <td>5</td>\n",
              "      <td>удобно, есть антивирус встроенный</td>\n",
              "      <td>2017-08-02</td>\n",
              "      <td>удобно антивирус встроить</td>\n",
              "      <td>1</td>\n",
              "    </tr>\n",
              "  </tbody>\n",
              "</table>\n",
              "</div>"
            ],
            "text/plain": [
              "       Rating  ... target\n",
              "14520       1  ...      0\n",
              "15638       5  ...      1\n",
              "7890        5  ...      1\n",
              "\n",
              "[3 rows x 5 columns]"
            ]
          },
          "metadata": {
            "tags": []
          },
          "execution_count": 18
        }
      ]
    },
    {
      "cell_type": "markdown",
      "metadata": {
        "id": "2BAlHB0Iz73Y"
      },
      "source": [
        "**Рассмотрим RNN**"
      ]
    },
    {
      "cell_type": "code",
      "metadata": {
        "id": "WQzesuRd0EzC"
      },
      "source": [
        "def build_model(memory_cells_type: callable,\n",
        "                max_words: int,\n",
        "                train_len: int\n",
        "               ):\n",
        "    print(f\"Построение модели...\")\n",
        "\n",
        "    model = Sequential()\n",
        "\n",
        "    model.add(\n",
        "        Embedding(input_dim=max_words,\n",
        "                  input_length=train_len,\n",
        "                  output_dim=30,\n",
        "                  trainable=True,\n",
        "                  mask_zero=True))\n",
        "    model.add(Masking(mask_value=0.0))\n",
        "\n",
        "    model.add(memory_cells_type(64))\n",
        "    model.add(Dense(64, activation='relu'))\n",
        "    model.add(Dropout(0.5))\n",
        "    model.add(Dense(1, activation='sigmoid'))\n",
        "\n",
        "    model.compile(\n",
        "        optimizer='adam', loss='binary_crossentropy', metrics=['accuracy'])\n",
        "    \n",
        "    print(\"Готово. Резюме модели:\")\n",
        "    print(model.summary())\n",
        "    \n",
        "    return model"
      ],
      "execution_count": 19,
      "outputs": []
    },
    {
      "cell_type": "code",
      "metadata": {
        "id": "oGA8pFbizm_w",
        "outputId": "227e58f5-a940-4384-f047-88cd09ef0f1b",
        "colab": {
          "base_uri": "https://localhost:8080/"
        }
      },
      "source": [
        "from keras.layers import SimpleRNN, Embedding, Masking, Dense, Dropout\n",
        "from keras.models import Sequential\n",
        "model = build_model(memory_cells_type=SimpleRNN,\n",
        "                    max_words=word_count,\n",
        "                    train_len=training_length)"
      ],
      "execution_count": 20,
      "outputs": [
        {
          "output_type": "stream",
          "text": [
            "Построение модели...\n",
            "Готово. Резюме модели:\n",
            "Model: \"sequential\"\n",
            "_________________________________________________________________\n",
            "Layer (type)                 Output Shape              Param #   \n",
            "=================================================================\n",
            "embedding (Embedding)        (None, 101, 30)           155460    \n",
            "_________________________________________________________________\n",
            "masking (Masking)            (None, 101, 30)           0         \n",
            "_________________________________________________________________\n",
            "simple_rnn (SimpleRNN)       (None, 64)                6080      \n",
            "_________________________________________________________________\n",
            "dense (Dense)                (None, 64)                4160      \n",
            "_________________________________________________________________\n",
            "dropout (Dropout)            (None, 64)                0         \n",
            "_________________________________________________________________\n",
            "dense_1 (Dense)              (None, 1)                 65        \n",
            "=================================================================\n",
            "Total params: 165,765\n",
            "Trainable params: 165,765\n",
            "Non-trainable params: 0\n",
            "_________________________________________________________________\n",
            "None\n"
          ],
          "name": "stdout"
        }
      ]
    },
    {
      "cell_type": "code",
      "metadata": {
        "id": "6KyujzJhuOUE",
        "outputId": "6d20750a-d9e2-4ed0-9354-f6681bba359a",
        "colab": {
          "base_uri": "https://localhost:8080/",
          "height": 661
        }
      },
      "source": [
        "tf.keras.utils.plot_model(model)"
      ],
      "execution_count": 21,
      "outputs": [
        {
          "output_type": "execute_result",
          "data": {
            "image/png": "[encoded data removed]",
            "text/plain": [
              "<IPython.core.display.Image object>"
            ]
          },
          "metadata": {
            "tags": []
          },
          "execution_count": 21
        }
      ]
    },
    {
      "cell_type": "code",
      "metadata": {
        "id": "f5Na2LbNznEi",
        "outputId": "1697627d-912f-42cc-ff55-5c427c70738b",
        "colab": {
          "base_uri": "https://localhost:8080/"
        }
      },
      "source": [
        "%%time\n",
        "from keras.callbacks import EarlyStopping \n",
        "early_stopping = EarlyStopping(monitor='val_loss')  \n",
        "\n",
        "history = model.fit(X_train, y_train,\n",
        "                    batch_size=batch_size,\n",
        "                    epochs=epochs,\n",
        "                    verbose=1,\n",
        "                    validation_split=0.2,\n",
        "                    shuffle=True,\n",
        "                    callbacks=[early_stopping])"
      ],
      "execution_count": 22,
      "outputs": [
        {
          "output_type": "stream",
          "text": [
            "Epoch 1/40\n",
            "4/4 [==============================] - 1s 176ms/step - loss: 0.6719 - accuracy: 0.5985 - val_loss: 0.5537 - val_accuracy: 0.8563\n",
            "Epoch 2/40\n",
            "4/4 [==============================] - 0s 118ms/step - loss: 0.5500 - accuracy: 0.8273 - val_loss: 0.4591 - val_accuracy: 0.8563\n",
            "Epoch 3/40\n",
            "4/4 [==============================] - 0s 115ms/step - loss: 0.4689 - accuracy: 0.8451 - val_loss: 0.4137 - val_accuracy: 0.8563\n",
            "Epoch 4/40\n",
            "4/4 [==============================] - 0s 115ms/step - loss: 0.4490 - accuracy: 0.8455 - val_loss: 0.4103 - val_accuracy: 0.8563\n",
            "Epoch 5/40\n",
            "4/4 [==============================] - 0s 113ms/step - loss: 0.4473 - accuracy: 0.8455 - val_loss: 0.4127 - val_accuracy: 0.8563\n",
            "CPU times: user 6 s, sys: 709 ms, total: 6.71 s\n",
            "Wall time: 4.92 s\n"
          ],
          "name": "stdout"
        }
      ]
    },
    {
      "cell_type": "code",
      "metadata": {
        "id": "iKpuTzb_znCI",
        "outputId": "3a24639d-d781-4eb6-8f56-0a655dd5d51b",
        "colab": {
          "base_uri": "https://localhost:8080/"
        }
      },
      "source": [
        "score = model.evaluate(X_valid, y_val, batch_size=512, verbose=1)\n",
        "print('\\nTest score:', score[0])\n",
        "print('Test accuracy:', score[1])"
      ],
      "execution_count": 23,
      "outputs": [
        {
          "output_type": "stream",
          "text": [
            "12/12 [==============================] - 0s 12ms/step - loss: 0.4400 - accuracy: 0.8428\n",
            "\n",
            "Test score: 0.4400107264518738\n",
            "Test accuracy: 0.842842698097229\n"
          ],
          "name": "stdout"
        }
      ]
    },
    {
      "cell_type": "code",
      "metadata": {
        "id": "u_pgKeWmzm9a",
        "outputId": "5deccfce-c01f-4a44-b87c-953f1a2d88c4",
        "colab": {
          "base_uri": "https://localhost:8080/"
        }
      },
      "source": [
        "%%time\n",
        "from sklearn.metrics import roc_auc_score\n",
        "res = model.predict(X_test)\n",
        "print(f'Test score: {round(roc_auc_score(y_test, res),3)}')"
      ],
      "execution_count": 24,
      "outputs": [
        {
          "output_type": "stream",
          "text": [
            "Test score: 0.829\n",
            "CPU times: user 2.15 s, sys: 36.9 ms, total: 2.18 s\n",
            "Wall time: 2.09 s\n"
          ],
          "name": "stdout"
        }
      ]
    },
    {
      "cell_type": "code",
      "metadata": {
        "id": "XPdxsi_0rGsY",
        "outputId": "e85e63c8-b98f-4cb2-be0e-c90c391d74ec",
        "colab": {
          "base_uri": "https://localhost:8080/",
          "height": 541
        }
      },
      "source": [
        "from matplotlib import pyplot as plt\n",
        "plt.figure()\n",
        "plt.plot(history.history['loss'], label='train loss')\n",
        "plt.plot(history.history['val_loss'], label='validation loss')\n",
        "plt.xlabel('Эпоха обучения')\n",
        "plt.ylabel('Значение функции потерь')\n",
        "plt.legend()\n",
        "\n",
        "plt.figure()\n",
        "plt.plot(history.history['accuracy'], label='train accuracy')\n",
        "plt.plot(history.history['val_accuracy'], label='validation accuracy')\n",
        "plt.xlabel('Эпоха обучения')\n",
        "plt.ylabel('Доля верных ответов')\n",
        "plt.legend()\n",
        "\n",
        "plt.show()"
      ],
      "execution_count": 25,
      "outputs": [
        {
          "output_type": "display_data",
          "data": {
            "image/png": "[encoded data removed]",
            "text/plain": [
              "<Figure size 432x288 with 1 Axes>"
            ]
          },
          "metadata": {
            "tags": [],
            "needs_background": "light"
          }
        },
        {
          "output_type": "display_data",
          "data": {
            "image/png": "[encoded data removed]",
            "text/plain": [
              "<Figure size 432x288 with 1 Axes>"
            ]
          },
          "metadata": {
            "tags": [],
            "needs_background": "light"
          }
        }
      ]
    },
    {
      "cell_type": "markdown",
      "metadata": {
        "id": "Gt5HCK9C0KMY"
      },
      "source": [
        "**Рассмотрим LSTM**"
      ]
    },
    {
      "cell_type": "code",
      "metadata": {
        "id": "cYrAmgaDzmx3",
        "outputId": "88c126d7-30be-496c-f5db-154ebc66b21b",
        "colab": {
          "base_uri": "https://localhost:8080/"
        }
      },
      "source": [
        "from keras.layers import LSTM\n",
        "model = build_model(memory_cells_type=LSTM,\n",
        "                    max_words=word_count,\n",
        "                    train_len=training_length)"
      ],
      "execution_count": 26,
      "outputs": [
        {
          "output_type": "stream",
          "text": [
            "Построение модели...\n",
            "Готово. Резюме модели:\n",
            "Model: \"sequential_1\"\n",
            "_________________________________________________________________\n",
            "Layer (type)                 Output Shape              Param #   \n",
            "=================================================================\n",
            "embedding_1 (Embedding)      (None, 101, 30)           155460    \n",
            "_________________________________________________________________\n",
            "masking_1 (Masking)          (None, 101, 30)           0         \n",
            "_________________________________________________________________\n",
            "lstm (LSTM)                  (None, 64)                24320     \n",
            "_________________________________________________________________\n",
            "dense_2 (Dense)              (None, 64)                4160      \n",
            "_________________________________________________________________\n",
            "dropout_1 (Dropout)          (None, 64)                0         \n",
            "_________________________________________________________________\n",
            "dense_3 (Dense)              (None, 1)                 65        \n",
            "=================================================================\n",
            "Total params: 184,005\n",
            "Trainable params: 184,005\n",
            "Non-trainable params: 0\n",
            "_________________________________________________________________\n",
            "None\n"
          ],
          "name": "stdout"
        }
      ]
    },
    {
      "cell_type": "code",
      "metadata": {
        "id": "PwyqXK9QuQNL",
        "outputId": "c73c6981-5d21-46e4-e34a-576bf30fb524",
        "colab": {
          "base_uri": "https://localhost:8080/",
          "height": 661
        }
      },
      "source": [
        "tf.keras.utils.plot_model(model)"
      ],
      "execution_count": 27,
      "outputs": [
        {
          "output_type": "execute_result",
          "data": {
            "image/png": "[encoded data removed]",
            "text/plain": [
              "<IPython.core.display.Image object>"
            ]
          },
          "metadata": {
            "tags": []
          },
          "execution_count": 27
        }
      ]
    },
    {
      "cell_type": "code",
      "metadata": {
        "id": "pNEGWG_N0PmW",
        "outputId": "17282da0-2203-4a36-df28-ee08a7f9315f",
        "colab": {
          "base_uri": "https://localhost:8080/"
        }
      },
      "source": [
        "%%time\n",
        "\n",
        "early_stopping=EarlyStopping(monitor='val_loss')  \n",
        "\n",
        "history = model.fit(X_train, y_train,\n",
        "                    batch_size=batch_size,\n",
        "                    epochs=epochs,\n",
        "                    verbose=1,\n",
        "                    validation_split=0.2,\n",
        "                    shuffle=True,\n",
        "                    callbacks=[early_stopping])"
      ],
      "execution_count": 28,
      "outputs": [
        {
          "output_type": "stream",
          "text": [
            "Epoch 1/40\n",
            "4/4 [==============================] - 1s 371ms/step - loss: 0.6879 - accuracy: 0.6636 - val_loss: 0.6679 - val_accuracy: 0.8563\n",
            "Epoch 2/40\n",
            "4/4 [==============================] - 0s 121ms/step - loss: 0.6606 - accuracy: 0.8455 - val_loss: 0.6264 - val_accuracy: 0.8563\n",
            "Epoch 3/40\n",
            "4/4 [==============================] - 0s 122ms/step - loss: 0.6102 - accuracy: 0.8455 - val_loss: 0.5213 - val_accuracy: 0.8563\n",
            "Epoch 4/40\n",
            "4/4 [==============================] - 0s 123ms/step - loss: 0.4837 - accuracy: 0.8455 - val_loss: 0.3960 - val_accuracy: 0.8563\n",
            "Epoch 5/40\n",
            "4/4 [==============================] - 0s 121ms/step - loss: 0.4410 - accuracy: 0.8455 - val_loss: 0.4040 - val_accuracy: 0.8563\n",
            "CPU times: user 6.27 s, sys: 808 ms, total: 7.08 s\n",
            "Wall time: 9.71 s\n"
          ],
          "name": "stdout"
        }
      ]
    },
    {
      "cell_type": "code",
      "metadata": {
        "id": "RMdF944-0Psb",
        "outputId": "432ac106-a22c-4070-8d89-d3c1ddd276ca",
        "colab": {
          "base_uri": "https://localhost:8080/"
        }
      },
      "source": [
        "score = model.evaluate(X_valid, y_val, batch_size=512, verbose=1)\n",
        "print('\\nTest score:', score[0])\n",
        "print('Test accuracy:', score[1])"
      ],
      "execution_count": 29,
      "outputs": [
        {
          "output_type": "stream",
          "text": [
            "12/12 [==============================] - 0s 9ms/step - loss: 0.4355 - accuracy: 0.8428\n",
            "\n",
            "Test score: 0.43552374839782715\n",
            "Test accuracy: 0.842842698097229\n"
          ],
          "name": "stdout"
        }
      ]
    },
    {
      "cell_type": "code",
      "metadata": {
        "id": "DRuI6_kR0P0g",
        "outputId": "0638d94c-97e9-4445-d1bd-de0bf3919c4c",
        "colab": {
          "base_uri": "https://localhost:8080/"
        }
      },
      "source": [
        "%%time\n",
        "\n",
        "res = model.predict(X_test)\n",
        "print(f'Test score: {round(roc_auc_score(y_test, res),3)}')"
      ],
      "execution_count": 30,
      "outputs": [
        {
          "output_type": "stream",
          "text": [
            "Test score: 0.892\n",
            "CPU times: user 1.66 s, sys: 96.2 ms, total: 1.75 s\n",
            "Wall time: 1.56 s\n"
          ],
          "name": "stdout"
        }
      ]
    },
    {
      "cell_type": "code",
      "metadata": {
        "id": "Fx_lWHpArJM3",
        "outputId": "2b9f98f0-ac6a-4215-d3bf-3a061b9360b7",
        "colab": {
          "base_uri": "https://localhost:8080/",
          "height": 544
        }
      },
      "source": [
        "plt.figure()\n",
        "plt.plot(history.history['loss'], label='train loss')\n",
        "plt.plot(history.history['val_loss'], label='validation loss')\n",
        "plt.xlabel('Эпоха обучения')\n",
        "plt.ylabel('Значение функции потерь')\n",
        "plt.legend()\n",
        "\n",
        "plt.figure()\n",
        "plt.plot(history.history['accuracy'], label='train accuracy')\n",
        "plt.plot(history.history['val_accuracy'], label='validation accuracy')\n",
        "plt.xlabel('Эпоха обучения')\n",
        "plt.ylabel('Доля верных ответов')\n",
        "plt.legend()\n",
        "\n",
        "plt.show()"
      ],
      "execution_count": 31,
      "outputs": [
        {
          "output_type": "display_data",
          "data": {
            "image/png": "[encoded data removed]",
            "text/plain": [
              "<Figure size 432x288 with 1 Axes>"
            ]
          },
          "metadata": {
            "tags": [],
            "needs_background": "light"
          }
        },
        {
          "output_type": "display_data",
          "data": {
            "image/png": "[encoded data removed]",
            "text/plain": [
              "<Figure size 432x288 with 1 Axes>"
            ]
          },
          "metadata": {
            "tags": [],
            "needs_background": "light"
          }
        }
      ]
    },
    {
      "cell_type": "markdown",
      "metadata": {
        "id": "qGKyLTED0ZED"
      },
      "source": [
        "**Рассмотрим GRU**"
      ]
    },
    {
      "cell_type": "code",
      "metadata": {
        "id": "aa8K5XZr0P-E",
        "outputId": "7b304795-840e-4399-96c3-412176a51c51",
        "colab": {
          "base_uri": "https://localhost:8080/"
        }
      },
      "source": [
        "from keras.layers import GRU\n",
        "model = build_model(memory_cells_type=GRU,\n",
        "                    max_words=word_count,\n",
        "                    train_len=training_length)"
      ],
      "execution_count": 32,
      "outputs": [
        {
          "output_type": "stream",
          "text": [
            "Построение модели...\n",
            "Готово. Резюме модели:\n",
            "Model: \"sequential_2\"\n",
            "_________________________________________________________________\n",
            "Layer (type)                 Output Shape              Param #   \n",
            "=================================================================\n",
            "embedding_2 (Embedding)      (None, 101, 30)           155460    \n",
            "_________________________________________________________________\n",
            "masking_2 (Masking)          (None, 101, 30)           0         \n",
            "_________________________________________________________________\n",
            "gru (GRU)                    (None, 64)                18432     \n",
            "_________________________________________________________________\n",
            "dense_4 (Dense)              (None, 64)                4160      \n",
            "_________________________________________________________________\n",
            "dropout_2 (Dropout)          (None, 64)                0         \n",
            "_________________________________________________________________\n",
            "dense_5 (Dense)              (None, 1)                 65        \n",
            "=================================================================\n",
            "Total params: 178,117\n",
            "Trainable params: 178,117\n",
            "Non-trainable params: 0\n",
            "_________________________________________________________________\n",
            "None\n"
          ],
          "name": "stdout"
        }
      ]
    },
    {
      "cell_type": "code",
      "metadata": {
        "id": "7M0VbXtTuSBq",
        "outputId": "5afa6dc5-e62b-4b41-f12b-9fc714d7acab",
        "colab": {
          "base_uri": "https://localhost:8080/",
          "height": 661
        }
      },
      "source": [
        "tf.keras.utils.plot_model(model)"
      ],
      "execution_count": 33,
      "outputs": [
        {
          "output_type": "execute_result",
          "data": {
            "image/png": "[encoded data removed]",
            "text/plain": [
              "<IPython.core.display.Image object>"
            ]
          },
          "metadata": {
            "tags": []
          },
          "execution_count": 33
        }
      ]
    },
    {
      "cell_type": "code",
      "metadata": {
        "id": "5GMknKBh0P71",
        "outputId": "df4ca26e-abb2-46a0-f2b3-8c9572e4fbbf",
        "colab": {
          "base_uri": "https://localhost:8080/"
        }
      },
      "source": [
        "%%time\n",
        "\n",
        "early_stopping=EarlyStopping(monitor='val_loss')  \n",
        "\n",
        "history = model.fit(X_train, y_train,\n",
        "                    batch_size=batch_size,\n",
        "                    epochs=epochs,\n",
        "                    verbose=1,\n",
        "                    validation_split=0.2,\n",
        "                    shuffle=True,\n",
        "                    callbacks=[early_stopping])"
      ],
      "execution_count": 34,
      "outputs": [
        {
          "output_type": "stream",
          "text": [
            "Epoch 1/40\n",
            "4/4 [==============================] - 1s 360ms/step - loss: 0.6878 - accuracy: 0.6778 - val_loss: 0.6663 - val_accuracy: 0.8563\n",
            "Epoch 2/40\n",
            "4/4 [==============================] - 0s 120ms/step - loss: 0.6576 - accuracy: 0.8455 - val_loss: 0.6256 - val_accuracy: 0.8563\n",
            "Epoch 3/40\n",
            "4/4 [==============================] - 0s 122ms/step - loss: 0.6142 - accuracy: 0.8455 - val_loss: 0.5644 - val_accuracy: 0.8563\n",
            "Epoch 4/40\n",
            "4/4 [==============================] - 0s 121ms/step - loss: 0.5471 - accuracy: 0.8455 - val_loss: 0.4715 - val_accuracy: 0.8563\n",
            "Epoch 5/40\n",
            "4/4 [==============================] - 0s 121ms/step - loss: 0.4526 - accuracy: 0.8455 - val_loss: 0.3597 - val_accuracy: 0.8563\n",
            "Epoch 6/40\n",
            "4/4 [==============================] - 0s 120ms/step - loss: 0.3783 - accuracy: 0.8455 - val_loss: 0.3707 - val_accuracy: 0.8563\n",
            "CPU times: user 5.1 s, sys: 329 ms, total: 5.43 s\n",
            "Wall time: 8.45 s\n"
          ],
          "name": "stdout"
        }
      ]
    },
    {
      "cell_type": "code",
      "metadata": {
        "id": "gM4vjnHw0P3A",
        "outputId": "042c7b0c-6a63-4f71-bf70-b38535e88ad0",
        "colab": {
          "base_uri": "https://localhost:8080/"
        }
      },
      "source": [
        "score = model.evaluate(X_valid, y_val, batch_size=512, verbose=1)\n",
        "print('\\nTest score:', score[0])\n",
        "print('Test accuracy:', score[1])"
      ],
      "execution_count": 35,
      "outputs": [
        {
          "output_type": "stream",
          "text": [
            "12/12 [==============================] - 0s 8ms/step - loss: 0.4111 - accuracy: 0.8428\n",
            "\n",
            "Test score: 0.41110867261886597\n",
            "Test accuracy: 0.842842698097229\n"
          ],
          "name": "stdout"
        }
      ]
    },
    {
      "cell_type": "code",
      "metadata": {
        "id": "1PeLGZip0Pxx",
        "outputId": "a1046663-c620-460e-c182-84d1dbd31207",
        "colab": {
          "base_uri": "https://localhost:8080/"
        }
      },
      "source": [
        "%%time \n",
        "res = model.predict(X_test)\n",
        "print(f'Test score: {round(roc_auc_score(y_test, res),3)}')"
      ],
      "execution_count": 36,
      "outputs": [
        {
          "output_type": "stream",
          "text": [
            "Test score: 0.898\n",
            "CPU times: user 1.94 s, sys: 98.5 ms, total: 2.04 s\n",
            "Wall time: 1.87 s\n"
          ],
          "name": "stdout"
        }
      ]
    },
    {
      "cell_type": "code",
      "metadata": {
        "id": "t3AicDsrq_AP",
        "outputId": "7deef74b-dcea-418c-adb7-96d4dca4669b",
        "colab": {
          "base_uri": "https://localhost:8080/",
          "height": 543
        }
      },
      "source": [
        "plt.figure()\n",
        "plt.plot(history.history['loss'], label='train loss')\n",
        "plt.plot(history.history['val_loss'], label='validation loss')\n",
        "plt.xlabel('Эпоха обучения')\n",
        "plt.ylabel('Значение функции потерь')\n",
        "plt.legend()\n",
        "\n",
        "plt.figure()\n",
        "plt.plot(history.history['accuracy'], label='train accuracy')\n",
        "plt.plot(history.history['val_accuracy'], label='validation accuracy')\n",
        "plt.xlabel('Эпоха обучения')\n",
        "plt.ylabel('Доля верных ответов')\n",
        "plt.legend()\n",
        "\n",
        "plt.show()"
      ],
      "execution_count": 37,
      "outputs": [
        {
          "output_type": "display_data",
          "data": {
            "image/png": "[encoded data removed]",
            "text/plain": [
              "<Figure size 432x288 with 1 Axes>"
            ]
          },
          "metadata": {
            "tags": [],
            "needs_background": "light"
          }
        },
        {
          "output_type": "display_data",
          "data": {
            "image/png": "[encoded data removed]",
            "text/plain": [
              "<Figure size 432x288 with 1 Axes>"
            ]
          },
          "metadata": {
            "tags": [],
            "needs_background": "light"
          }
        }
      ]
    },
    {
      "cell_type": "markdown",
      "metadata": {
        "id": "g8hzfjYN0lG9"
      },
      "source": [
        "**Вывод:** наибольший тест скор был получен на GRU"
      ]
    },
    {
      "cell_type": "code",
      "metadata": {
        "id": "UDGzEDlxzmtA"
      },
      "source": [
        ""
      ],
      "execution_count": 37,
      "outputs": []
    }
  ]
}