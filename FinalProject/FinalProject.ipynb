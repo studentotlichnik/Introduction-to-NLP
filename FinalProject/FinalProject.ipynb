{
  "nbformat": 4,
  "nbformat_minor": 0,
  "metadata": {
    "accelerator": "GPU",
    "colab": {
      "name": "NLP_final_project.ipynb",
      "provenance": [],
      "collapsed_sections": []
    },
    "kernelspec": {
      "display_name": "Python 3",
      "name": "python3"
    },
    "widgets": {
      "application/vnd.jupyter.widget-state+json": {
        "80849f6ab5ca459cb3a7fee9e48d3f86": {
          "model_module": "@jupyter-widgets/controls",
          "model_name": "HBoxModel",
          "state": {
            "_view_name": "HBoxView",
            "_dom_classes": [],
            "_model_name": "HBoxModel",
            "_view_module": "@jupyter-widgets/controls",
            "_model_module_version": "1.5.0",
            "_view_count": null,
            "_view_module_version": "1.5.0",
            "box_style": "",
            "layout": "IPY_MODEL_7436e61d5a5641fd8ec731e33aa16c8c",
            "_model_module": "@jupyter-widgets/controls",
            "children": [
              "IPY_MODEL_faafc26f91bf463aada7524ce22922dc",
              "IPY_MODEL_a0b14207d2ac4859b8d728142810a850"
            ]
          }
        },
        "7436e61d5a5641fd8ec731e33aa16c8c": {
          "model_module": "@jupyter-widgets/base",
          "model_name": "LayoutModel",
          "state": {
            "_view_name": "LayoutView",
            "grid_template_rows": null,
            "right": null,
            "justify_content": null,
            "_view_module": "@jupyter-widgets/base",
            "overflow": null,
            "_model_module_version": "1.2.0",
            "_view_count": null,
            "flex_flow": null,
            "width": null,
            "min_width": null,
            "border": null,
            "align_items": null,
            "bottom": null,
            "_model_module": "@jupyter-widgets/base",
            "top": null,
            "grid_column": null,
            "overflow_y": null,
            "overflow_x": null,
            "grid_auto_flow": null,
            "grid_area": null,
            "grid_template_columns": null,
            "flex": null,
            "_model_name": "LayoutModel",
            "justify_items": null,
            "grid_row": null,
            "max_height": null,
            "align_content": null,
            "visibility": null,
            "align_self": null,
            "height": null,
            "min_height": null,
            "padding": null,
            "grid_auto_rows": null,
            "grid_gap": null,
            "max_width": null,
            "order": null,
            "_view_module_version": "1.2.0",
            "grid_template_areas": null,
            "object_position": null,
            "object_fit": null,
            "grid_auto_columns": null,
            "margin": null,
            "display": null,
            "left": null
          }
        },
        "faafc26f91bf463aada7524ce22922dc": {
          "model_module": "@jupyter-widgets/controls",
          "model_name": "FloatProgressModel",
          "state": {
            "_view_name": "ProgressView",
            "style": "IPY_MODEL_e813263581f54ec99d1639fd967544a9",
            "_dom_classes": [],
            "description": "",
            "_model_name": "FloatProgressModel",
            "bar_style": "success",
            "max": 1,
            "_view_module": "@jupyter-widgets/controls",
            "_model_module_version": "1.5.0",
            "value": 1,
            "_view_count": null,
            "_view_module_version": "1.5.0",
            "orientation": "horizontal",
            "min": 0,
            "description_tooltip": null,
            "_model_module": "@jupyter-widgets/controls",
            "layout": "IPY_MODEL_5e9a49ca8a2d4f93be0d8387d4510b11"
          }
        },
        "a0b14207d2ac4859b8d728142810a850": {
          "model_module": "@jupyter-widgets/controls",
          "model_name": "HTMLModel",
          "state": {
            "_view_name": "HTMLView",
            "style": "IPY_MODEL_2c5cb473137147c18bd369e6c62ca9b6",
            "_dom_classes": [],
            "description": "",
            "_model_name": "HTMLModel",
            "placeholder": "​",
            "_view_module": "@jupyter-widgets/controls",
            "_model_module_version": "1.5.0",
            "value": " 7550926/? [01:02&lt;00:00, 121545.47it/s]",
            "_view_count": null,
            "_view_module_version": "1.5.0",
            "description_tooltip": null,
            "_model_module": "@jupyter-widgets/controls",
            "layout": "IPY_MODEL_a86772c9dc464094b669824231981c6c"
          }
        },
        "e813263581f54ec99d1639fd967544a9": {
          "model_module": "@jupyter-widgets/controls",
          "model_name": "ProgressStyleModel",
          "state": {
            "_view_name": "StyleView",
            "_model_name": "ProgressStyleModel",
            "description_width": "initial",
            "_view_module": "@jupyter-widgets/base",
            "_model_module_version": "1.5.0",
            "_view_count": null,
            "_view_module_version": "1.2.0",
            "bar_color": null,
            "_model_module": "@jupyter-widgets/controls"
          }
        },
        "5e9a49ca8a2d4f93be0d8387d4510b11": {
          "model_module": "@jupyter-widgets/base",
          "model_name": "LayoutModel",
          "state": {
            "_view_name": "LayoutView",
            "grid_template_rows": null,
            "right": null,
            "justify_content": null,
            "_view_module": "@jupyter-widgets/base",
            "overflow": null,
            "_model_module_version": "1.2.0",
            "_view_count": null,
            "flex_flow": null,
            "width": null,
            "min_width": null,
            "border": null,
            "align_items": null,
            "bottom": null,
            "_model_module": "@jupyter-widgets/base",
            "top": null,
            "grid_column": null,
            "overflow_y": null,
            "overflow_x": null,
            "grid_auto_flow": null,
            "grid_area": null,
            "grid_template_columns": null,
            "flex": null,
            "_model_name": "LayoutModel",
            "justify_items": null,
            "grid_row": null,
            "max_height": null,
            "align_content": null,
            "visibility": null,
            "align_self": null,
            "height": null,
            "min_height": null,
            "padding": null,
            "grid_auto_rows": null,
            "grid_gap": null,
            "max_width": null,
            "order": null,
            "_view_module_version": "1.2.0",
            "grid_template_areas": null,
            "object_position": null,
            "object_fit": null,
            "grid_auto_columns": null,
            "margin": null,
            "display": null,
            "left": null
          }
        },
        "2c5cb473137147c18bd369e6c62ca9b6": {
          "model_module": "@jupyter-widgets/controls",
          "model_name": "DescriptionStyleModel",
          "state": {
            "_view_name": "StyleView",
            "_model_name": "DescriptionStyleModel",
            "description_width": "",
            "_view_module": "@jupyter-widgets/base",
            "_model_module_version": "1.5.0",
            "_view_count": null,
            "_view_module_version": "1.2.0",
            "_model_module": "@jupyter-widgets/controls"
          }
        },
        "a86772c9dc464094b669824231981c6c": {
          "model_module": "@jupyter-widgets/base",
          "model_name": "LayoutModel",
          "state": {
            "_view_name": "LayoutView",
            "grid_template_rows": null,
            "right": null,
            "justify_content": null,
            "_view_module": "@jupyter-widgets/base",
            "overflow": null,
            "_model_module_version": "1.2.0",
            "_view_count": null,
            "flex_flow": null,
            "width": null,
            "min_width": null,
            "border": null,
            "align_items": null,
            "bottom": null,
            "_model_module": "@jupyter-widgets/base",
            "top": null,
            "grid_column": null,
            "overflow_y": null,
            "overflow_x": null,
            "grid_auto_flow": null,
            "grid_area": null,
            "grid_template_columns": null,
            "flex": null,
            "_model_name": "LayoutModel",
            "justify_items": null,
            "grid_row": null,
            "max_height": null,
            "align_content": null,
            "visibility": null,
            "align_self": null,
            "height": null,
            "min_height": null,
            "padding": null,
            "grid_auto_rows": null,
            "grid_gap": null,
            "max_width": null,
            "order": null,
            "_view_module_version": "1.2.0",
            "grid_template_areas": null,
            "object_position": null,
            "object_fit": null,
            "grid_auto_columns": null,
            "margin": null,
            "display": null,
            "left": null
          }
        },
        "081c16bbf1c54b02beaea2e620a39244": {
          "model_module": "@jupyter-widgets/controls",
          "model_name": "HBoxModel",
          "state": {
            "_view_name": "HBoxView",
            "_dom_classes": [],
            "_model_name": "HBoxModel",
            "_view_module": "@jupyter-widgets/controls",
            "_model_module_version": "1.5.0",
            "_view_count": null,
            "_view_module_version": "1.5.0",
            "box_style": "",
            "layout": "IPY_MODEL_453810d9ffdd464eb139c0bc4be7c6ec",
            "_model_module": "@jupyter-widgets/controls",
            "children": [
              "IPY_MODEL_c4935d19e53f4819a6265ad97537e0c4",
              "IPY_MODEL_ffdadbcb5fa74cdc88af64a0fa58e6b1"
            ]
          }
        },
        "453810d9ffdd464eb139c0bc4be7c6ec": {
          "model_module": "@jupyter-widgets/base",
          "model_name": "LayoutModel",
          "state": {
            "_view_name": "LayoutView",
            "grid_template_rows": null,
            "right": null,
            "justify_content": null,
            "_view_module": "@jupyter-widgets/base",
            "overflow": null,
            "_model_module_version": "1.2.0",
            "_view_count": null,
            "flex_flow": null,
            "width": null,
            "min_width": null,
            "border": null,
            "align_items": null,
            "bottom": null,
            "_model_module": "@jupyter-widgets/base",
            "top": null,
            "grid_column": null,
            "overflow_y": null,
            "overflow_x": null,
            "grid_auto_flow": null,
            "grid_area": null,
            "grid_template_columns": null,
            "flex": null,
            "_model_name": "LayoutModel",
            "justify_items": null,
            "grid_row": null,
            "max_height": null,
            "align_content": null,
            "visibility": null,
            "align_self": null,
            "height": null,
            "min_height": null,
            "padding": null,
            "grid_auto_rows": null,
            "grid_gap": null,
            "max_width": null,
            "order": null,
            "_view_module_version": "1.2.0",
            "grid_template_areas": null,
            "object_position": null,
            "object_fit": null,
            "grid_auto_columns": null,
            "margin": null,
            "display": null,
            "left": null
          }
        },
        "c4935d19e53f4819a6265ad97537e0c4": {
          "model_module": "@jupyter-widgets/controls",
          "model_name": "FloatProgressModel",
          "state": {
            "_view_name": "ProgressView",
            "style": "IPY_MODEL_c511db64cf9344d198faeca69ee9c197",
            "_dom_classes": [],
            "description": "",
            "_model_name": "FloatProgressModel",
            "bar_style": "danger",
            "max": 1,
            "_view_module": "@jupyter-widgets/controls",
            "_model_module_version": "1.5.0",
            "value": 1,
            "_view_count": null,
            "_view_module_version": "1.5.0",
            "orientation": "horizontal",
            "min": 0,
            "description_tooltip": null,
            "_model_module": "@jupyter-widgets/controls",
            "layout": "IPY_MODEL_12cd5cb6a357474c933bc60e9efc9d74"
          }
        },
        "ffdadbcb5fa74cdc88af64a0fa58e6b1": {
          "model_module": "@jupyter-widgets/controls",
          "model_name": "HTMLModel",
          "state": {
            "_view_name": "HTMLView",
            "style": "IPY_MODEL_c007a6656fc24b0ba4979b1d8f3f68f6",
            "_dom_classes": [],
            "description": "",
            "_model_name": "HTMLModel",
            "placeholder": "​",
            "_view_module": "@jupyter-widgets/controls",
            "_model_module_version": "1.5.0",
            "value": " 499974/? [38:01&lt;00:00, 222.14it/s]",
            "_view_count": null,
            "_view_module_version": "1.5.0",
            "description_tooltip": null,
            "_model_module": "@jupyter-widgets/controls",
            "layout": "IPY_MODEL_3568426abed04a309a431ce3a5cb9055"
          }
        },
        "c511db64cf9344d198faeca69ee9c197": {
          "model_module": "@jupyter-widgets/controls",
          "model_name": "ProgressStyleModel",
          "state": {
            "_view_name": "StyleView",
            "_model_name": "ProgressStyleModel",
            "description_width": "initial",
            "_view_module": "@jupyter-widgets/base",
            "_model_module_version": "1.5.0",
            "_view_count": null,
            "_view_module_version": "1.2.0",
            "bar_color": null,
            "_model_module": "@jupyter-widgets/controls"
          }
        },
        "12cd5cb6a357474c933bc60e9efc9d74": {
          "model_module": "@jupyter-widgets/base",
          "model_name": "LayoutModel",
          "state": {
            "_view_name": "LayoutView",
            "grid_template_rows": null,
            "right": null,
            "justify_content": null,
            "_view_module": "@jupyter-widgets/base",
            "overflow": null,
            "_model_module_version": "1.2.0",
            "_view_count": null,
            "flex_flow": null,
            "width": null,
            "min_width": null,
            "border": null,
            "align_items": null,
            "bottom": null,
            "_model_module": "@jupyter-widgets/base",
            "top": null,
            "grid_column": null,
            "overflow_y": null,
            "overflow_x": null,
            "grid_auto_flow": null,
            "grid_area": null,
            "grid_template_columns": null,
            "flex": null,
            "_model_name": "LayoutModel",
            "justify_items": null,
            "grid_row": null,
            "max_height": null,
            "align_content": null,
            "visibility": null,
            "align_self": null,
            "height": null,
            "min_height": null,
            "padding": null,
            "grid_auto_rows": null,
            "grid_gap": null,
            "max_width": null,
            "order": null,
            "_view_module_version": "1.2.0",
            "grid_template_areas": null,
            "object_position": null,
            "object_fit": null,
            "grid_auto_columns": null,
            "margin": null,
            "display": null,
            "left": null
          }
        },
        "c007a6656fc24b0ba4979b1d8f3f68f6": {
          "model_module": "@jupyter-widgets/controls",
          "model_name": "DescriptionStyleModel",
          "state": {
            "_view_name": "StyleView",
            "_model_name": "DescriptionStyleModel",
            "description_width": "",
            "_view_module": "@jupyter-widgets/base",
            "_model_module_version": "1.5.0",
            "_view_count": null,
            "_view_module_version": "1.2.0",
            "_model_module": "@jupyter-widgets/controls"
          }
        },
        "3568426abed04a309a431ce3a5cb9055": {
          "model_module": "@jupyter-widgets/base",
          "model_name": "LayoutModel",
          "state": {
            "_view_name": "LayoutView",
            "grid_template_rows": null,
            "right": null,
            "justify_content": null,
            "_view_module": "@jupyter-widgets/base",
            "overflow": null,
            "_model_module_version": "1.2.0",
            "_view_count": null,
            "flex_flow": null,
            "width": null,
            "min_width": null,
            "border": null,
            "align_items": null,
            "bottom": null,
            "_model_module": "@jupyter-widgets/base",
            "top": null,
            "grid_column": null,
            "overflow_y": null,
            "overflow_x": null,
            "grid_auto_flow": null,
            "grid_area": null,
            "grid_template_columns": null,
            "flex": null,
            "_model_name": "LayoutModel",
            "justify_items": null,
            "grid_row": null,
            "max_height": null,
            "align_content": null,
            "visibility": null,
            "align_self": null,
            "height": null,
            "min_height": null,
            "padding": null,
            "grid_auto_rows": null,
            "grid_gap": null,
            "max_width": null,
            "order": null,
            "_view_module_version": "1.2.0",
            "grid_template_areas": null,
            "object_position": null,
            "object_fit": null,
            "grid_auto_columns": null,
            "margin": null,
            "display": null,
            "left": null
          }
        },
        "0f3b1ac39e7b46cf8189187e5f13ff6e": {
          "model_module": "@jupyter-widgets/controls",
          "model_name": "HBoxModel",
          "state": {
            "_view_name": "HBoxView",
            "_dom_classes": [],
            "_model_name": "HBoxModel",
            "_view_module": "@jupyter-widgets/controls",
            "_model_module_version": "1.5.0",
            "_view_count": null,
            "_view_module_version": "1.5.0",
            "box_style": "",
            "layout": "IPY_MODEL_8b8010568ddd48d28736bc6583309299",
            "_model_module": "@jupyter-widgets/controls",
            "children": [
              "IPY_MODEL_e6eaefb708174ee8b911967f71404487",
              "IPY_MODEL_7917f08c6654460483568aeb4ddb8ee3"
            ]
          }
        },
        "8b8010568ddd48d28736bc6583309299": {
          "model_module": "@jupyter-widgets/base",
          "model_name": "LayoutModel",
          "state": {
            "_view_name": "LayoutView",
            "grid_template_rows": null,
            "right": null,
            "justify_content": null,
            "_view_module": "@jupyter-widgets/base",
            "overflow": null,
            "_model_module_version": "1.2.0",
            "_view_count": null,
            "flex_flow": null,
            "width": null,
            "min_width": null,
            "border": null,
            "align_items": null,
            "bottom": null,
            "_model_module": "@jupyter-widgets/base",
            "top": null,
            "grid_column": null,
            "overflow_y": null,
            "overflow_x": null,
            "grid_auto_flow": null,
            "grid_area": null,
            "grid_template_columns": null,
            "flex": null,
            "_model_name": "LayoutModel",
            "justify_items": null,
            "grid_row": null,
            "max_height": null,
            "align_content": null,
            "visibility": null,
            "align_self": null,
            "height": null,
            "min_height": null,
            "padding": null,
            "grid_auto_rows": null,
            "grid_gap": null,
            "max_width": null,
            "order": null,
            "_view_module_version": "1.2.0",
            "grid_template_areas": null,
            "object_position": null,
            "object_fit": null,
            "grid_auto_columns": null,
            "margin": null,
            "display": null,
            "left": null
          }
        },
        "e6eaefb708174ee8b911967f71404487": {
          "model_module": "@jupyter-widgets/controls",
          "model_name": "FloatProgressModel",
          "state": {
            "_view_name": "ProgressView",
            "style": "IPY_MODEL_516a4a436ce04908a2ae4225eb18b9c7",
            "_dom_classes": [],
            "description": "",
            "_model_name": "FloatProgressModel",
            "bar_style": "success",
            "max": 1,
            "_view_module": "@jupyter-widgets/controls",
            "_model_module_version": "1.5.0",
            "value": 1,
            "_view_count": null,
            "_view_module_version": "1.5.0",
            "orientation": "horizontal",
            "min": 0,
            "description_tooltip": null,
            "_model_module": "@jupyter-widgets/controls",
            "layout": "IPY_MODEL_514a2cf2f4c84967900ddb42d8f18104"
          }
        },
        "7917f08c6654460483568aeb4ddb8ee3": {
          "model_module": "@jupyter-widgets/controls",
          "model_name": "HTMLModel",
          "state": {
            "_view_name": "HTMLView",
            "style": "IPY_MODEL_94e292166a6d41cda6ad86b970ce4e2c",
            "_dom_classes": [],
            "description": "",
            "_model_name": "HTMLModel",
            "placeholder": "​",
            "_view_module": "@jupyter-widgets/controls",
            "_model_module_version": "1.5.0",
            "value": " 1163342/? [1:33:05&lt;00:00, 208.30it/s]",
            "_view_count": null,
            "_view_module_version": "1.5.0",
            "description_tooltip": null,
            "_model_module": "@jupyter-widgets/controls",
            "layout": "IPY_MODEL_233cf77b237c4e09a6e4969414e35546"
          }
        },
        "516a4a436ce04908a2ae4225eb18b9c7": {
          "model_module": "@jupyter-widgets/controls",
          "model_name": "ProgressStyleModel",
          "state": {
            "_view_name": "StyleView",
            "_model_name": "ProgressStyleModel",
            "description_width": "initial",
            "_view_module": "@jupyter-widgets/base",
            "_model_module_version": "1.5.0",
            "_view_count": null,
            "_view_module_version": "1.2.0",
            "bar_color": null,
            "_model_module": "@jupyter-widgets/controls"
          }
        },
        "514a2cf2f4c84967900ddb42d8f18104": {
          "model_module": "@jupyter-widgets/base",
          "model_name": "LayoutModel",
          "state": {
            "_view_name": "LayoutView",
            "grid_template_rows": null,
            "right": null,
            "justify_content": null,
            "_view_module": "@jupyter-widgets/base",
            "overflow": null,
            "_model_module_version": "1.2.0",
            "_view_count": null,
            "flex_flow": null,
            "width": null,
            "min_width": null,
            "border": null,
            "align_items": null,
            "bottom": null,
            "_model_module": "@jupyter-widgets/base",
            "top": null,
            "grid_column": null,
            "overflow_y": null,
            "overflow_x": null,
            "grid_auto_flow": null,
            "grid_area": null,
            "grid_template_columns": null,
            "flex": null,
            "_model_name": "LayoutModel",
            "justify_items": null,
            "grid_row": null,
            "max_height": null,
            "align_content": null,
            "visibility": null,
            "align_self": null,
            "height": null,
            "min_height": null,
            "padding": null,
            "grid_auto_rows": null,
            "grid_gap": null,
            "max_width": null,
            "order": null,
            "_view_module_version": "1.2.0",
            "grid_template_areas": null,
            "object_position": null,
            "object_fit": null,
            "grid_auto_columns": null,
            "margin": null,
            "display": null,
            "left": null
          }
        },
        "94e292166a6d41cda6ad86b970ce4e2c": {
          "model_module": "@jupyter-widgets/controls",
          "model_name": "DescriptionStyleModel",
          "state": {
            "_view_name": "StyleView",
            "_model_name": "DescriptionStyleModel",
            "description_width": "",
            "_view_module": "@jupyter-widgets/base",
            "_model_module_version": "1.5.0",
            "_view_count": null,
            "_view_module_version": "1.2.0",
            "_model_module": "@jupyter-widgets/controls"
          }
        },
        "233cf77b237c4e09a6e4969414e35546": {
          "model_module": "@jupyter-widgets/base",
          "model_name": "LayoutModel",
          "state": {
            "_view_name": "LayoutView",
            "grid_template_rows": null,
            "right": null,
            "justify_content": null,
            "_view_module": "@jupyter-widgets/base",
            "overflow": null,
            "_model_module_version": "1.2.0",
            "_view_count": null,
            "flex_flow": null,
            "width": null,
            "min_width": null,
            "border": null,
            "align_items": null,
            "bottom": null,
            "_model_module": "@jupyter-widgets/base",
            "top": null,
            "grid_column": null,
            "overflow_y": null,
            "overflow_x": null,
            "grid_auto_flow": null,
            "grid_area": null,
            "grid_template_columns": null,
            "flex": null,
            "_model_name": "LayoutModel",
            "justify_items": null,
            "grid_row": null,
            "max_height": null,
            "align_content": null,
            "visibility": null,
            "align_self": null,
            "height": null,
            "min_height": null,
            "padding": null,
            "grid_auto_rows": null,
            "grid_gap": null,
            "max_width": null,
            "order": null,
            "_view_module_version": "1.2.0",
            "grid_template_areas": null,
            "object_position": null,
            "object_fit": null,
            "grid_auto_columns": null,
            "margin": null,
            "display": null,
            "left": null
          }
        },
        "d58104de6d224c26b7b414f709f069cd": {
          "model_module": "@jupyter-widgets/controls",
          "model_name": "HBoxModel",
          "state": {
            "_view_name": "HBoxView",
            "_dom_classes": [],
            "_model_name": "HBoxModel",
            "_view_module": "@jupyter-widgets/controls",
            "_model_module_version": "1.5.0",
            "_view_count": null,
            "_view_module_version": "1.5.0",
            "box_style": "",
            "layout": "IPY_MODEL_98b9c7047d134a628c4c6a635d9e0985",
            "_model_module": "@jupyter-widgets/controls",
            "children": [
              "IPY_MODEL_9287451ede5141a6b207d55ac07608f5",
              "IPY_MODEL_6c6da79fdb8147099657f0f957713172"
            ]
          }
        },
        "98b9c7047d134a628c4c6a635d9e0985": {
          "model_module": "@jupyter-widgets/base",
          "model_name": "LayoutModel",
          "state": {
            "_view_name": "LayoutView",
            "grid_template_rows": null,
            "right": null,
            "justify_content": null,
            "_view_module": "@jupyter-widgets/base",
            "overflow": null,
            "_model_module_version": "1.2.0",
            "_view_count": null,
            "flex_flow": null,
            "width": null,
            "min_width": null,
            "border": null,
            "align_items": null,
            "bottom": null,
            "_model_module": "@jupyter-widgets/base",
            "top": null,
            "grid_column": null,
            "overflow_y": null,
            "overflow_x": null,
            "grid_auto_flow": null,
            "grid_area": null,
            "grid_template_columns": null,
            "flex": null,
            "_model_name": "LayoutModel",
            "justify_items": null,
            "grid_row": null,
            "max_height": null,
            "align_content": null,
            "visibility": null,
            "align_self": null,
            "height": null,
            "min_height": null,
            "padding": null,
            "grid_auto_rows": null,
            "grid_gap": null,
            "max_width": null,
            "order": null,
            "_view_module_version": "1.2.0",
            "grid_template_areas": null,
            "object_position": null,
            "object_fit": null,
            "grid_auto_columns": null,
            "margin": null,
            "display": null,
            "left": null
          }
        },
        "9287451ede5141a6b207d55ac07608f5": {
          "model_module": "@jupyter-widgets/controls",
          "model_name": "FloatProgressModel",
          "state": {
            "_view_name": "ProgressView",
            "style": "IPY_MODEL_5b07abed63fc4cfcace62321678143db",
            "_dom_classes": [],
            "description": "100%",
            "_model_name": "FloatProgressModel",
            "bar_style": "success",
            "max": 35548,
            "_view_module": "@jupyter-widgets/controls",
            "_model_module_version": "1.5.0",
            "value": 35548,
            "_view_count": null,
            "_view_module_version": "1.5.0",
            "orientation": "horizontal",
            "min": 0,
            "description_tooltip": null,
            "_model_module": "@jupyter-widgets/controls",
            "layout": "IPY_MODEL_a90e6a4f11584967aed3b6024814697f"
          }
        },
        "6c6da79fdb8147099657f0f957713172": {
          "model_module": "@jupyter-widgets/controls",
          "model_name": "HTMLModel",
          "state": {
            "_view_name": "HTMLView",
            "style": "IPY_MODEL_98a56d1d9ce64570ba02b357414eb649",
            "_dom_classes": [],
            "description": "",
            "_model_name": "HTMLModel",
            "placeholder": "​",
            "_view_module": "@jupyter-widgets/controls",
            "_model_module_version": "1.5.0",
            "value": " 35548/35548 [00:25&lt;00:00, 1417.00it/s]",
            "_view_count": null,
            "_view_module_version": "1.5.0",
            "description_tooltip": null,
            "_model_module": "@jupyter-widgets/controls",
            "layout": "IPY_MODEL_ea0785880fc4436ab7ccfde7c8e6a38a"
          }
        },
        "5b07abed63fc4cfcace62321678143db": {
          "model_module": "@jupyter-widgets/controls",
          "model_name": "ProgressStyleModel",
          "state": {
            "_view_name": "StyleView",
            "_model_name": "ProgressStyleModel",
            "description_width": "initial",
            "_view_module": "@jupyter-widgets/base",
            "_model_module_version": "1.5.0",
            "_view_count": null,
            "_view_module_version": "1.2.0",
            "bar_color": null,
            "_model_module": "@jupyter-widgets/controls"
          }
        },
        "a90e6a4f11584967aed3b6024814697f": {
          "model_module": "@jupyter-widgets/base",
          "model_name": "LayoutModel",
          "state": {
            "_view_name": "LayoutView",
            "grid_template_rows": null,
            "right": null,
            "justify_content": null,
            "_view_module": "@jupyter-widgets/base",
            "overflow": null,
            "_model_module_version": "1.2.0",
            "_view_count": null,
            "flex_flow": null,
            "width": null,
            "min_width": null,
            "border": null,
            "align_items": null,
            "bottom": null,
            "_model_module": "@jupyter-widgets/base",
            "top": null,
            "grid_column": null,
            "overflow_y": null,
            "overflow_x": null,
            "grid_auto_flow": null,
            "grid_area": null,
            "grid_template_columns": null,
            "flex": null,
            "_model_name": "LayoutModel",
            "justify_items": null,
            "grid_row": null,
            "max_height": null,
            "align_content": null,
            "visibility": null,
            "align_self": null,
            "height": null,
            "min_height": null,
            "padding": null,
            "grid_auto_rows": null,
            "grid_gap": null,
            "max_width": null,
            "order": null,
            "_view_module_version": "1.2.0",
            "grid_template_areas": null,
            "object_position": null,
            "object_fit": null,
            "grid_auto_columns": null,
            "margin": null,
            "display": null,
            "left": null
          }
        },
        "98a56d1d9ce64570ba02b357414eb649": {
          "model_module": "@jupyter-widgets/controls",
          "model_name": "DescriptionStyleModel",
          "state": {
            "_view_name": "StyleView",
            "_model_name": "DescriptionStyleModel",
            "description_width": "",
            "_view_module": "@jupyter-widgets/base",
            "_model_module_version": "1.5.0",
            "_view_count": null,
            "_view_module_version": "1.2.0",
            "_model_module": "@jupyter-widgets/controls"
          }
        },
        "ea0785880fc4436ab7ccfde7c8e6a38a": {
          "model_module": "@jupyter-widgets/base",
          "model_name": "LayoutModel",
          "state": {
            "_view_name": "LayoutView",
            "grid_template_rows": null,
            "right": null,
            "justify_content": null,
            "_view_module": "@jupyter-widgets/base",
            "overflow": null,
            "_model_module_version": "1.2.0",
            "_view_count": null,
            "flex_flow": null,
            "width": null,
            "min_width": null,
            "border": null,
            "align_items": null,
            "bottom": null,
            "_model_module": "@jupyter-widgets/base",
            "top": null,
            "grid_column": null,
            "overflow_y": null,
            "overflow_x": null,
            "grid_auto_flow": null,
            "grid_area": null,
            "grid_template_columns": null,
            "flex": null,
            "_model_name": "LayoutModel",
            "justify_items": null,
            "grid_row": null,
            "max_height": null,
            "align_content": null,
            "visibility": null,
            "align_self": null,
            "height": null,
            "min_height": null,
            "padding": null,
            "grid_auto_rows": null,
            "grid_gap": null,
            "max_width": null,
            "order": null,
            "_view_module_version": "1.2.0",
            "grid_template_areas": null,
            "object_position": null,
            "object_fit": null,
            "grid_auto_columns": null,
            "margin": null,
            "display": null,
            "left": null
          }
        }
      }
    }
  },
  "cells": [
    {
      "cell_type": "markdown",
      "metadata": {
        "id": "rRWtzchwAYF5"
      },
      "source": [
        "# Введение в обработку естественного языка\n",
        "## Курсовой проект"
      ]
    },
    {
      "cell_type": "markdown",
      "metadata": {
        "id": "BPx9qUHhrsoa"
      },
      "source": [
        "**Установим необходимые библиотеки**"
      ]
    },
    {
      "cell_type": "code",
      "metadata": {
        "colab": {
          "base_uri": "https://localhost:8080/"
        },
        "id": "tT3Q9q2c_rDY",
        "outputId": "be12b718-b8bd-49d0-bc5b-00636729fe3a"
      },
      "source": [
        "!pip install python-telegram-bot --upgrade"
      ],
      "execution_count": 1,
      "outputs": [
        {
          "output_type": "stream",
          "text": [
            "Collecting python-telegram-bot\n",
            "\u001b[?25l  Downloading https://files.pythonhosted.org/packages/cc/b3/f363e9c5c2e4690a1fd352c01263eb2938952888c09d73c824b49d288dcc/python_telegram_bot-13.1-py3-none-any.whl (422kB)\n",
            "\u001b[K     |████████████████████████████████| 430kB 7.2MB/s \n",
            "\u001b[?25hCollecting APScheduler==3.6.3\n",
            "\u001b[?25l  Downloading https://files.pythonhosted.org/packages/f3/34/9ef20ed473c4fd2c3df54ef77a27ae3fc7500b16b192add4720cab8b2c09/APScheduler-3.6.3-py2.py3-none-any.whl (58kB)\n",
            "\u001b[K     |████████████████████████████████| 61kB 9.3MB/s \n",
            "\u001b[?25hRequirement already satisfied, skipping upgrade: pytz>=2018.6 in /usr/local/lib/python3.6/dist-packages (from python-telegram-bot) (2018.9)\n",
            "Requirement already satisfied, skipping upgrade: certifi in /usr/local/lib/python3.6/dist-packages (from python-telegram-bot) (2020.11.8)\n",
            "Requirement already satisfied, skipping upgrade: tornado>=5.1 in /usr/local/lib/python3.6/dist-packages (from python-telegram-bot) (5.1.1)\n",
            "Requirement already satisfied, skipping upgrade: decorator>=4.4.0 in /usr/local/lib/python3.6/dist-packages (from python-telegram-bot) (4.4.2)\n",
            "Collecting cryptography\n",
            "\u001b[?25l  Downloading https://files.pythonhosted.org/packages/4c/a2/6565c5271a79e3c96d7a079053b4d8408a740d4bf365f0f5f244a807bd09/cryptography-3.2.1-cp35-abi3-manylinux2010_x86_64.whl (2.6MB)\n",
            "\u001b[K     |████████████████████████████████| 2.6MB 39.6MB/s \n",
            "\u001b[?25hRequirement already satisfied, skipping upgrade: setuptools>=0.7 in /usr/local/lib/python3.6/dist-packages (from APScheduler==3.6.3->python-telegram-bot) (50.3.2)\n",
            "Requirement already satisfied, skipping upgrade: six>=1.4.0 in /usr/local/lib/python3.6/dist-packages (from APScheduler==3.6.3->python-telegram-bot) (1.15.0)\n",
            "Requirement already satisfied, skipping upgrade: tzlocal>=1.2 in /usr/local/lib/python3.6/dist-packages (from APScheduler==3.6.3->python-telegram-bot) (1.5.1)\n",
            "Requirement already satisfied, skipping upgrade: cffi!=1.11.3,>=1.8 in /usr/local/lib/python3.6/dist-packages (from cryptography->python-telegram-bot) (1.14.3)\n",
            "Requirement already satisfied, skipping upgrade: pycparser in /usr/local/lib/python3.6/dist-packages (from cffi!=1.11.3,>=1.8->cryptography->python-telegram-bot) (2.20)\n",
            "Installing collected packages: APScheduler, cryptography, python-telegram-bot\n",
            "Successfully installed APScheduler-3.6.3 cryptography-3.2.1 python-telegram-bot-13.1\n"
          ],
          "name": "stdout"
        }
      ]
    },
    {
      "cell_type": "code",
      "metadata": {
        "colab": {
          "base_uri": "https://localhost:8080/"
        },
        "id": "dFXbctMKAIe8",
        "outputId": "635ee11f-0b34-4a4f-c9b5-24b029e6fb1c"
      },
      "source": [
        "!pip install pymorphy2"
      ],
      "execution_count": 2,
      "outputs": [
        {
          "output_type": "stream",
          "text": [
            "Collecting pymorphy2\n",
            "\u001b[?25l  Downloading https://files.pythonhosted.org/packages/07/57/b2ff2fae3376d4f3c697b9886b64a54b476e1a332c67eee9f88e7f1ae8c9/pymorphy2-0.9.1-py3-none-any.whl (55kB)\n",
            "\u001b[K     |████████████████████████████████| 61kB 3.9MB/s \n",
            "\u001b[?25hCollecting pymorphy2-dicts-ru<3.0,>=2.4\n",
            "\u001b[?25l  Downloading https://files.pythonhosted.org/packages/3a/79/bea0021eeb7eeefde22ef9e96badf174068a2dd20264b9a378f2be1cdd9e/pymorphy2_dicts_ru-2.4.417127.4579844-py2.py3-none-any.whl (8.2MB)\n",
            "\u001b[K     |████████████████████████████████| 8.2MB 8.3MB/s \n",
            "\u001b[?25hRequirement already satisfied: docopt>=0.6 in /usr/local/lib/python3.6/dist-packages (from pymorphy2) (0.6.2)\n",
            "Collecting dawg-python>=0.7.1\n",
            "  Downloading https://files.pythonhosted.org/packages/6a/84/ff1ce2071d4c650ec85745766c0047ccc3b5036f1d03559fd46bb38b5eeb/DAWG_Python-0.7.2-py2.py3-none-any.whl\n",
            "Installing collected packages: pymorphy2-dicts-ru, dawg-python, pymorphy2\n",
            "Successfully installed dawg-python-0.7.2 pymorphy2-0.9.1 pymorphy2-dicts-ru-2.4.417127.4579844\n"
          ],
          "name": "stdout"
        }
      ]
    },
    {
      "cell_type": "code",
      "metadata": {
        "colab": {
          "base_uri": "https://localhost:8080/"
        },
        "id": "o6zjmHbNAN2h",
        "outputId": "eb733ad8-1ddb-4f8f-e95d-48de60b67bbe"
      },
      "source": [
        "!pip install stop_words"
      ],
      "execution_count": 3,
      "outputs": [
        {
          "output_type": "stream",
          "text": [
            "Collecting stop_words\n",
            "  Downloading https://files.pythonhosted.org/packages/1c/cb/d58290804b7a4c5daa42abbbe2a93c477ae53e45541b1825e86f0dfaaf63/stop-words-2018.7.23.tar.gz\n",
            "Building wheels for collected packages: stop-words\n",
            "  Building wheel for stop-words (setup.py) ... \u001b[?25l\u001b[?25hdone\n",
            "  Created wheel for stop-words: filename=stop_words-2018.7.23-cp36-none-any.whl size=32916 sha256=b9dd669b08b143769d849686fdd2f30e294db31783368832c38e55013b1afcb5\n",
            "  Stored in directory: /root/.cache/pip/wheels/75/37/6a/2b295e03bd07290f0da95c3adb9a74ba95fbc333aa8b0c7c78\n",
            "Successfully built stop-words\n",
            "Installing collected packages: stop-words\n",
            "Successfully installed stop-words-2018.7.23\n"
          ],
          "name": "stdout"
        }
      ]
    },
    {
      "cell_type": "code",
      "metadata": {
        "colab": {
          "base_uri": "https://localhost:8080/"
        },
        "id": "gkGIpyDmASMS",
        "outputId": "73a51462-f1b8-4a4f-e4a1-2d1454210811"
      },
      "source": [
        "!pip install annoy"
      ],
      "execution_count": 4,
      "outputs": [
        {
          "output_type": "stream",
          "text": [
            "Collecting annoy\n",
            "\u001b[?25l  Downloading https://files.pythonhosted.org/packages/a1/5b/1c22129f608b3f438713b91cd880dc681d747a860afe3e8e0af86e921942/annoy-1.17.0.tar.gz (646kB)\n",
            "\u001b[K     |████████████████████████████████| 655kB 5.1MB/s \n",
            "\u001b[?25hBuilding wheels for collected packages: annoy\n",
            "  Building wheel for annoy (setup.py) ... \u001b[?25l\u001b[?25hdone\n",
            "  Created wheel for annoy: filename=annoy-1.17.0-cp36-cp36m-linux_x86_64.whl size=390358 sha256=19154639fcff88438e26022c2253971ce55b7c7cfec74a85e621c79af7dc9d5c\n",
            "  Stored in directory: /root/.cache/pip/wheels/3a/c5/59/cce7e67b52c8e987389e53f917b6bb2a9d904a03246fadcb1e\n",
            "Successfully built annoy\n",
            "Installing collected packages: annoy\n",
            "Successfully installed annoy-1.17.0\n"
          ],
          "name": "stdout"
        }
      ]
    },
    {
      "cell_type": "markdown",
      "metadata": {
        "id": "4Tmw5m3SryxZ"
      },
      "source": [
        "**Подключим необходимые библиотеки к проекту**"
      ]
    },
    {
      "cell_type": "code",
      "metadata": {
        "id": "MjDKhGHk_Pxw"
      },
      "source": [
        "import numpy as np\n",
        "import pandas as pd\n",
        "\n",
        "import os\n",
        "import annoy\n",
        "import pickle\n",
        "import string\n",
        "\n",
        "from tqdm.notebook import tqdm_notebook\n",
        "from pymorphy2 import MorphAnalyzer\n",
        "from stop_words import get_stop_words\n",
        "from gensim.models import Word2Vec, FastText\n",
        "\n",
        "from sklearn.metrics import accuracy_score\n",
        "from sklearn.linear_model import LogisticRegression\n",
        "from sklearn.model_selection import train_test_split\n",
        "from sklearn.feature_extraction.text import CountVectorizer, TfidfVectorizer\n",
        "\n",
        "from telegram.ext  import Updater, CommandHandler, MessageHandler, Filters"
      ],
      "execution_count": 5,
      "outputs": []
    },
    {
      "cell_type": "markdown",
      "metadata": {
        "id": "KiIS7l0sskqy"
      },
      "source": [
        "**Подключим Гугл драйв**"
      ]
    },
    {
      "cell_type": "code",
      "metadata": {
        "colab": {
          "base_uri": "https://localhost:8080/"
        },
        "id": "0RszFr65A94w",
        "outputId": "f5847c57-24e3-4177-ec8d-faeafd8d3187"
      },
      "source": [
        "from google.colab import drive\n",
        "drive.mount('/content/drive')"
      ],
      "execution_count": 6,
      "outputs": [
        {
          "output_type": "stream",
          "text": [
            "Mounted at /content/drive\n"
          ],
          "name": "stdout"
        }
      ]
    },
    {
      "cell_type": "markdown",
      "metadata": {
        "id": "FzVBY81_spfU"
      },
      "source": [
        "**Укажем актуальные пути к файлам**"
      ]
    },
    {
      "cell_type": "code",
      "metadata": {
        "id": "b9E4D8Yv_Yv0"
      },
      "source": [
        "products_dataset = pd.read_csv(\"/content/drive/My Drive/Colab Notebooks/ProductsDataset.csv\")\n",
        "input_file = \"/content/drive/My Drive/Colab Notebooks/Otvety.txt\"\n",
        "output_file = \"/content/drive/My Drive/Colab Notebooks/prepared_answers.txt\""
      ],
      "execution_count": 7,
      "outputs": []
    },
    {
      "cell_type": "markdown",
      "metadata": {
        "id": "q-HIxu10t5ZP"
      },
      "source": [
        "**Создадим полезные функции**"
      ]
    },
    {
      "cell_type": "code",
      "metadata": {
        "id": "nA78SmfxBLlG"
      },
      "source": [
        "def preprocess_txt(line):\n",
        "    \"\"\"Строковый препроцессинг текстовой строки\"\"\"\n",
        "    spls = \"\".join(i for i in line.strip() if i not in exclude).split()\n",
        "    spls = [morpher.parse(i.lower())[0].normal_form for i in spls]\n",
        "    spls = [i for i in spls if i not in sw and i != \"\"]\n",
        "    return spls"
      ],
      "execution_count": 8,
      "outputs": []
    },
    {
      "cell_type": "code",
      "metadata": {
        "id": "8rTky4CguCYW"
      },
      "source": [
        "def embed_txt(txt, idfs, midf):\n",
        "    n_ft = 0\n",
        "    vector_ft = np.zeros(100)\n",
        "    for word in txt:\n",
        "        if word in modelFT:\n",
        "            vector_ft += modelFT[word] * idfs.get(word, midf)\n",
        "            n_ft += idfs.get(word, midf)\n",
        "    return vector_ft / n_ft"
      ],
      "execution_count": 9,
      "outputs": []
    },
    {
      "cell_type": "markdown",
      "metadata": {
        "id": "HrhkYUjEuOe4"
      },
      "source": [
        "**Основная часть**"
      ]
    },
    {
      "cell_type": "code",
      "metadata": {
        "colab": {
          "base_uri": "https://localhost:8080/",
          "height": 66,
          "referenced_widgets": [
            "80849f6ab5ca459cb3a7fee9e48d3f86",
            "7436e61d5a5641fd8ec731e33aa16c8c",
            "faafc26f91bf463aada7524ce22922dc",
            "a0b14207d2ac4859b8d728142810a850",
            "e813263581f54ec99d1639fd967544a9",
            "5e9a49ca8a2d4f93be0d8387d4510b11",
            "2c5cb473137147c18bd369e6c62ca9b6",
            "a86772c9dc464094b669824231981c6c"
          ]
        },
        "id": "s9vMqPtZBIQo",
        "outputId": "17a866db-b846-4b94-f4a8-eab2611df402"
      },
      "source": [
        "assert True\n",
        "\n",
        "#Small preprocess of the answers\n",
        "\n",
        "question = None\n",
        "written = False\n",
        "\n",
        "with open(output_file, \"w\", encoding=\"utf8\") as fout:\n",
        "    with open(input_file, \"r\", encoding=\"utf8\") as fin:\n",
        "        for line in tqdm_notebook(fin):\n",
        "            if line.startswith(\"---\"):\n",
        "                written = False\n",
        "                continue\n",
        "            if not written and question is not None:\n",
        "                fout.write(question.replace(\"\\t\", \" \").strip() + \"\\t\" + line.replace(\"\\t\", \" \"))\n",
        "                written = True\n",
        "                question = None\n",
        "                continue\n",
        "            if not written:\n",
        "                question = line.strip()\n",
        "                continue"
      ],
      "execution_count": 10,
      "outputs": [
        {
          "output_type": "display_data",
          "data": {
            "application/vnd.jupyter.widget-view+json": {
              "model_id": "80849f6ab5ca459cb3a7fee9e48d3f86",
              "version_minor": 0,
              "version_major": 2
            },
            "text/plain": [
              "HBox(children=(FloatProgress(value=1.0, bar_style='info', max=1.0), HTML(value='')))"
            ]
          },
          "metadata": {
            "tags": []
          }
        },
        {
          "output_type": "stream",
          "text": [
            "\n"
          ],
          "name": "stdout"
        }
      ]
    },
    {
      "cell_type": "code",
      "metadata": {
        "colab": {
          "base_uri": "https://localhost:8080/",
          "height": 83,
          "referenced_widgets": [
            "081c16bbf1c54b02beaea2e620a39244",
            "453810d9ffdd464eb139c0bc4be7c6ec",
            "c4935d19e53f4819a6265ad97537e0c4",
            "ffdadbcb5fa74cdc88af64a0fa58e6b1",
            "c511db64cf9344d198faeca69ee9c197",
            "12cd5cb6a357474c933bc60e9efc9d74",
            "c007a6656fc24b0ba4979b1d8f3f68f6",
            "3568426abed04a309a431ce3a5cb9055"
          ]
        },
        "id": "p5XSaxiSBRUe",
        "outputId": "d2b724af-15cb-4a48-ad80-9ea2b3dfcc13"
      },
      "source": [
        "%%time\n",
        "\n",
        "assert True\n",
        "\n",
        "# Preprocess for models fitting\n",
        "\n",
        "sentences = []\n",
        "\n",
        "morpher = MorphAnalyzer()\n",
        "sw = set(get_stop_words(\"ru\"))\n",
        "exclude = set(string.punctuation)\n",
        "c = 0\n",
        "\n",
        "with open(input_file, \"r\", encoding=\"utf8\") as fin:\n",
        "    for line in tqdm_notebook(fin):\n",
        "        spls = preprocess_txt(line)\n",
        "        sentences.append(spls)\n",
        "        c += 1\n",
        "        if c > 500000:\n",
        "            break"
      ],
      "execution_count": 11,
      "outputs": [
        {
          "output_type": "display_data",
          "data": {
            "application/vnd.jupyter.widget-view+json": {
              "model_id": "081c16bbf1c54b02beaea2e620a39244",
              "version_minor": 0,
              "version_major": 2
            },
            "text/plain": [
              "HBox(children=(FloatProgress(value=1.0, bar_style='info', max=1.0), HTML(value='')))"
            ]
          },
          "metadata": {
            "tags": []
          }
        },
        {
          "output_type": "stream",
          "text": [
            "CPU times: user 37min 28s, sys: 13.9 s, total: 37min 42s\n",
            "Wall time: 37min 46s\n"
          ],
          "name": "stdout"
        }
      ]
    },
    {
      "cell_type": "code",
      "metadata": {
        "id": "x9mKtmeEBSTe"
      },
      "source": [
        "sentences = [i for i in sentences if len(i) > 2]\n",
        "modelFT = FastText(sentences=sentences, size=100, min_count=1, window=5)\n",
        "modelFT.save(\"ft_model\")"
      ],
      "execution_count": 12,
      "outputs": []
    },
    {
      "cell_type": "code",
      "metadata": {
        "colab": {
          "base_uri": "https://localhost:8080/",
          "height": 171,
          "referenced_widgets": [
            "0f3b1ac39e7b46cf8189187e5f13ff6e",
            "8b8010568ddd48d28736bc6583309299",
            "e6eaefb708174ee8b911967f71404487",
            "7917f08c6654460483568aeb4ddb8ee3",
            "516a4a436ce04908a2ae4225eb18b9c7",
            "514a2cf2f4c84967900ddb42d8f18104",
            "94e292166a6d41cda6ad86b970ce4e2c",
            "233cf77b237c4e09a6e4969414e35546"
          ]
        },
        "id": "4cTS6BHmBXAO",
        "outputId": "8a355329-0d2c-458e-a6be-c5a1da9bae45"
      },
      "source": [
        "%%time\n",
        "\n",
        "modelFT = FastText.load(\"ft_model\")\n",
        "ft_index = annoy.AnnoyIndex(100 ,'angular')\n",
        "\n",
        "index_map = {}\n",
        "counter = 0\n",
        "\n",
        "with open(output_file, \"r\", encoding=\"utf8\") as f:\n",
        "    for line in tqdm_notebook(f):\n",
        "        n_ft = 0\n",
        "        spls = line.split(\"\\t\")\n",
        "        index_map[counter] = spls[1]\n",
        "        question = preprocess_txt(spls[0])\n",
        "        vector_ft = np.zeros(100)\n",
        "        for word in question:\n",
        "            if word in modelFT:\n",
        "                vector_ft += modelFT[word]\n",
        "                n_ft += 1\n",
        "        if n_ft > 0:\n",
        "            vector_ft = vector_ft / n_ft\n",
        "        ft_index.add_item(counter, vector_ft)\n",
        "            \n",
        "        counter += 1\n",
        "\n",
        "ft_index.build(10)\n",
        "ft_index.save('speaker.ann')"
      ],
      "execution_count": 13,
      "outputs": [
        {
          "output_type": "display_data",
          "data": {
            "application/vnd.jupyter.widget-view+json": {
              "model_id": "0f3b1ac39e7b46cf8189187e5f13ff6e",
              "version_minor": 0,
              "version_major": 2
            },
            "text/plain": [
              "HBox(children=(FloatProgress(value=1.0, bar_style='info', max=1.0), HTML(value='')))"
            ]
          },
          "metadata": {
            "tags": []
          }
        },
        {
          "output_type": "stream",
          "text": [
            "/usr/local/lib/python3.6/dist-packages/ipykernel_launcher.py:16: DeprecationWarning: Call to deprecated `__contains__` (Method will be removed in 4.0.0, use self.wv.__contains__() instead).\n",
            "  app.launch_new_instance()\n",
            "/usr/local/lib/python3.6/dist-packages/ipykernel_launcher.py:17: DeprecationWarning: Call to deprecated `__getitem__` (Method will be removed in 4.0.0, use self.wv.__getitem__() instead).\n"
          ],
          "name": "stderr"
        },
        {
          "output_type": "stream",
          "text": [
            "\n",
            "CPU times: user 1h 32min 56s, sys: 53.6 s, total: 1h 33min 50s\n",
            "Wall time: 1h 32min 50s\n"
          ],
          "name": "stdout"
        }
      ]
    },
    {
      "cell_type": "code",
      "metadata": {
        "colab": {
          "base_uri": "https://localhost:8080/"
        },
        "id": "rlFpBjnjBfce",
        "outputId": "f9af8bbf-a5d3-485d-c201-3db16655d796"
      },
      "source": [
        "ft_index = annoy.AnnoyIndex(100, 'angular')\n",
        "ft_index.load('speaker.ann')"
      ],
      "execution_count": 14,
      "outputs": [
        {
          "output_type": "execute_result",
          "data": {
            "text/plain": [
              "True"
            ]
          },
          "metadata": {
            "tags": []
          },
          "execution_count": 14
        }
      ]
    },
    {
      "cell_type": "code",
      "metadata": {
        "colab": {
          "base_uri": "https://localhost:8080/"
        },
        "id": "W1U4ZJv3Bjcd",
        "outputId": "ca0bc083-6ac4-4276-8d44-825bdf7f44ea"
      },
      "source": [
        "ft_index.get_nns_by_vector(np.zeros(100), 2)"
      ],
      "execution_count": 15,
      "outputs": [
        {
          "output_type": "execute_result",
          "data": {
            "text/plain": [
              "[2111, 2866]"
            ]
          },
          "metadata": {
            "tags": []
          },
          "execution_count": 15
        }
      ]
    },
    {
      "cell_type": "code",
      "metadata": {
        "colab": {
          "base_uri": "https://localhost:8080/",
          "height": 479
        },
        "id": "0LW-s2dyBlGq",
        "outputId": "7720d20c-087f-421b-f6c3-3bbbf238d21c"
      },
      "source": [
        "products_dataset['text'] = products_dataset['title'] + \" \" + products_dataset[\"descrirption\"]\n",
        "products_dataset['text'] = products_dataset['text'].apply(lambda x: preprocess_txt(str(x)))\n",
        "products_dataset.head()"
      ],
      "execution_count": 16,
      "outputs": [
        {
          "output_type": "execute_result",
          "data": {
            "text/html": [
              "<div>\n",
              "<style scoped>\n",
              "    .dataframe tbody tr th:only-of-type {\n",
              "        vertical-align: middle;\n",
              "    }\n",
              "\n",
              "    .dataframe tbody tr th {\n",
              "        vertical-align: top;\n",
              "    }\n",
              "\n",
              "    .dataframe thead th {\n",
              "        text-align: right;\n",
              "    }\n",
              "</style>\n",
              "<table border=\"1\" class=\"dataframe\">\n",
              "  <thead>\n",
              "    <tr style=\"text-align: right;\">\n",
              "      <th></th>\n",
              "      <th>title</th>\n",
              "      <th>descrirption</th>\n",
              "      <th>product_id</th>\n",
              "      <th>category_id</th>\n",
              "      <th>subcategory_id</th>\n",
              "      <th>properties</th>\n",
              "      <th>image_links</th>\n",
              "      <th>text</th>\n",
              "    </tr>\n",
              "  </thead>\n",
              "  <tbody>\n",
              "    <tr>\n",
              "      <th>0</th>\n",
              "      <td>Юбка детская ORBY</td>\n",
              "      <td>Новая, не носили ни разу. В реале красивей чем...</td>\n",
              "      <td>58e3cfe6132ca50e053f5f82</td>\n",
              "      <td>22.0</td>\n",
              "      <td>2211</td>\n",
              "      <td>{'detskie_razmer_rost': '81-86 (1,5 года)'}</td>\n",
              "      <td>http://cache3.youla.io/files/images/360_360/58...</td>\n",
              "      <td>[юбка, детский, orby, новый, носить, реал, кра...</td>\n",
              "    </tr>\n",
              "    <tr>\n",
              "      <th>1</th>\n",
              "      <td>Ботильоны</td>\n",
              "      <td>Новые,привезены из Чехии ,указан размер 40,но ...</td>\n",
              "      <td>5667531b2b7f8d127d838c34</td>\n",
              "      <td>9.0</td>\n",
              "      <td>902</td>\n",
              "      <td>{'zhenskaya_odezhda_tzvet': 'Зеленый', 'visota...</td>\n",
              "      <td>http://cache3.youla.io/files/images/360_360/5b...</td>\n",
              "      <td>[ботильон, новыепривезти, чехия, указать, разм...</td>\n",
              "    </tr>\n",
              "    <tr>\n",
              "      <th>2</th>\n",
              "      <td>Брюки</td>\n",
              "      <td>Размер 40-42. Брюки почти новые - не знаю как ...</td>\n",
              "      <td>59534826aaab284cba337e06</td>\n",
              "      <td>9.0</td>\n",
              "      <td>906</td>\n",
              "      <td>{'zhenskaya_odezhda_dzhinsy_bryuki_tip': 'Брюк...</td>\n",
              "      <td>http://cache3.youla.io/files/images/360_360/59...</td>\n",
              "      <td>[брюки, размер, 4042, брюки, новый, знать, мер...</td>\n",
              "    </tr>\n",
              "    <tr>\n",
              "      <th>3</th>\n",
              "      <td>Продам детские шапки</td>\n",
              "      <td>Продам шапки,кажда 200р.Розовая и белая проданны.</td>\n",
              "      <td>57de544096ad842e26de8027</td>\n",
              "      <td>22.0</td>\n",
              "      <td>2217</td>\n",
              "      <td>{'detskie_pol': 'Девочкам', 'detskaya_odezhda_...</td>\n",
              "      <td>http://cache3.youla.io/files/images/360_360/57...</td>\n",
              "      <td>[продать, детский, шапка, продать, шапкикажда,...</td>\n",
              "    </tr>\n",
              "    <tr>\n",
              "      <th>4</th>\n",
              "      <td>Блузка</td>\n",
              "      <td>Темно-синяя, 42 размер,состояние отличное,как ...</td>\n",
              "      <td>5ad4d2626c86cb168d212022</td>\n",
              "      <td>9.0</td>\n",
              "      <td>907</td>\n",
              "      <td>{'zhenskaya_odezhda_tzvet': 'Синий', 'zhenskay...</td>\n",
              "      <td>http://cache3.youla.io/files/images/360_360/5a...</td>\n",
              "      <td>[блузка, темносиний, 42, размерсостояние, отли...</td>\n",
              "    </tr>\n",
              "  </tbody>\n",
              "</table>\n",
              "</div>"
            ],
            "text/plain": [
              "                  title  ...                                               text\n",
              "0     Юбка детская ORBY  ...  [юбка, детский, orby, новый, носить, реал, кра...\n",
              "1             Ботильоны  ...  [ботильон, новыепривезти, чехия, указать, разм...\n",
              "2                 Брюки  ...  [брюки, размер, 4042, брюки, новый, знать, мер...\n",
              "3  Продам детские шапки  ...  [продать, детский, шапка, продать, шапкикажда,...\n",
              "4                Блузка  ...  [блузка, темносиний, 42, размерсостояние, отли...\n",
              "\n",
              "[5 rows x 8 columns]"
            ]
          },
          "metadata": {
            "tags": []
          },
          "execution_count": 16
        }
      ]
    },
    {
      "cell_type": "code",
      "metadata": {
        "id": "IzqzRGRjBniW"
      },
      "source": [
        "vectorizer = CountVectorizer(ngram_range=(1, 2))"
      ],
      "execution_count": 17,
      "outputs": []
    },
    {
      "cell_type": "code",
      "metadata": {
        "id": "rXkvwtviBqcw"
      },
      "source": [
        "idxs = set(np.random.randint(0, len(index_map), len(products_dataset)))\n",
        "negative_texts = [\" \".join(preprocess_txt(index_map[i])) for i in idxs]\n",
        "positive_texts = [\" \".join(val) for val in products_dataset['text'].values]"
      ],
      "execution_count": 18,
      "outputs": []
    },
    {
      "cell_type": "code",
      "metadata": {
        "id": "4oZ9ozxKBsvl"
      },
      "source": [
        "dataset = negative_texts + positive_texts\n",
        "labels = np.zeros(len(dataset))\n",
        "labels[len(negative_texts):] = np.ones(len(positive_texts))"
      ],
      "execution_count": 19,
      "outputs": []
    },
    {
      "cell_type": "code",
      "metadata": {
        "id": "UHYPDP1ZBwCX"
      },
      "source": [
        "X_train, X_test, y_train, y_test = train_test_split(dataset, labels, test_size=0.2, \n",
        "                                                    stratify=labels, random_state=13)"
      ],
      "execution_count": 20,
      "outputs": []
    },
    {
      "cell_type": "code",
      "metadata": {
        "id": "NFcqDMdLByEH"
      },
      "source": [
        "x_train_vec = vectorizer.fit_transform(X_train)\n",
        "x_test_vec = vectorizer.transform(X_test)\n",
        "\n",
        "lr = LogisticRegression().fit(x_train_vec, y_train)"
      ],
      "execution_count": 21,
      "outputs": []
    },
    {
      "cell_type": "code",
      "metadata": {
        "colab": {
          "base_uri": "https://localhost:8080/"
        },
        "id": "U1vm6a7pBz2T",
        "outputId": "e44aa692-1981-4a26-af18-c0baa3ef545c"
      },
      "source": [
        "accuracy_score(y_true=y_test, y_pred=lr.predict(x_test_vec))"
      ],
      "execution_count": 22,
      "outputs": [
        {
          "output_type": "execute_result",
          "data": {
            "text/plain": [
              "0.9812951679183789"
            ]
          },
          "metadata": {
            "tags": []
          },
          "execution_count": 22
        }
      ]
    },
    {
      "cell_type": "code",
      "metadata": {
        "id": "1Ra6ts8yB1_8"
      },
      "source": [
        "assert True\n",
        "\n",
        "with open(\"/content/drive/My Drive/Colab Notebooks/index_speaker.pkl\", \"wb\") as f:\n",
        "    pickle.dump(index_map, f)"
      ],
      "execution_count": 23,
      "outputs": []
    },
    {
      "cell_type": "code",
      "metadata": {
        "id": "Wi5I1-8sB4Hc"
      },
      "source": [
        "tfidf_vect = TfidfVectorizer().fit(X_train)"
      ],
      "execution_count": 24,
      "outputs": []
    },
    {
      "cell_type": "code",
      "metadata": {
        "colab": {
          "base_uri": "https://localhost:8080/"
        },
        "id": "eT6XnIP7B67L",
        "outputId": "ce8c761c-1e64-45d9-c635-a579b8cd7136"
      },
      "source": [
        "np.mean(tfidf_vect.idf_)"
      ],
      "execution_count": 25,
      "outputs": [
        {
          "output_type": "execute_result",
          "data": {
            "text/plain": [
              "10.920510524741648"
            ]
          },
          "metadata": {
            "tags": []
          },
          "execution_count": 25
        }
      ]
    },
    {
      "cell_type": "code",
      "metadata": {
        "colab": {
          "base_uri": "https://localhost:8080/"
        },
        "id": "e7q8jlVNB8vL",
        "outputId": "cd1ef879-af78-4f8b-b3e2-38d2cea5f51b"
      },
      "source": [
        "idfs = {v[0]: v[1] for v in zip(tfidf_vect.vocabulary_, tfidf_vect.idf_)}\n",
        "idfs"
      ],
      "execution_count": 26,
      "outputs": [
        {
          "output_type": "execute_result",
          "data": {
            "text/plain": [
              "{'девочка': 9.543339292634592,\n",
              " 'нравиться': 6.957627943724626,\n",
              " 'самый': 9.995324416377649,\n",
              " 'написать': 11.248087384873017,\n",
              " 'десятка': 10.842622276764853,\n",
              " 'письмо': 11.248087384873017,\n",
              " 'служба': 11.248087384873017,\n",
              " 'поддержка': 11.248087384873017,\n",
              " 'удаться': 11.248087384873017,\n",
              " 'выпытать': 10.842622276764853,\n",
              " 'ответ': 11.248087384873017,\n",
              " 'поменять': 10.331796652998863,\n",
              " 'пароль': 11.248087384873017,\n",
              " 'выслать': 11.248087384873017,\n",
              " 'почтовый': 11.248087384873017,\n",
              " 'ящик': 11.248087384873017,\n",
              " 'порекомендовать': 11.248087384873017,\n",
              " 'сменить': 10.842622276764853,\n",
              " 'проц': 11.248087384873017,\n",
              " 'двухъядерный': 11.248087384873017,\n",
              " 'торрент': 11.248087384873017,\n",
              " 'искать': 11.248087384873017,\n",
              " 'сыворотка': 11.248087384873017,\n",
              " 'лицо': 10.842622276764853,\n",
              " 'гиалуроновый': 11.248087384873017,\n",
              " 'кислота': 10.842622276764853,\n",
              " 'обеспечивать': 11.248087384873017,\n",
              " 'увлажнение': 10.554940204313072,\n",
              " 'кожа': 11.248087384873017,\n",
              " 'течение': 11.248087384873017,\n",
              " 'час': 11.248087384873017,\n",
              " 'благодаря': 11.248087384873017,\n",
              " 'оптимальный': 11.248087384873017,\n",
              " 'содержание': 11.248087384873017,\n",
              " 'гиалуронов': 11.248087384873017,\n",
              " 'обладать': 11.248087384873017,\n",
              " 'противовоспалительный': 11.248087384873017,\n",
              " 'ранозаживляющий': 11.248087384873017,\n",
              " 'действие': 11.248087384873017,\n",
              " 'участвовать': 11.248087384873017,\n",
              " 'процесс': 11.248087384873017,\n",
              " 'рост': 11.248087384873017,\n",
              " 'регенерация': 11.248087384873017,\n",
              " 'ткань': 11.248087384873017,\n",
              " 'улучшать': 9.995324416377649,\n",
              " 'проницаемость': 11.248087384873017,\n",
              " 'клеточный': 10.842622276764853,\n",
              " 'мембрана': 11.248087384873017,\n",
              " 'нормальный': 10.842622276764853,\n",
              " 'функционирование': 11.248087384873017,\n",
              " 'клетка': 11.248087384873017,\n",
              " 'препарат': 10.554940204313072,\n",
              " 'успокаивать': 11.248087384873017,\n",
              " 'вызывать': 11.248087384873017,\n",
              " 'раздражение': 11.248087384873017,\n",
              " 'поэтому': 11.248087384873017,\n",
              " 'рекомендоваться': 11.248087384873017,\n",
              " 'использовать': 11.248087384873017,\n",
              " 'процедура': 11.248087384873017,\n",
              " 'фруктовый': 11.248087384873017,\n",
              " 'ретином': 11.248087384873017,\n",
              " '5brдиагональ': 11.248087384873017,\n",
              " 'куба': 11.248087384873017,\n",
              " 'daкорень3brаdкорень3brs6a26d232d2': 11.248087384873017,\n",
              " 'аbr6brs2аввсас258810510340': 10.842622276764853,\n",
              " 'гbr7brs2a2корень343ab': 11.248087384873017,\n",
              " 'бbrp': 11.248087384873017,\n",
              " 'комплект': 11.248087384873017,\n",
              " 'продать': 11.248087384873017,\n",
              " 'отдельность': 10.554940204313072,\n",
              " 'серьга': 11.248087384873017,\n",
              " 'воротник': 11.248087384873017,\n",
              " 'смотреться': 11.248087384873017,\n",
              " 'красиво': 11.248087384873017,\n",
              " 'пуховик': 11.248087384873017,\n",
              " 'зимний': 10.149475096204908,\n",
              " 'ostin': 11.248087384873017,\n",
              " 'наполнитель': 11.248087384873017,\n",
              " 'натуральный': 11.248087384873017,\n",
              " 'пухперо': 11.248087384873017,\n",
              " 'размер': 10.842622276764853,\n",
              " 'xs': 11.248087384873017,\n",
              " 'российский': 11.248087384873017,\n",
              " '42': 11.248087384873017,\n",
              " 'шуба': 10.842622276764853,\n",
              " 'мутон': 11.248087384873017,\n",
              " 'мутнона': 11.248087384873017,\n",
              " '48': 11.248087384873017,\n",
              " 'возможный': 11.248087384873017,\n",
              " 'торг': 11.248087384873017,\n",
              " 'писать': 11.248087384873017,\n",
              " 'мыло': 10.554940204313072,\n",
              " 'помочь': 11.248087384873017,\n",
              " 'теннисный': 11.248087384873017,\n",
              " 'ракетка': 11.248087384873017,\n",
              " 'юниорский': 11.248087384873017,\n",
              " 'head': 8.68313802741148,\n",
              " 'radical': 11.248087384873017,\n",
              " '25': 11.248087384873017,\n",
              " 'junior': 11.248087384873017,\n",
              " 'удобный': 11.248087384873017,\n",
              " 'чехол': 11.248087384873017,\n",
              " 'отдать': 11.248087384873017,\n",
              " 'качество': 11.248087384873017,\n",
              " 'небольшой': 10.842622276764853,\n",
              " 'презент': 11.248087384873017,\n",
              " 'александр': 11.248087384873017,\n",
              " 'оливер': 11.248087384873017,\n",
              " 'стоун': 11.248087384873017,\n",
              " 'хороший': 11.248087384873017,\n",
              " 'фильм': 11.248087384873017,\n",
              " 'остальной': 11.248087384873017,\n",
              " 'правда': 11.248087384873017,\n",
              " 'плохой': 11.248087384873017,\n",
              " 'американский': 11.248087384873017,\n",
              " 'публика': 10.842622276764853,\n",
              " 'искусить': 11.248087384873017,\n",
              " 'неделя': 11.248087384873017,\n",
              " 'выходить': 11.248087384873017,\n",
              " 'блокбастер': 11.248087384873017,\n",
              " 'принять': 11.248087384873017,\n",
              " 'читать': 11.248087384873017,\n",
              " 'критика': 11.248087384873017,\n",
              " 'обругать': 11.248087384873017,\n",
              " 'журналист': 11.248087384873017,\n",
              " 'проваливаться': 11.248087384873017,\n",
              " 'толстовка': 11.248087384873017,\n",
              " 'soliver': 11.248087384873017,\n",
              " 'песец': 11.248087384873017,\n",
              " 'длинный': 11.248087384873017,\n",
              " 'чёрный': 11.248087384873017,\n",
              " 'последний': 11.248087384873017,\n",
              " 'фото': 11.248087384873017,\n",
              " 'ворот': 11.248087384873017,\n",
              " '98100': 11.248087384873017,\n",
              " 'состояние': 11.248087384873017,\n",
              " 'отличный': 11.248087384873017,\n",
              " 'платье': 11.248087384873017,\n",
              " 'стильный': 11.248087384873017,\n",
              " 'бу': 11.248087384873017,\n",
              " 'стрэча': 11.248087384873017,\n",
              " 'эх': 11.248087384873017,\n",
              " 'нужный': 11.248087384873017,\n",
              " 'долг': 11.248087384873017,\n",
              " 'насовсем': 11.248087384873017,\n",
              " 'мелколопастный': 9.543339292634592,\n",
              " '140': 11.248087384873017,\n",
              " 'мм': 11.248087384873017,\n",
              " 'частенько': 11.248087384873017,\n",
              " 'нравитсяbrредко': 11.248087384873017,\n",
              " 'новый': 10.331796652998863,\n",
              " 'футболка': 11.248087384873017,\n",
              " '74': 11.248087384873017,\n",
              " 'цена': 11.248087384873017,\n",
              " 'костюм': 10.842622276764853,\n",
              " 'сварщик': 10.842622276764853,\n",
              " 'куртка': 11.248087384873017,\n",
              " 'брюки': 11.248087384873017,\n",
              " 'верх51': 9.16864584319318,\n",
              " 'хлопок': 10.842622276764853,\n",
              " '49': 11.248087384873017,\n",
              " 'лён': 11.248087384873017,\n",
              " 'накладка': 11.248087384873017,\n",
              " '100': 11.248087384873017,\n",
              " 'спилка': 11.248087384873017,\n",
              " '182188': 11.248087384873017,\n",
              " '112116': 11.248087384873017,\n",
              " 'мягкий': 10.331796652998863,\n",
              " 'игрушка': 11.248087384873017,\n",
              " 'сладкий': 11.248087384873017,\n",
              " 'подарок': 11.248087384873017,\n",
              " 'набивной': 11.248087384873017,\n",
              " 'игрушкиможный': 11.248087384873017,\n",
              " 'играть': 11.248087384873017,\n",
              " 'положить': 11.248087384873017,\n",
              " 'классика': 11.248087384873017,\n",
              " 'рр': 11.248087384873017,\n",
              " 'шорты': 11.248087384873017,\n",
              " 'мужской': 11.248087384873017,\n",
              " 'adidas': 11.248087384873017,\n",
              " 'носить': 10.842622276764853,\n",
              " 'девушка': 11.248087384873017,\n",
              " 'предложный': 8.444727003966483,\n",
              " 'падеж': 10.842622276764853,\n",
              " 'brбывать': 11.248087384873017,\n",
              " 'ностальгия': 11.248087384873017,\n",
              " 'город': 11.248087384873017,\n",
              " 'пройти': 11.248087384873017,\n",
              " 'ранний': 11.248087384873017,\n",
              " 'детство': 11.248087384873017,\n",
              " 'женский': 10.554940204313072,\n",
              " 'юбка': 11.248087384873017,\n",
              " 'пиджак': 11.248087384873017,\n",
              " 'бренд': 11.248087384873017,\n",
              " 'интикома': 11.248087384873017,\n",
              " '52': 11.248087384873017,\n",
              " '164170': 11.248087384873017,\n",
              " 'состав': 11.248087384873017,\n",
              " '47вискоза': 10.554940204313072,\n",
              " '53полиэстр': 11.248087384873017,\n",
              " 'описание': 11.248087384873017,\n",
              " 'элегантный': 11.248087384873017,\n",
              " 'классический': 11.248087384873017,\n",
              " 'стиль': 11.248087384873017,\n",
              " 'шанель': 11.248087384873017,\n",
              " 'актуальный': 11.248087384873017,\n",
              " 'текущий': 11.248087384873017,\n",
              " 'сезон': 11.248087384873017,\n",
              " 'отделка': 11.248087384873017,\n",
              " 'тафта': 11.248087384873017,\n",
              " 'служить': 11.248087384873017,\n",
              " 'изящный': 11.248087384873017,\n",
              " 'дополнение': 11.248087384873017,\n",
              " 'придавать': 11.248087384873017,\n",
              " 'элемент': 11.248087384873017,\n",
              " 'нарядность': 11.248087384873017,\n",
              " 'повседневный': 11.248087384873017,\n",
              " 'разводиловый': 11.248087384873017,\n",
              " 'стоить': 11.248087384873017,\n",
              " 'пытаться': 10.842622276764853,\n",
              " 'учиться': 9.744009988096744,\n",
              " 'свой': 11.248087384873017,\n",
              " 'ошибка': 11.248087384873017,\n",
              " 'httpwwwbesetrum130ampm260ampid857045': 11.248087384873017,\n",
              " 'm1c2h5oh': 11.248087384873017,\n",
              " '20': 11.248087384873017,\n",
              " 'г08': 11.248087384873017,\n",
              " '16': 11.248087384873017,\n",
              " 'гbrm2c2h5oh': 11.248087384873017,\n",
              " '220': 11.248087384873017,\n",
              " '03': 11.248087384873017,\n",
              " '66': 11.248087384873017,\n",
              " 'гbrmc2h5oh': 11.248087384873017,\n",
              " '16г66': 11.248087384873017,\n",
              " '82': 11.248087384873017,\n",
              " 'гbrmppa': 11.248087384873017,\n",
              " 'c2h5oh': 11.248087384873017,\n",
              " '240': 11.248087384873017,\n",
              " 'гbrωс2н5он': 11.248087384873017,\n",
              " 'г240': 11.248087384873017,\n",
              " '03417': 11.248087384873017,\n",
              " '3417brответ': 11.248087384873017,\n",
              " '3417': 11.248087384873017,\n",
              " 'пинетка': 11.248087384873017,\n",
              " 'сапожок': 11.248087384873017,\n",
              " 'ручной': 11.248087384873017,\n",
              " 'работа': 8.091086963722905,\n",
              " 'тёпленький': 11.248087384873017,\n",
              " 'длина': 11.248087384873017,\n",
              " 'стелька': 11.248087384873017,\n",
              " 'смотреть': 11.248087384873017,\n",
              " 'тянуться': 11.248087384873017,\n",
              " 'очки': 11.248087384873017,\n",
              " 'горнолыжный': 11.248087384873017,\n",
              " 'pсестра': 11.248087384873017,\n",
              " 'папена': 10.331796652998863,\n",
              " 'кристина': 11.248087384873017,\n",
              " 'фр': 11.248087384873017,\n",
              " 'christine': 11.248087384873017,\n",
              " 'papin': 11.248087384873017,\n",
              " '1905': 10.842622276764853,\n",
              " '1937': 11.248087384873017,\n",
              " 'лей': 11.248087384873017,\n",
              " 'léa': 11.248087384873017,\n",
              " '1911': 10.842622276764853,\n",
              " '24': 11.248087384873017,\n",
              " 'июль': 11.248087384873017,\n",
              " '2001': 11.248087384873017,\n",
              " 'сестры': 11.248087384873017,\n",
              " 'французский': 11.248087384873017,\n",
              " 'преступница': 11.248087384873017,\n",
              " 'февраль': 11.248087384873017,\n",
              " '1933': 11.248087384873017,\n",
              " 'убить': 11.248087384873017,\n",
              " 'ле': 11.248087384873017,\n",
              " 'мане': 11.248087384873017,\n",
              " 'жена': 11.248087384873017,\n",
              " 'дочь': 11.248087384873017,\n",
              " 'хозяин': 11.248087384873017,\n",
              " 'дом': 11.248087384873017,\n",
              " 'ланселен': 11.248087384873017,\n",
              " 'работать': 11.248087384873017,\n",
              " 'домашний': 11.248087384873017,\n",
              " 'прислуга': 11.248087384873017,\n",
              " 'кухарка': 11.248087384873017,\n",
              " 'горничнойp': 11.248087384873017,\n",
              " 'pдеть': 11.248087384873017,\n",
              " 'сестра': 10.554940204313072,\n",
              " 'вызвать': 11.248087384873017,\n",
              " 'интерес': 11.248087384873017,\n",
              " 'франция': 8.540037183770806,\n",
              " 'рабочий': 11.248087384873017,\n",
              " 'класс': 11.248087384873017,\n",
              " 'литературный': 11.248087384873017,\n",
              " 'интеллектуальный': 11.248087384873017,\n",
              " 'круг': 11.248087384873017,\n",
              " 'поднять': 11.248087384873017,\n",
              " 'среди': 11.248087384873017,\n",
              " 'прочий': 11.248087384873017,\n",
              " 'вопрос': 11.248087384873017,\n",
              " 'эксплуатация': 11.248087384873017,\n",
              " 'дело': 11.248087384873017,\n",
              " 'частность': 11.248087384873017,\n",
              " 'психиатр': 11.248087384873017,\n",
              " 'философ': 11.248087384873017,\n",
              " 'жан': 11.248087384873017,\n",
              " 'лакать': 11.248087384873017,\n",
              " 'развивать': 11.248087384873017,\n",
              " 'тема': 11.248087384873017,\n",
              " 'параноидальный': 11.248087384873017,\n",
              " 'психоз': 11.248087384873017,\n",
              " 'причина': 11.248087384873017,\n",
              " 'преступление': 10.842622276764853,\n",
              " 'приводить': 11.248087384873017,\n",
              " 'пример': 11.248087384873017,\n",
              " 'вопреки': 10.842622276764853,\n",
              " 'заключение': 11.248087384873017,\n",
              " 'судебнопсихиатрический': 11.248087384873017,\n",
              " 'экспертизыp': 11.248087384873017,\n",
              " 'pпо': 11.248087384873017,\n",
              " 'повод': 11.248087384873017,\n",
              " 'общество': 11.248087384873017,\n",
              " 'разделиться': 11.248087384873017,\n",
              " 'лагерь': 11.248087384873017,\n",
              " 'часть': 11.248087384873017,\n",
              " 'бо': 11.248087384873017,\n",
              " 'льшать': 11.248087384873017,\n",
              " 'считать': 11.248087384873017,\n",
              " 'виновный': 11.248087384873017,\n",
              " 'требовать': 11.248087384873017,\n",
              " 'смертный': 11.248087384873017,\n",
              " 'казнь': 11.248087384873017,\n",
              " 'малый': 11.248087384873017,\n",
              " 'говорить': 11.248087384873017,\n",
              " 'трудящихсяp': 11.248087384873017,\n",
              " 'h2жизнь': 10.842622276764853,\n",
              " 'преступленияh2': 11.248087384873017,\n",
              " 'h3детствоh3': 7.707128060835704,\n",
              " 'расти': 11.248087384873017,\n",
              " 'неблагополучный': 10.842622276764853,\n",
              " 'семья': 11.248087384873017,\n",
              " 'отец': 11.248087384873017,\n",
              " 'пить': 11.248087384873017,\n",
              " 'растлить': 11.248087384873017,\n",
              " 'старший': 11.248087384873017,\n",
              " 'эмилий': 11.248087384873017,\n",
              " '11': 11.248087384873017,\n",
              " 'стать': 11.248087384873017,\n",
              " 'взрослый': 11.248087384873017,\n",
              " 'эмилия': 10.842622276764853,\n",
              " 'постричься': 11.248087384873017,\n",
              " 'монахиниp': 10.331796652998863,\n",
              " 'pмать': 11.248087384873017,\n",
              " 'развестись': 11.248087384873017,\n",
              " 'уехать': 11.248087384873017,\n",
              " 'неизвестно': 11.248087384873017,\n",
              " 'мать': 11.248087384873017,\n",
              " 'гулящий': 11.248087384873017,\n",
              " 'прийтись': 11.248087384873017,\n",
              " 'взять': 11.248087384873017,\n",
              " 'воспитание': 11.248087384873017,\n",
              " 'тётка': 11.248087384873017,\n",
              " 'поздний': 11.248087384873017,\n",
              " 'отобрать': 11.248087384873017,\n",
              " 'поместить': 11.248087384873017,\n",
              " 'сиротский': 11.248087384873017,\n",
              " 'бонпастер': 10.842622276764853,\n",
              " 'воспитываться': 11.248087384873017,\n",
              " 'приют': 11.248087384873017,\n",
              " 'сеншарльp': 11.248087384873017,\n",
              " 'h3взрослый': 11.248087384873017,\n",
              " 'жизньh3': 11.248087384873017,\n",
              " 'pстать': 11.248087384873017,\n",
              " 'частный': 11.248087384873017,\n",
              " 'домахp': 11.248087384873017,\n",
              " 'pпрежде': 10.842622276764853,\n",
              " 'трудоустроиться': 11.248087384873017,\n",
              " 'место': 11.248087384873017,\n",
              " 'предыдущий': 11.248087384873017,\n",
              " 'наниматель': 11.248087384873017,\n",
              " 'характеризовать': 11.248087384873017,\n",
              " 'работница': 10.842622276764853,\n",
              " 'трудолюбивый': 11.248087384873017,\n",
              " 'чистоплотный': 11.248087384873017,\n",
              " 'честной': 11.248087384873017,\n",
              " 'отказываться': 11.248087384873017,\n",
              " 'трудоустраиваться': 10.842622276764853,\n",
              " 'вместе': 11.248087384873017,\n",
              " 'брать': 11.248087384873017,\n",
              " 'младший': 11.248087384873017,\n",
              " 'горничнаяp': 11.248087384873017,\n",
              " 'pк': 11.248087384873017,\n",
              " 'момент': 11.248087384873017,\n",
              " 'проработать': 11.248087384873017,\n",
              " 'ланселеновый': 11.248087384873017,\n",
              " 'летp': 11.248087384873017,\n",
              " 'зарабатывать': 11.248087384873017,\n",
              " 'зарплата': 8.227662498728655,\n",
              " '300': 10.842622276764853,\n",
              " 'франк': 10.842622276764853,\n",
              " 'месяц': 11.248087384873017,\n",
              " 'скопить': 11.248087384873017,\n",
              " '000': 11.248087384873017,\n",
              " 'сбереженийp': 11.248087384873017,\n",
              " 'h2преступлениеh2': 11.248087384873017,\n",
              " 'pв': 11.248087384873017,\n",
              " 'вечер': 11.248087384873017,\n",
              " 'оставаться': 11.248087384873017,\n",
              " 'послать': 11.248087384873017,\n",
              " 'магазин': 11.248087384873017,\n",
              " 'собираться': 11.248087384873017,\n",
              " 'ехать': 11.248087384873017,\n",
              " 'гость': 10.842622276764853,\n",
              " 'пригласить': 10.842622276764853,\n",
              " 'обед': 11.248087384873017,\n",
              " 'заходить': 11.248087384873017,\n",
              " 'домойp': 11.248087384873017,\n",
              " 'pкогда': 11.248087384873017,\n",
              " 'стемнеть': 11.248087384873017,\n",
              " 'закончить': 11.248087384873017,\n",
              " 'изз': 11.248087384873017,\n",
              " 'поломка': 11.248087384873017,\n",
              " 'отключиться': 11.248087384873017,\n",
              " 'электричество': 11.248087384873017,\n",
              " 'электрик': 11.248087384873017,\n",
              " 'неисправность': 11.248087384873017,\n",
              " 'найти': 11.248087384873017,\n",
              " 'подняться': 11.248087384873017,\n",
              " 'комната': 11.248087384873017,\n",
              " 'лечь': 11.248087384873017,\n",
              " 'кроватьp': 11.248087384873017,\n",
              " 'pвскоре': 11.248087384873017,\n",
              " 'послышаться': 11.248087384873017,\n",
              " 'шум': 11.248087384873017,\n",
              " 'прислать': 11.248087384873017,\n",
              " 'накинуть': 10.554940204313072,\n",
              " 'плечо': 11.248087384873017,\n",
              " 'блузка': 11.248087384873017,\n",
              " 'спуститься': 11.248087384873017,\n",
              " 'площадка': 11.248087384873017,\n",
              " 'этаж': 11.248087384873017,\n",
              " 'встретить': 10.554940204313072,\n",
              " 'хозяйка': 11.248087384873017,\n",
              " 'ланселенмать': 11.248087384873017,\n",
              " 'суд': 11.248087384873017,\n",
              " 'дать': 10.842622276764853,\n",
              " 'показание': 11.248087384873017,\n",
              " 'госпожа': 11.248087384873017,\n",
              " 'угрожать': 11.248087384873017,\n",
              " 'схватить': 11.248087384873017,\n",
              " 'лужёный': 11.248087384873017,\n",
              " 'кувшин': 11.248087384873017,\n",
              " 'сила': 11.248087384873017,\n",
              " 'ударить': 11.248087384873017,\n",
              " 'голове': 10.842622276764853,\n",
              " 'br': 11.248087384873017,\n",
              " 'ланселендочить': 11.248087384873017,\n",
              " 'кинуться': 11.248087384873017,\n",
              " 'помощь': 11.248087384873017,\n",
              " 'наброситься': 9.233184364330752,\n",
              " 'палец': 11.248087384873017,\n",
              " 'вырвать': 11.248087384873017,\n",
              " 'глаз': 11.248087384873017,\n",
              " 'думать': 11.248087384873017,\n",
              " 'обаp': 11.248087384873017,\n",
              " 'pна': 11.248087384873017,\n",
              " 'прибежать': 11.248087384873017,\n",
              " 'ударять': 11.248087384873017,\n",
              " 'голова': 11.248087384873017,\n",
              " 'pо': 11.248087384873017,\n",
              " 'дальнейший': 11.248087384873017,\n",
              " 'когда': 11.248087384873017,\n",
              " 'отправиться': 11.248087384873017,\n",
              " 'кухня': 11.248087384873017,\n",
              " 'нож': 11.248087384873017,\n",
              " 'молоток': 11.248087384873017,\n",
              " 'покончено': 10.842622276764853,\n",
              " 'pпосле': 11.248087384873017,\n",
              " 'запереться': 11.248087384873017,\n",
              " 'постель': 11.248087384873017,\n",
              " 'крепко': 11.248087384873017,\n",
              " 'прижаться': 11.248087384873017,\n",
              " 'друг': 11.248087384873017,\n",
              " 'другу': 11.248087384873017,\n",
              " 'p6': 11.248087384873017,\n",
              " 'декабрь': 11.248087384873017,\n",
              " '1932': 10.149475096204908,\n",
              " 'полицейский': 11.248087384873017,\n",
              " 'делеа': 11.248087384873017,\n",
              " 'обнаружить': 11.248087384873017,\n",
              " 'особняк': 11.248087384873017,\n",
              " 'изувечить': 11.248087384873017,\n",
              " 'труп': 11.248087384873017,\n",
              " 'ланселенp': 11.248087384873017,\n",
              " 'полиция': 11.248087384873017,\n",
              " 'выломать': 11.248087384873017,\n",
              " 'дверь': 10.842622276764853,\n",
              " 'лежать': 11.248087384873017,\n",
              " 'голый': 11.248087384873017,\n",
              " 'мы': 11.248087384873017,\n",
              " 'ждать': 11.248087384873017,\n",
              " 'вас': 8.805740349503813,\n",
              " 'h2судh2': 11.248087384873017,\n",
              " 'pсудебный': 10.842622276764853,\n",
              " 'состояться': 11.248087384873017,\n",
              " '29': 11.248087384873017,\n",
              " 'сентябрь': 11.248087384873017,\n",
              " 'кристине': 11.248087384873017,\n",
              " '28': 11.248087384873017,\n",
              " '22': 11.248087384873017,\n",
              " 'годаp': 11.248087384873017,\n",
              " 'смочь': 11.248087384873017,\n",
              " 'объяснить': 10.842622276764853,\n",
              " 'житься': 11.248087384873017,\n",
              " 'неплохо': 10.842622276764853,\n",
              " 'претензия': 11.248087384873017,\n",
              " 'нетp': 11.248087384873017,\n",
              " 'pхозяин': 11.248087384873017,\n",
              " 'поверить': 11.248087384873017,\n",
              " 'убийство': 11.248087384873017,\n",
              " 'допросить': 10.842622276764853,\n",
              " 'женщина': 10.842622276764853,\n",
              " 'поведенияp': 11.248087384873017,\n",
              " 'выражаться': 11.248087384873017,\n",
              " 'подозрение': 11.248087384873017,\n",
              " 'состоять': 10.842622276764853,\n",
              " 'лесбийский': 11.248087384873017,\n",
              " 'связь': 11.248087384873017,\n",
              " 'основание': 11.248087384873017,\n",
              " 'послужить': 11.248087384873017,\n",
              " 'следующееp': 11.248087384873017,\n",
              " 'ul': 11.248087384873017,\n",
              " 'liсестра': 11.248087384873017,\n",
              " 'общаться': 10.149475096204908,\n",
              " 'мужчинамиli': 11.248087384873017,\n",
              " 'liбыль': 11.248087384873017,\n",
              " 'привязать': 11.248087384873017,\n",
              " 'другуli': 11.248087384873017,\n",
              " 'liкаждый': 11.248087384873017,\n",
              " 'выходной': 11.248087384873017,\n",
              " 'праздник': 11.248087384873017,\n",
              " 'запираться': 11.248087384873017,\n",
              " 'проводить': 11.248087384873017,\n",
              " 'деньli': 10.842622276764853,\n",
              " 'liпосле': 11.248087384873017,\n",
              " 'постелиli': 11.248087384873017,\n",
              " 'liв': 11.248087384873017,\n",
              " 'тюрьма': 11.248087384873017,\n",
              " 'умолять': 11.248087384873017,\n",
              " 'надзирательница': 11.248087384873017,\n",
              " 'позволить': 11.248087384873017,\n",
              " 'встретиться': 11.248087384873017,\n",
              " 'кричать': 10.842622276764853,\n",
              " 'вернуть': 11.248087384873017,\n",
              " 'мужа': 11.248087384873017,\n",
              " 'вид': 11.248087384873017,\n",
              " 'привести': 11.248087384873017,\n",
              " 'камера': 11.248087384873017,\n",
              " 'приняться': 11.248087384873017,\n",
              " 'обнимать': 11.248087384873017,\n",
              " 'ласкать': 11.248087384873017,\n",
              " 'разлучитьli': 9.302177235817704,\n",
              " 'отрицать': 11.248087384873017,\n",
              " 'нимиp': 11.248087384873017,\n",
              " 'pпсихиатрэксперт': 11.248087384873017,\n",
              " 'доктор': 11.248087384873017,\n",
              " 'шварзиммер': 11.248087384873017,\n",
              " 'экспертиза': 11.248087384873017,\n",
              " 'полностью': 11.248087384873017,\n",
              " 'вменяемый': 11.248087384873017,\n",
              " 'ответственный': 11.248087384873017,\n",
              " 'наследственность': 11.248087384873017,\n",
              " 'адвокат': 11.248087384873017,\n",
              " 'высказать': 11.248087384873017,\n",
              " 'сомнение': 11.248087384873017,\n",
              " 'правильность': 11.248087384873017,\n",
              " 'психиатровэксперт': 11.248087384873017,\n",
              " 'оспорить': 11.248087384873017,\n",
              " 'защита': 11.248087384873017,\n",
              " 'следующий': 11.248087384873017,\n",
              " 'основанияхp': 11.248087384873017,\n",
              " 'liу': 11.248087384873017,\n",
              " 'liдед': 11.248087384873017,\n",
              " 'эпилептикli': 11.248087384873017,\n",
              " 'liдвоюродный': 11.248087384873017,\n",
              " 'брат': 11.248087384873017,\n",
              " 'умереть': 11.248087384873017,\n",
              " 'умалишённыхli': 10.842622276764853,\n",
              " 'liневрастеник': 11.248087384873017,\n",
              " 'дядя': 11.248087384873017,\n",
              " 'повеситься': 11.248087384873017,\n",
              " 'комнатеli': 11.248087384873017,\n",
              " 'li': 11.248087384873017,\n",
              " 'liдетство': 11.248087384873017,\n",
              " 'травмировать': 10.842622276764853,\n",
              " 'психика': 11.248087384873017,\n",
              " 'обстановка': 11.248087384873017,\n",
              " 'liгулящий': 11.248087384873017,\n",
              " 'плохо': 11.248087384873017,\n",
              " 'заботиться': 11.248087384873017,\n",
              " 'муж': 11.248087384873017,\n",
              " 'папенli': 9.861793023753126,\n",
              " 'liа': 11.248087384873017,\n",
              " 'вовсе': 11.248087384873017,\n",
              " 'исчезлаli': 11.248087384873017,\n",
              " 'liотец': 11.248087384873017,\n",
              " 'алкоголикомli': 11.248087384873017,\n",
              " 'liи': 11.248087384873017,\n",
              " 'летli': 11.248087384873017,\n",
              " 'liразвод': 11.248087384873017,\n",
              " 'родителейli': 11.248087384873017,\n",
              " 'развод': 11.248087384873017,\n",
              " 'родитель': 11.248087384873017,\n",
              " 'воспитывать': 11.248087384873017,\n",
              " 'любовьюli': 11.248087384873017,\n",
              " 'домli': 10.842622276764853,\n",
              " 'причём': 11.248087384873017,\n",
              " 'попасть': 11.248087384873017,\n",
              " 'маленькойli': 11.248087384873017,\n",
              " 'довод': 11.248087384873017,\n",
              " 'поставить': 11.248087384873017,\n",
              " 'эксперт': 11.248087384873017,\n",
              " 'вменяемость': 11.248087384873017,\n",
              " 'ходатайствовать': 10.331796652998863,\n",
              " 'назначить': 11.248087384873017,\n",
              " 'требование': 11.248087384873017,\n",
              " 'прокурор': 11.248087384873017,\n",
              " 'отклонить': 10.842622276764853,\n",
              " 'ходатайство': 10.842622276764853,\n",
              " 'удовлетвориться': 11.248087384873017,\n",
              " 'шварзиммераp': 11.248087384873017,\n",
              " 'h3приговорh3': 11.248087384873017,\n",
              " 'pприсяжный': 11.248087384873017,\n",
              " 'вынести': 11.248087384873017,\n",
              " 'вердикт': 11.248087384873017,\n",
              " 'виновность': 11.248087384873017,\n",
              " 'папенp': 11.248087384873017,\n",
              " 'p29': 11.248087384873017,\n",
              " 'приговорbr': 11.248087384873017,\n",
              " 'приговорить': 11.248087384873017,\n",
              " 'казниbr': 11.248087384873017,\n",
              " '10': 11.248087384873017,\n",
              " 'каторга': 11.248087384873017,\n",
              " 'ссылкиp': 11.248087384873017,\n",
              " 'p22': 10.842622276764853,\n",
              " 'январь': 11.248087384873017,\n",
              " '1934': 11.248087384873017,\n",
              " 'президент': 10.842622276764853,\n",
              " 'альбер': 11.248087384873017,\n",
              " 'лебрен': 9.543339292634592,\n",
              " 'помиловать': 11.248087384873017,\n",
              " 'приговор': 11.248087384873017,\n",
              " 'заменить': 11.248087384873017,\n",
              " 'перевести': 11.248087384873017,\n",
              " 'центральный': 11.248087384873017,\n",
              " 'ренна': 11.248087384873017,\n",
              " 'фррусск': 10.554940204313072,\n",
              " 'бретаниp': 11.248087384873017,\n",
              " 'h2дальнейший': 11.248087384873017,\n",
              " 'жизньh2': 10.554940204313072,\n",
              " 'pчереза': 11.248087384873017,\n",
              " 'перевод': 11.248087384873017,\n",
              " 'реннсковать': 11.248087384873017,\n",
              " 'обнаружиться': 11.248087384873017,\n",
              " 'проявиться': 11.248087384873017,\n",
              " 'психический': 11.248087384873017,\n",
              " 'болезнь': 11.248087384873017,\n",
              " 'депрессия': 5.191303371644393,\n",
              " 'психиатрический': 4.8023675654874385,\n",
              " 'больница': 6.5567395026438735,\n",
              " 'спустя': 8.68313802741148,\n",
              " 'возраст': 10.331796652998863,\n",
              " '32': 10.842622276764853,\n",
              " 'кахексииp': 11.248087384873017,\n",
              " 'pлей': 11.248087384873017,\n",
              " 'поведение': 11.248087384873017,\n",
              " 'снизить': 11.248087384873017,\n",
              " 'срок': 11.248087384873017,\n",
              " '1941': 11.248087384873017,\n",
              " 'освободиться': 10.842622276764853,\n",
              " 'разыскать': 11.248087384873017,\n",
              " 'поселиласьгда': 11.248087384873017,\n",
              " 'десятилетие': 11.248087384873017,\n",
              " 'освобождение': 10.842622276764853,\n",
              " 'горничная': 11.248087384873017,\n",
              " 'различный': 11.248087384873017,\n",
              " 'гостиница': 11.248087384873017,\n",
              " 'запад': 11.248087384873017,\n",
              " '89': 11.248087384873017,\n",
              " 'замужем': 11.248087384873017,\n",
              " 'ребёнок': 11.248087384873017,\n",
              " 'оставить': 10.842622276764853,\n",
              " 'похоронить': 11.248087384873017,\n",
              " 'нант': 11.248087384873017,\n",
              " 'кладбище': 11.248087384873017,\n",
              " 'бутильер': 11.248087384873017,\n",
              " 'фррусскp': 11.248087384873017,\n",
              " 'виолетта': 11.248087384873017,\n",
              " 'нозьер': 11.248087384873017,\n",
              " 'психиатрэксперт': 11.248087384873017,\n",
              " 'освидетельствовать': 11.248087384873017,\n",
              " 'психически': 11.248087384873017,\n",
              " 'вскоре': 11.248087384873017,\n",
              " 'болезньp': 11.248087384873017,\n",
              " 'h2в': 11.248087384873017,\n",
              " 'искусствеh2': 11.248087384873017,\n",
              " 'вдохновить': 11.248087384873017,\n",
              " 'многий': 10.842622276764853,\n",
              " 'писатель': 11.248087384873017,\n",
              " 'деятель': 11.248087384873017,\n",
              " 'кино': 11.248087384873017,\n",
              " 'театр': 8.414874040816802,\n",
              " 'создать': 11.248087384873017,\n",
              " 'немало': 11.248087384873017,\n",
              " 'произведение': 10.554940204313072,\n",
              " 'пьеса': 11.248087384873017,\n",
              " 'частностиp': 11.248087384873017,\n",
              " '1947': 11.248087384873017,\n",
              " 'служанки': 11.248087384873017,\n",
              " 'les': 11.248087384873017,\n",
              " 'bonnes': 11.248087384873017,\n",
              " 'несмотря': 10.331796652998863,\n",
              " 'бросаться': 11.248087384873017,\n",
              " 'сходство': 10.331796652998863,\n",
              " 'сюжет': 11.248087384873017,\n",
              " 'история': 10.842622276764853,\n",
              " 'яростно': 11.248087384873017,\n",
              " 'создание': 11.248087384873017,\n",
              " 'сестёрli': 11.248087384873017,\n",
              " '1963': 10.842622276764853,\n",
              " 'режиссёр': 10.842622276764853,\n",
              " 'никос': 11.248087384873017,\n",
              " 'папатакиснуть': 10.554940204313072,\n",
              " 'снять': 11.248087384873017,\n",
              " 'бездна': 11.248087384873017,\n",
              " 'фррусскli': 11.248087384873017,\n",
              " '1994': 10.842622276764853,\n",
              " 'сша': 11.248087384873017,\n",
              " 'нэнси': 11.248087384873017,\n",
              " 'меклер': 10.842622276764853,\n",
              " 'англрусск': 11.248087384873017,\n",
              " 'sister': 11.248087384873017,\n",
              " 'my': 11.248087384873017,\n",
              " 'li1995': 9.744009988096744,\n",
              " 'клод': 11.248087384873017,\n",
              " 'шаброль': 11.248087384873017,\n",
              " 'церемония': 11.248087384873017,\n",
              " 'экранизировать': 11.248087384873017,\n",
              " 'роман': 10.331796652998863,\n",
              " 'рута': 11.248087384873017,\n",
              " 'ренделла': 11.248087384873017,\n",
              " 'каменный': 11.248087384873017,\n",
              " 'li2000': 11.248087384873017,\n",
              " 'жанпьер': 11.248087384873017,\n",
              " 'дени': 11.248087384873017,\n",
              " 'blessures': 11.248087384873017,\n",
              " 'assassines': 10.842622276764853,\n",
              " 'книга': 11.248087384873017,\n",
              " 'paulette': 11.248087384873017,\n",
              " 'houdyer': 10.554940204313072,\n",
              " 'документальный': 11.248087384873017,\n",
              " 'вентур': 11.248087384873017,\n",
              " 'поиск': 11.248087384873017,\n",
              " 'li2005': 11.248087384873017,\n",
              " 'певица': 11.248087384873017,\n",
              " 'жюлить': 11.248087384873017,\n",
              " 'нуреддин': 11.248087384873017,\n",
              " 'записать': 11.248087384873017,\n",
              " 'песня': 11.248087384873017,\n",
              " 'проклятый': 11.248087384873017,\n",
              " 'колокол': 11.248087384873017,\n",
              " 'альбом': 11.248087384873017,\n",
              " 'mutatis': 10.331796652998863,\n",
              " 'mutandis': 11.248087384873017,\n",
              " 'h2ич': 11.248087384873017,\n",
              " 'путать': 11.248087384873017,\n",
              " 'сh2': 11.248087384873017,\n",
              " 'паппиниli': 10.331796652998863,\n",
              " 'h2примечанияh2': 11.248087384873017,\n",
              " 'h2источникиh2': 11.248087384873017,\n",
              " 'h3литератураh3': 11.248087384873017,\n",
              " 'liфредерик': 11.248087384873017,\n",
              " 'поттешер': 11.248087384873017,\n",
              " 'знаменитый': 11.248087384873017,\n",
              " 'судебный': 11.248087384873017,\n",
              " 'процессы': 11.248087384873017,\n",
              " 'grands': 11.248087384873017,\n",
              " 'proces': 10.331796652998863,\n",
              " 'de': 11.248087384873017,\n",
              " 'histoire': 11.248087384873017,\n",
              " 'ссср': 11.248087384873017,\n",
              " 'издать': 11.248087384873017,\n",
              " 'издательство': 11.248087384873017,\n",
              " 'прогресс': 11.248087384873017,\n",
              " '1985': 10.554940204313072,\n",
              " '302': 11.248087384873017,\n",
              " 'стр': 11.248087384873017,\n",
              " 'httpwwwereadingclubbookphpbook130329li': 11.248087384873017,\n",
              " 'h3ссылкиh3': 11.248087384873017,\n",
              " 'ссылка': 11.248087384873017,\n",
              " 'адрес': 11.248087384873017,\n",
              " 'бросить': 11.248087384873017,\n",
              " 'широкий': 11.248087384873017,\n",
              " 'браслет': 11.248087384873017,\n",
              " 'синий': 10.842622276764853,\n",
              " 'авантюрин': 11.248087384873017,\n",
              " 'вещество': 11.248087384873017,\n",
              " 'твёрдый': 11.248087384873017,\n",
              " 'формеbr2': 11.248087384873017,\n",
              " 'нагреваться': 11.248087384873017,\n",
              " 'конец': 11.248087384873017,\n",
              " 'распалвливаться': 11.248087384873017,\n",
              " 'никак': 11.248087384873017,\n",
              " 'знать': 11.248087384873017,\n",
              " 'ток': 11.248087384873017,\n",
              " 'закон': 11.248087384873017,\n",
              " 'ома': 10.554940204313072,\n",
              " '2014': 10.842622276764853,\n",
              " 'brbr': 11.248087384873017,\n",
              " '30': 10.842622276764853,\n",
              " 'водка': 11.248087384873017,\n",
              " 'селёдка': 11.248087384873017,\n",
              " 'точно': 11.248087384873017,\n",
              " 'имяbrпривет': 11.248087384873017,\n",
              " 'дарага': 11.248087384873017,\n",
              " 'триллер': 11.248087384873017,\n",
              " 'непредсказуемый': 11.248087384873017,\n",
              " 'финал': 11.248087384873017,\n",
              " 'brbrдругий': 10.842622276764853,\n",
              " 'brключ': 10.842622276764853,\n",
              " 'brтота': 11.248087384873017,\n",
              " 'гасить': 11.248087384873017,\n",
              " 'свет': 11.248087384873017,\n",
              " 'brгипноз': 11.248087384873017,\n",
              " 'brдикость': 9.995324416377649,\n",
              " '123': 11.248087384873017,\n",
              " 'brигра': 10.554940204313072,\n",
              " 'brшестой': 11.248087384873017,\n",
              " 'чувство': 11.248087384873017,\n",
              " 'brдеть': 11.248087384873017,\n",
              " '39': 10.331796652998863,\n",
              " 'brостров': 11.248087384873017,\n",
              " 'brтетрадь': 11.248087384873017,\n",
              " 'смерть': 11.248087384873017,\n",
              " '12': 11.248087384873017,\n",
              " 'brмученица': 11.248087384873017,\n",
              " 'brплести': 11.248087384873017,\n",
              " 'brтреугольник': 10.331796652998863,\n",
              " 'brперелом': 11.248087384873017,\n",
              " 'brдетектор': 11.248087384873017,\n",
              " 'ложь': 11.248087384873017,\n",
              " 'brиллюзионист': 11.248087384873017,\n",
              " 'brпрестиж': 11.248087384873017,\n",
              " 'brадвокат': 11.248087384873017,\n",
              " 'дьявол': 11.248087384873017,\n",
              " 'brпункт': 11.248087384873017,\n",
              " 'назначение': 7.441424895102697,\n",
              " 'прятки': 11.248087384873017,\n",
              " 'brсмерть': 11.248087384873017,\n",
              " 'вода': 11.248087384873017,\n",
              " 'brготика': 11.248087384873017,\n",
              " 'brтайный': 11.248087384873017,\n",
              " 'окно': 11.248087384873017,\n",
              " 'brлуна2112': 11.248087384873017,\n",
              " 'brкуб': 11.248087384873017,\n",
              " 'brпредчувствие': 11.248087384873017,\n",
              " 'brдом': 11.248087384873017,\n",
              " 'страх': 11.248087384873017,\n",
              " 'brночной': 9.108021221376747,\n",
              " 'поезд': 10.554940204313072,\n",
              " 'brжатва': 11.248087384873017,\n",
              " 'brчитать': 11.248087384873017,\n",
              " 'мысль': 8.945502291878972,\n",
              " 'brтупик': 11.248087384873017,\n",
              " 'brдорога': 11.248087384873017,\n",
              " 'арлингтон': 11.248087384873017,\n",
              " 'brсмертельный': 10.842622276764853,\n",
              " 'лабиринт': 11.248087384873017,\n",
              " 'brпсихо': 11.248087384873017,\n",
              " 'brдобрый': 11.248087384873017,\n",
              " 'сынок': 10.842622276764853,\n",
              " 'brвидок': 11.248087384873017,\n",
              " 'brохотник': 10.554940204313072,\n",
              " 'разум': 11.248087384873017,\n",
              " 'brтелефонный': 11.248087384873017,\n",
              " 'будка': 11.248087384873017,\n",
              " 'brвдребезги': 11.248087384873017,\n",
              " 'brгриб': 11.248087384873017,\n",
              " 'br88': 11.248087384873017,\n",
              " 'минута': 11.248087384873017,\n",
              " 'pбесконечнойbrбес': 11.248087384873017,\n",
              " 'приставка': 11.248087384873017,\n",
              " 'конечий': 11.248087384873017,\n",
              " 'корень': 8.68313802741148,\n",
              " 'суффикс': 11.248087384873017,\n",
              " 'ой': 11.248087384873017,\n",
              " 'окончание': 11.248087384873017,\n",
              " 'brbrp': 11.248087384873017,\n",
              " 'кажущийся': 11.248087384873017,\n",
              " 'современность': 11.248087384873017,\n",
              " 'знак': 10.554940204313072,\n",
              " 'известный': 11.248087384873017,\n",
              " '2500': 11.248087384873017,\n",
              " 'древнегречиский': 11.248087384873017,\n",
              " 'ваза': 8.507247360947815,\n",
              " 'сей': 10.331796652998863,\n",
              " 'находить': 11.248087384873017,\n",
              " 'археолог': 11.248087384873017,\n",
              " 'встречаться': 11.248087384873017,\n",
              " 'знакжестbrbr': 11.248087384873017,\n",
              " 'грек': 11.248087384873017,\n",
              " 'жест': 11.248087384873017,\n",
              " 'сложить': 11.248087384873017,\n",
              " 'кольцо': 11.248087384873017,\n",
              " 'большой': 11.248087384873017,\n",
              " 'указательный': 11.248087384873017,\n",
              " 'двойной': 9.108021221376747,\n",
              " 'значение': 11.248087384873017,\n",
              " 'смысл': 11.248087384873017,\n",
              " 'положительный': 11.248087384873017,\n",
              " 'вопервое': 10.842622276764853,\n",
              " 'символ': 10.842622276764853,\n",
              " 'любовь': 8.070033554525072,\n",
              " 'условный': 10.842622276764853,\n",
              " 'изображение': 9.744009988096744,\n",
              " 'целоваться': 11.248087384873017,\n",
              " 'губа': 11.248087384873017,\n",
              " 'вовторое': 11.248087384873017,\n",
              " 'похвала': 11.248087384873017,\n",
              " 'оратор': 9.861793023753126,\n",
              " 'точный': 8.357715626976852,\n",
              " 'высказывание': 11.248087384873017,\n",
              " 'тонкий': 11.248087384873017,\n",
              " 'афоризм': 11.248087384873017,\n",
              " 'оскорбительный': 11.248087384873017,\n",
              " 'толкование': 11.248087384873017,\n",
              " 'появиться': 11.248087384873017,\n",
              " 'позжеbrbrкстати': 11.248087384873017,\n",
              " 'жестсимвол': 10.554940204313072,\n",
              " 'приобрести': 10.842622276764853,\n",
              " 'популярность': 10.554940204313072,\n",
              " 'американец': 11.248087384873017,\n",
              " 'начало': 10.331796652998863,\n",
              " 'хіх': 11.248087384873017,\n",
              " 'век': 11.248087384873017,\n",
              " 'использоваться': 10.149475096204908,\n",
              " 'газетчик': 11.248087384873017,\n",
              " 'повальный': 11.248087384873017,\n",
              " 'увлечение': 11.248087384873017,\n",
              " 'сокращение': 11.248087384873017,\n",
              " 'слово': 10.842622276764853,\n",
              " 'ходовой': 11.248087384873017,\n",
              " 'фраза': 11.248087384873017,\n",
              " 'начальный': 8.252355111319027,\n",
              " 'буквbrbrсуществовать': 9.861793023753126,\n",
              " 'версия': 10.842622276764853,\n",
              " 'прохождение': 11.248087384873017,\n",
              " 'ошибочный': 11.248087384873017,\n",
              " 'написание': 11.248087384873017,\n",
              " 'all': 11.248087384873017,\n",
              " 'correct': 11.248087384873017,\n",
              " 'правильно': 11.248087384873017,\n",
              " 'oll': 11.248087384873017,\n",
              " 'korrect': 11.248087384873017,\n",
              " 'полагать': 11.248087384873017,\n",
              " 'перевернуть': 11.248087384873017,\n",
              " 'антоним': 10.554940204313072,\n",
              " 'knockout': 11.248087384873017,\n",
              " 'нокаут': 10.331796652998863,\n",
              " 'обозначать': 11.248087384873017,\n",
              " 'английский': 11.248087384873017,\n",
              " 'язык': 9.995324416377649,\n",
              " 'гласить': 11.248087384873017,\n",
              " 'родиться': 11.248087384873017,\n",
              " 'местность': 11.248087384873017,\n",
              " 'ол': 11.248087384873017,\n",
              " 'киндерхут': 11.248087384873017,\n",
              " 'предвыборный': 10.331796652998863,\n",
              " 'знакаbrbrсейчас': 11.248087384873017,\n",
              " 'порядок': 11.248087384873017,\n",
              " 'окей': 10.842622276764853,\n",
              " 'англоговорящий': 10.842622276764853,\n",
              " 'страна': 11.248087384873017,\n",
              " 'получить': 11.248087384873017,\n",
              " 'распространение': 11.248087384873017,\n",
              " 'европа': 11.248087384873017,\n",
              " 'азия': 11.248087384873017,\n",
              " 'россия': 11.248087384873017,\n",
              " 'заменитель': 11.248087384873017,\n",
              " 'отлично': 11.248087384873017,\n",
              " 'канада': 11.248087384873017,\n",
              " 'ох': 11.248087384873017,\n",
              " 'сиська': 11.248087384873017,\n",
              " 'писька': 9.995324416377649,\n",
              " 'норма': 11.248087384873017,\n",
              " 'мир': 8.444727003966483,\n",
              " 'внутренниймашинка': 10.331796652998863,\n",
              " 'закаточный': 11.248087384873017,\n",
              " 'подарить': 10.331796652998863,\n",
              " 'смеяться': 11.248087384873017,\n",
              " ...}"
            ]
          },
          "metadata": {
            "tags": []
          },
          "execution_count": 26
        }
      ]
    },
    {
      "cell_type": "code",
      "metadata": {
        "colab": {
          "base_uri": "https://localhost:8080/",
          "height": 171,
          "referenced_widgets": [
            "d58104de6d224c26b7b414f709f069cd",
            "98b9c7047d134a628c4c6a635d9e0985",
            "9287451ede5141a6b207d55ac07608f5",
            "6c6da79fdb8147099657f0f957713172",
            "5b07abed63fc4cfcace62321678143db",
            "a90e6a4f11584967aed3b6024814697f",
            "98a56d1d9ce64570ba02b357414eb649",
            "ea0785880fc4436ab7ccfde7c8e6a38a"
          ]
        },
        "id": "H42KQ_mEB-j8",
        "outputId": "2df95e76-e164-401a-a6a9-147251dd0ddb"
      },
      "source": [
        "ft_index_shop = annoy.AnnoyIndex(100 ,'angular')\n",
        "\n",
        "midf = np.mean(tfidf_vect.idf_)\n",
        "\n",
        "index_map_shop = {}\n",
        "counter = 0\n",
        "\n",
        "for i in tqdm_notebook(range(len(products_dataset))):\n",
        "    n_ft = 0\n",
        "    index_map_shop[counter] = (products_dataset.loc[i, \"title\"], products_dataset.loc[i, \"image_links\"])\n",
        "    vector_ft = np.zeros(100)\n",
        "    for word in products_dataset.loc[i, \"text\"]:\n",
        "        if word in modelFT:\n",
        "            vector_ft += modelFT[word] * idfs.get(word, midf)\n",
        "            n_ft += idfs.get(word, midf)\n",
        "    if n_ft > 0:\n",
        "        vector_ft = vector_ft / n_ft\n",
        "    ft_index_shop.add_item(counter, vector_ft)\n",
        "    counter += 1\n",
        "\n",
        "ft_index_shop.build(10)\n",
        "ft_index_shop.save('shop.ann')"
      ],
      "execution_count": 27,
      "outputs": [
        {
          "output_type": "display_data",
          "data": {
            "application/vnd.jupyter.widget-view+json": {
              "model_id": "d58104de6d224c26b7b414f709f069cd",
              "version_minor": 0,
              "version_major": 2
            },
            "text/plain": [
              "HBox(children=(FloatProgress(value=0.0, max=35548.0), HTML(value='')))"
            ]
          },
          "metadata": {
            "tags": []
          }
        },
        {
          "output_type": "stream",
          "text": [
            "/usr/local/lib/python3.6/dist-packages/ipykernel_launcher.py:13: DeprecationWarning: Call to deprecated `__contains__` (Method will be removed in 4.0.0, use self.wv.__contains__() instead).\n",
            "  del sys.path[0]\n",
            "/usr/local/lib/python3.6/dist-packages/ipykernel_launcher.py:14: DeprecationWarning: Call to deprecated `__getitem__` (Method will be removed in 4.0.0, use self.wv.__getitem__() instead).\n",
            "  \n"
          ],
          "name": "stderr"
        },
        {
          "output_type": "stream",
          "text": [
            "\n"
          ],
          "name": "stdout"
        },
        {
          "output_type": "execute_result",
          "data": {
            "text/plain": [
              "True"
            ]
          },
          "metadata": {
            "tags": []
          },
          "execution_count": 27
        }
      ]
    },
    {
      "cell_type": "code",
      "metadata": {
        "id": "MkKxLi2-CEGE"
      },
      "source": [
        "assert True\n",
        "\n",
        "with open(\"/content/drive/My Drive/Colab Notebooks/index_shop.pkl\", \"wb\") as f:\n",
        "    pickle.dump(index_map, f)"
      ],
      "execution_count": 28,
      "outputs": []
    },
    {
      "cell_type": "code",
      "metadata": {
        "colab": {
          "base_uri": "https://localhost:8080/"
        },
        "id": "b_8HZo6RCJVb",
        "outputId": "492e08cf-6cb9-4aed-8fd2-0fd6d78757a5"
      },
      "source": [
        "ft_index_shop.get_nns_by_vector(np.zeros(100), 1, include_distances=True)"
      ],
      "execution_count": 29,
      "outputs": [
        {
          "output_type": "execute_result",
          "data": {
            "text/plain": [
              "([17], [1.4142135381698608])"
            ]
          },
          "metadata": {
            "tags": []
          },
          "execution_count": 29
        }
      ]
    },
    {
      "cell_type": "markdown",
      "metadata": {
        "id": "dJYlXo7GwDmb"
      },
      "source": [
        "**Запуск бота**"
      ]
    },
    {
      "cell_type": "code",
      "metadata": {
        "id": "mIfByt6SwNJP"
      },
      "source": [
        "start_msg = 'Привет. Я бот. Меня зовут Crazy_Bot. Также, широко известен в узких ' \\\n",
        "'кругах как my_crazy_777_bot. Чем могу помочь?'"
      ],
      "execution_count": 30,
      "outputs": []
    },
    {
      "cell_type": "code",
      "metadata": {
        "id": "JQS4QQ6cz5Rd"
      },
      "source": [
        "updater = Updater(token='1457609008:AAFyGWKlUmmRdjyQe2_41PqW-15ltCwea9Q') # Токен API к Telegram\n",
        "dispatcher = updater.dispatcher"
      ],
      "execution_count": 31,
      "outputs": []
    },
    {
      "cell_type": "code",
      "metadata": {
        "id": "Ku4SA50Lz7br"
      },
      "source": [
        "def startCommand(bot, update):\n",
        "    bot.send_message(chat_id=update.message.chat_id, text=start_msg)"
      ],
      "execution_count": 32,
      "outputs": []
    },
    {
      "cell_type": "code",
      "metadata": {
        "id": "vI1BLC0uz9Jq"
      },
      "source": [
        "def textMessage(bot, update):\n",
        "    \n",
        "    input_txt = preprocess_txt(update.message.text)\n",
        "    vect = vectorizer.transform([\" \".join(input_txt)])\n",
        "    prediction = lr.predict(vect)\n",
        "    \n",
        "    if prediction[0] == 1:\n",
        "        vect_ft = embed_txt(input_txt, idfs, midf)\n",
        "        ft_index_shop_val = ft_index_shop.get_nns_by_vector(vect_ft, 5)\n",
        "        for item in ft_index_shop_val:\n",
        "            title, image = index_map_shop[item]\n",
        "            bot.send_message(chat_id=update.message.chat_id, text=\"title: {} image: {}\".format(title, image))\n",
        "        return\n",
        "    vect_ft = embed_txt(input_txt, {}, 1)\n",
        "    ft_index_val, distances = ft_index.get_nns_by_vector(vect_ft, 1, include_distances=True)\n",
        "    if distances[0] > 0.2:\n",
        "        print(distances[0])\n",
        "        bot.send_message(chat_id=update.message.chat_id, text=\"Моя твоя не понимать\")\n",
        "        return\n",
        "    bot.send_message(chat_id=update.message.chat_id, text=index_map[ft_index_val[0]])\n"
      ],
      "execution_count": 33,
      "outputs": []
    },
    {
      "cell_type": "code",
      "metadata": {
        "id": "uCxgW2JzCL3T",
        "colab": {
          "base_uri": "https://localhost:8080/"
        },
        "outputId": "ea6405ab-4632-47fa-86f4-803a65197b0d"
      },
      "source": [
        "# Хендлеры\n",
        "start_command_handler = CommandHandler('start', startCommand)\n",
        "text_message_handler = MessageHandler(Filters.text, textMessage)\n",
        "# Добавляем хендлеры в диспатчер\n",
        "dispatcher.add_handler(start_command_handler)\n",
        "dispatcher.add_handler(text_message_handler)\n",
        "# Начинаем поиск обновлений\n",
        "updater.start_polling(clean=True)\n",
        "# Останавливаем бота на Ctrl + C\n",
        "updater.idle()"
      ],
      "execution_count": 34,
      "outputs": [
        {
          "output_type": "stream",
          "text": [
            "No error handlers are registered, logging exception.\n",
            "Traceback (most recent call last):\n",
            "  File \"/usr/local/lib/python3.6/dist-packages/telegram/ext/dispatcher.py\", line 432, in process_update\n",
            "    handler.handle_update(update, self, check, context)\n",
            "  File \"/usr/local/lib/python3.6/dist-packages/telegram/ext/handler.py\", line 156, in handle_update\n",
            "    return self.callback(update, context)\n",
            "  File \"<ipython-input-33-de1fac5b6c3e>\", line 3, in textMessage\n",
            "    input_txt = preprocess_txt(update.message.text)\n",
            "AttributeError: 'CallbackContext' object has no attribute 'message'\n",
            "No error handlers are registered, logging exception.\n",
            "Traceback (most recent call last):\n",
            "  File \"/usr/local/lib/python3.6/dist-packages/telegram/ext/dispatcher.py\", line 432, in process_update\n",
            "    handler.handle_update(update, self, check, context)\n",
            "  File \"/usr/local/lib/python3.6/dist-packages/telegram/ext/handler.py\", line 156, in handle_update\n",
            "    return self.callback(update, context)\n",
            "  File \"<ipython-input-33-de1fac5b6c3e>\", line 3, in textMessage\n",
            "    input_txt = preprocess_txt(update.message.text)\n",
            "AttributeError: 'CallbackContext' object has no attribute 'message'\n"
          ],
          "name": "stderr"
        }
      ]
    }
  ]
}